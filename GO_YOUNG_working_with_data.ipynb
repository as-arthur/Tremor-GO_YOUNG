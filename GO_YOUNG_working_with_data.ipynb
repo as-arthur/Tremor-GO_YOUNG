{
  "nbformat": 4,
  "nbformat_minor": 0,
  "metadata": {
    "colab": {
      "provenance": [],
      "toc_visible": true,
      "authorship_tag": "ABX9TyNgphgI8tk8008peDxS4GqM",
      "include_colab_link": true
    },
    "kernelspec": {
      "name": "python3",
      "display_name": "Python 3"
    },
    "language_info": {
      "name": "python"
    }
  },
  "cells": [
    {
      "cell_type": "markdown",
      "metadata": {
        "id": "view-in-github",
        "colab_type": "text"
      },
      "source": [
        "<a href=\"https://colab.research.google.com/github/as-arthur/Tremor-GO_YOUNG/blob/main/GO_YOUNG_working_with_data.ipynb\" target=\"_parent\"><img src=\"https://colab.research.google.com/assets/colab-badge.svg\" alt=\"Open In Colab\"/></a>"
      ]
    },
    {
      "cell_type": "markdown",
      "source": [
        "# Importing\n"
      ],
      "metadata": {
        "id": "r2dpaMw6x-1L"
      }
    },
    {
      "cell_type": "code",
      "execution_count": 46,
      "metadata": {
        "id": "iKYQpHWxvNJi"
      },
      "outputs": [],
      "source": [
        "import pandas as pd\n",
        "import glob\n",
        "import os"
      ]
    },
    {
      "cell_type": "markdown",
      "source": [
        "# Load dataset"
      ],
      "metadata": {
        "id": "ss_ZZ9g7yClC"
      }
    },
    {
      "cell_type": "code",
      "source": [
        "!git clone https://github.com/as-arthur/Tremor-GO_YOUNG.git"
      ],
      "metadata": {
        "colab": {
          "base_uri": "https://localhost:8080/"
        },
        "id": "oq3nGgl51zL3",
        "outputId": "e9f57324-00de-4c5e-aa3b-e1ef219fff5d"
      },
      "execution_count": 47,
      "outputs": [
        {
          "output_type": "stream",
          "name": "stdout",
          "text": [
            "fatal: destination path 'Tremor-GO_YOUNG' already exists and is not an empty directory.\n"
          ]
        }
      ]
    },
    {
      "cell_type": "code",
      "source": [
        "url = '/content/Tremor-GO_YOUNG/TrainingDataPD25'"
      ],
      "metadata": {
        "id": "u82d7V6ZyIiP"
      },
      "execution_count": 48,
      "outputs": []
    },
    {
      "cell_type": "code",
      "source": [
        "train_activities_df = pd.read_csv(url + '/TrainActivities.csv')\n",
        "train_activities_df.info()"
      ],
      "metadata": {
        "colab": {
          "base_uri": "https://localhost:8080/"
        },
        "id": "GmZDBW3ZzD6D",
        "outputId": "79287fca-0daf-46b6-ec61-62e5af77d602"
      },
      "execution_count": 49,
      "outputs": [
        {
          "output_type": "stream",
          "name": "stdout",
          "text": [
            "<class 'pandas.core.frame.DataFrame'>\n",
            "RangeIndex: 342 entries, 0 to 341\n",
            "Data columns (total 7 columns):\n",
            " #   Column            Non-Null Count  Dtype \n",
            "---  ------            --------------  ----- \n",
            " 0   ID                342 non-null    int64 \n",
            " 1   Activity Type ID  342 non-null    int64 \n",
            " 2   Activity Type     342 non-null    object\n",
            " 3   Started           276 non-null    object\n",
            " 4   Finished          275 non-null    object\n",
            " 5   Updated           342 non-null    object\n",
            " 6   Subject           342 non-null    object\n",
            "dtypes: int64(2), object(5)\n",
            "memory usage: 18.8+ KB\n"
          ]
        }
      ]
    },
    {
      "cell_type": "code",
      "source": [
        "train_activities_df['Started'] = pd.to_datetime(train_activities_df['Started'], format='%Y/%m/%d %H:%M', errors='coerce')\n",
        "train_activities_df['Finished'] = pd.to_datetime(train_activities_df['Finished'], format='%Y/%m/%d %H:%M', errors='coerce')\n",
        "train_activities_df['Updated'] = pd.to_datetime(train_activities_df['Updated'], format='%Y/%m/%d %H:%M', errors='coerce')\n",
        "train_activities_df.info()"
      ],
      "metadata": {
        "colab": {
          "base_uri": "https://localhost:8080/"
        },
        "id": "ehwdyoOhWtfW",
        "outputId": "0aebeb7f-6fac-4c93-e816-10fff8e68d52"
      },
      "execution_count": 50,
      "outputs": [
        {
          "output_type": "stream",
          "name": "stdout",
          "text": [
            "<class 'pandas.core.frame.DataFrame'>\n",
            "RangeIndex: 342 entries, 0 to 341\n",
            "Data columns (total 7 columns):\n",
            " #   Column            Non-Null Count  Dtype         \n",
            "---  ------            --------------  -----         \n",
            " 0   ID                342 non-null    int64         \n",
            " 1   Activity Type ID  342 non-null    int64         \n",
            " 2   Activity Type     342 non-null    object        \n",
            " 3   Started           276 non-null    datetime64[ns]\n",
            " 4   Finished          275 non-null    datetime64[ns]\n",
            " 5   Updated           342 non-null    datetime64[ns]\n",
            " 6   Subject           342 non-null    object        \n",
            "dtypes: datetime64[ns](3), int64(2), object(2)\n",
            "memory usage: 18.8+ KB\n"
          ]
        }
      ]
    },
    {
      "cell_type": "markdown",
      "source": [
        "## Accelerometer Files"
      ],
      "metadata": {
        "id": "yx60_nhGAFvD"
      }
    },
    {
      "cell_type": "code",
      "source": [
        "data_header = ['activity_type_id', 'timestamp', 'x', 'y', 'z']"
      ],
      "metadata": {
        "id": "CLOa-_P1Dg_i"
      },
      "execution_count": 51,
      "outputs": []
    },
    {
      "cell_type": "code",
      "source": [
        "_1716_files = glob.glob(url + '/users_timeXYZ/users' + '/1716' + '/*.csv')\n",
        "print(_1716_files)\n",
        "len(_1716_files)"
      ],
      "metadata": {
        "colab": {
          "base_uri": "https://localhost:8080/"
        },
        "id": "Z5OHez3e3E2e",
        "outputId": "f1c72b39-8f91-491a-d041-a83a2aaae6cb"
      },
      "execution_count": 52,
      "outputs": [
        {
          "output_type": "stream",
          "name": "stdout",
          "text": [
            "['/content/Tremor-GO_YOUNG/TrainingDataPD25/users_timeXYZ/users/1716/user-acc_1716_2024-09-05T09_30_18.064+0100_7610.csv']\n"
          ]
        },
        {
          "output_type": "execute_result",
          "data": {
            "text/plain": [
              "1"
            ]
          },
          "metadata": {},
          "execution_count": 52
        }
      ]
    },
    {
      "cell_type": "code",
      "source": [
        "_2803_files = glob.glob(url + '/users_timeXYZ/users' + '/2803' + '/*.csv')\n",
        "print(_2803_files)\n",
        "len(_2803_files)"
      ],
      "metadata": {
        "colab": {
          "base_uri": "https://localhost:8080/"
        },
        "id": "gB6OqtFR_LpQ",
        "outputId": "17f65482-b480-4b27-977c-53549d74e382"
      },
      "execution_count": 53,
      "outputs": [
        {
          "output_type": "stream",
          "name": "stdout",
          "text": [
            "['/content/Tremor-GO_YOUNG/TrainingDataPD25/users_timeXYZ/users/2803/user-acc_2803_2024-09-05T16_51_54.979+0100_67284.csv', '/content/Tremor-GO_YOUNG/TrainingDataPD25/users_timeXYZ/users/2803/user-acc_2803_2024-09-08T23_35_57.272+0100_83208.csv', '/content/Tremor-GO_YOUNG/TrainingDataPD25/users_timeXYZ/users/2803/user-acc_2803_2024-09-05T16_52_16.750+0100_55542.csv', '/content/Tremor-GO_YOUNG/TrainingDataPD25/users_timeXYZ/users/2803/user-acc_2803_2024-09-08T23_46_45.628+0100_60354.csv', '/content/Tremor-GO_YOUNG/TrainingDataPD25/users_timeXYZ/users/2803/user-acc_2803_2024-09-05T17_34_57.121+0100_57088.csv', '/content/Tremor-GO_YOUNG/TrainingDataPD25/users_timeXYZ/users/2803/user-acc_2803_2024-09-08T23_47_07.396+0100_94382.csv', '/content/Tremor-GO_YOUNG/TrainingDataPD25/users_timeXYZ/users/2803/user-acc_2803_2024-09-05T16_49_50.582+0100_22391.csv', '/content/Tremor-GO_YOUNG/TrainingDataPD25/users_timeXYZ/users/2803/user-acc_2803_2024-09-05T09_31_00.944+0100_57924.csv', '/content/Tremor-GO_YOUNG/TrainingDataPD25/users_timeXYZ/users/2803/user-acc_2803_2024-09-05T16_49_18.191+0100_82999.csv', '/content/Tremor-GO_YOUNG/TrainingDataPD25/users_timeXYZ/users/2803/user-acc_2803_2024-09-05T09_30_18.064+0100_7610.csv', '/content/Tremor-GO_YOUNG/TrainingDataPD25/users_timeXYZ/users/2803/user-acc_2803_2024-09-05T16_54_49.592+0100_14102.csv']\n"
          ]
        },
        {
          "output_type": "execute_result",
          "data": {
            "text/plain": [
              "11"
            ]
          },
          "metadata": {},
          "execution_count": 53
        }
      ]
    },
    {
      "cell_type": "code",
      "source": [
        "_2804_files = glob.glob(url + '/users_timeXYZ/users' + '/2804' + '/*.csv')\n",
        "print(_2804_files)\n",
        "len(_2804_files )"
      ],
      "metadata": {
        "colab": {
          "base_uri": "https://localhost:8080/"
        },
        "id": "2uczab6p_OlD",
        "outputId": "0d50da63-53ad-4f41-b5f3-fc506e4ee43e"
      },
      "execution_count": 54,
      "outputs": [
        {
          "output_type": "stream",
          "name": "stdout",
          "text": [
            "['/content/Tremor-GO_YOUNG/TrainingDataPD25/users_timeXYZ/users/2804/user-acc_2804_2024-09-03T12_07_49.773+0100_50098.csv', '/content/Tremor-GO_YOUNG/TrainingDataPD25/users_timeXYZ/users/2804/user-acc_2804_2024-09-01T22_30_52.164+0100_15246.csv', '/content/Tremor-GO_YOUNG/TrainingDataPD25/users_timeXYZ/users/2804/user-acc_2804_2024-09-03T11_29_15.955+0100_9429.csv', '/content/Tremor-GO_YOUNG/TrainingDataPD25/users_timeXYZ/users/2804/user-acc_2804_2024-09-03T12_07_28.038+0100_53661.csv', '/content/Tremor-GO_YOUNG/TrainingDataPD25/users_timeXYZ/users/2804/user-acc_2804_2024-09-03T11_58_55.697+0100_13059.csv', '/content/Tremor-GO_YOUNG/TrainingDataPD25/users_timeXYZ/users/2804/user-acc_2804_2024-09-03T11_48_44.755+0100_5752.csv', '/content/Tremor-GO_YOUNG/TrainingDataPD25/users_timeXYZ/users/2804/user-acc_2804_2024-09-01T22_26_21.713+0100_51578.csv', '/content/Tremor-GO_YOUNG/TrainingDataPD25/users_timeXYZ/users/2804/user-acc_2804_2024-09-01T22_25_40.061+0100_56045.csv', '/content/Tremor-GO_YOUNG/TrainingDataPD25/users_timeXYZ/users/2804/user-acc_2804_2024-09-03T11_59_39.184+0100_51829.csv', '/content/Tremor-GO_YOUNG/TrainingDataPD25/users_timeXYZ/users/2804/user-acc_2804_2024-09-03T11_55_19.726+0100_1598.csv', '/content/Tremor-GO_YOUNG/TrainingDataPD25/users_timeXYZ/users/2804/user-acc_2804_2024-09-03T11_58_12.262+0100_98393.csv', '/content/Tremor-GO_YOUNG/TrainingDataPD25/users_timeXYZ/users/2804/user-acc_2804_2024-09-01T22_39_34.811+0100_32165.csv', '/content/Tremor-GO_YOUNG/TrainingDataPD25/users_timeXYZ/users/2804/user-acc_2804_2024-09-03T11_33_08.368+0100_65805.csv', '/content/Tremor-GO_YOUNG/TrainingDataPD25/users_timeXYZ/users/2804/user-acc_2804_2024-09-03T11_31_00.695+0100_3173.csv', '/content/Tremor-GO_YOUNG/TrainingDataPD25/users_timeXYZ/users/2804/user-acc_2804_2024-09-03T11_35_27.598+0100_53914.csv', '/content/Tremor-GO_YOUNG/TrainingDataPD25/users_timeXYZ/users/2804/user-acc_2804_2024-09-03T11_49_06.507+0100_40291.csv', '/content/Tremor-GO_YOUNG/TrainingDataPD25/users_timeXYZ/users/2804/user-acc_2804_2024-09-03T11_34_00.882+0100_56263.csv', '/content/Tremor-GO_YOUNG/TrainingDataPD25/users_timeXYZ/users/2804/user-acc_2804_2024-09-01T22_38_09.220+0100_42723.csv', '/content/Tremor-GO_YOUNG/TrainingDataPD25/users_timeXYZ/users/2804/user-acc_2804_2024-09-03T11_56_23.343+0100_31125.csv', '/content/Tremor-GO_YOUNG/TrainingDataPD25/users_timeXYZ/users/2804/user-acc_2804_2024-09-03T11_59_17.522+0100_54071.csv', '/content/Tremor-GO_YOUNG/TrainingDataPD25/users_timeXYZ/users/2804/user-acc_2804_2024-09-03T11_38_21.163+0100_65020.csv', '/content/Tremor-GO_YOUNG/TrainingDataPD25/users_timeXYZ/users/2804/user-acc_2804_2024-09-03T12_06_02.889+0100_37787.csv', '/content/Tremor-GO_YOUNG/TrainingDataPD25/users_timeXYZ/users/2804/user-acc_2804_2024-09-03T11_50_55.179+0100_24303.csv', '/content/Tremor-GO_YOUNG/TrainingDataPD25/users_timeXYZ/users/2804/user-acc_2804_2024-09-03T12_08_54.902+0100_83696.csv', '/content/Tremor-GO_YOUNG/TrainingDataPD25/users_timeXYZ/users/2804/user-acc_2804_2024-09-05T09_55_24.378+0100_6563.csv', '/content/Tremor-GO_YOUNG/TrainingDataPD25/users_timeXYZ/users/2804/user-acc_2804_2024-09-03T11_57_06.833+0100_56865.csv', '/content/Tremor-GO_YOUNG/TrainingDataPD25/users_timeXYZ/users/2804/user-acc_2804_2024-09-03T11_33_00.248+0100_20352.csv', '/content/Tremor-GO_YOUNG/TrainingDataPD25/users_timeXYZ/users/2804/user-acc_2804_2024-09-01T22_38_52.026+0100_53630.csv', '/content/Tremor-GO_YOUNG/TrainingDataPD25/users_timeXYZ/users/2804/user-acc_2804_2024-09-03T11_57_50.418+0100_14597.csv', '/content/Tremor-GO_YOUNG/TrainingDataPD25/users_timeXYZ/users/2804/user-acc_2804_2024-09-03T11_51_43.215+0100_94235.csv', '/content/Tremor-GO_YOUNG/TrainingDataPD25/users_timeXYZ/users/2804/user-acc_2804_2024-09-03T11_58_33.942+0100_6786.csv', '/content/Tremor-GO_YOUNG/TrainingDataPD25/users_timeXYZ/users/2804/user-acc_2804_2024-09-01T22_27_45.075+0100_70883.csv', '/content/Tremor-GO_YOUNG/TrainingDataPD25/users_timeXYZ/users/2804/user-acc_2804_2024-09-01T22_36_23.523+0100_68820.csv', '/content/Tremor-GO_YOUNG/TrainingDataPD25/users_timeXYZ/users/2804/user-acc_2804_2024-09-03T11_54_36.056+0100_3794.csv', '/content/Tremor-GO_YOUNG/TrainingDataPD25/users_timeXYZ/users/2804/user-acc_2804_2024-09-03T12_00_22.868+0100_93915.csv', '/content/Tremor-GO_YOUNG/TrainingDataPD25/users_timeXYZ/users/2804/user-acc_2804_2024-09-03T11_46_56.044+0100_9675.csv', '/content/Tremor-GO_YOUNG/TrainingDataPD25/users_timeXYZ/users/2804/user-acc_2804_2024-09-03T11_53_52.562+0100_46297.csv', '/content/Tremor-GO_YOUNG/TrainingDataPD25/users_timeXYZ/users/2804/user-acc_2804_2024-09-03T12_12_51.738+0100_73878.csv', '/content/Tremor-GO_YOUNG/TrainingDataPD25/users_timeXYZ/users/2804/user-acc_2804_2024-09-03T11_46_34.326+0100_30580.csv', '/content/Tremor-GO_YOUNG/TrainingDataPD25/users_timeXYZ/users/2804/user-acc_2804_2024-09-05T10_18_29.150+0100_6328.csv', '/content/Tremor-GO_YOUNG/TrainingDataPD25/users_timeXYZ/users/2804/user-acc_2804_2024-09-03T12_04_17.548+0100_9194.csv', '/content/Tremor-GO_YOUNG/TrainingDataPD25/users_timeXYZ/users/2804/user-acc_2804_2024-09-03T12_00_44.607+0100_64269.csv', '/content/Tremor-GO_YOUNG/TrainingDataPD25/users_timeXYZ/users/2804/user-acc_2804_2024-09-01T22_30_09.276+0100_28982.csv', '/content/Tremor-GO_YOUNG/TrainingDataPD25/users_timeXYZ/users/2804/user-acc_2804_2024-09-03T11_44_03.097+0100_45743.csv', '/content/Tremor-GO_YOUNG/TrainingDataPD25/users_timeXYZ/users/2804/user-acc_2804_2024-09-03T11_44_24.839+0100_38446.csv', '/content/Tremor-GO_YOUNG/TrainingDataPD25/users_timeXYZ/users/2804/user-acc_2804_2024-09-03T11_42_14.491+0100_87278.csv', '/content/Tremor-GO_YOUNG/TrainingDataPD25/users_timeXYZ/users/2804/user-acc_2804_2024-09-01T22_31_13.624+0100_61716.csv', '/content/Tremor-GO_YOUNG/TrainingDataPD25/users_timeXYZ/users/2804/user-acc_2804_2024-09-03T11_50_11.684+0100_98956.csv', '/content/Tremor-GO_YOUNG/TrainingDataPD25/users_timeXYZ/users/2804/user-acc_2804_2024-09-03T12_09_38.357+0100_92630.csv', '/content/Tremor-GO_YOUNG/TrainingDataPD25/users_timeXYZ/users/2804/user-acc_2804_2024-09-03T11_50_33.341+0100_11477.csv', '/content/Tremor-GO_YOUNG/TrainingDataPD25/users_timeXYZ/users/2804/user-acc_2804_2024-09-05T10_17_24.417+0100_14878.csv', '/content/Tremor-GO_YOUNG/TrainingDataPD25/users_timeXYZ/users/2804/user-acc_2804_2024-09-03T11_40_05.933+0100_34969.csv', '/content/Tremor-GO_YOUNG/TrainingDataPD25/users_timeXYZ/users/2804/user-acc_2804_2024-09-01T22_38_30.607+0100_66964.csv', '/content/Tremor-GO_YOUNG/TrainingDataPD25/users_timeXYZ/users/2804/user-acc_2804_2024-09-03T12_02_11.492+0100_57099.csv', '/content/Tremor-GO_YOUNG/TrainingDataPD25/users_timeXYZ/users/2804/user-acc_2804_2024-09-03T12_02_54.912+0100_73862.csv', '/content/Tremor-GO_YOUNG/TrainingDataPD25/users_timeXYZ/users/2804/user-acc_2804_2024-09-03T11_42_36.166+0100_53921.csv', '/content/Tremor-GO_YOUNG/TrainingDataPD25/users_timeXYZ/users/2804/user-acc_2804_2024-09-03T11_40_27.640+0100_10091.csv', '/content/Tremor-GO_YOUNG/TrainingDataPD25/users_timeXYZ/users/2804/user-acc_2804_2024-09-03T11_36_33.090+0100_86174.csv', '/content/Tremor-GO_YOUNG/TrainingDataPD25/users_timeXYZ/users/2804/user-acc_2804_2024-09-03T11_52_25.976+0100_8165.csv', '/content/Tremor-GO_YOUNG/TrainingDataPD25/users_timeXYZ/users/2804/user-acc_2804_2024-09-03T11_47_39.438+0100_8857.csv', '/content/Tremor-GO_YOUNG/TrainingDataPD25/users_timeXYZ/users/2804/user-acc_2804_2024-09-03T12_10_00.095+0100_10763.csv', '/content/Tremor-GO_YOUNG/TrainingDataPD25/users_timeXYZ/users/2804/user-acc_2804_2024-09-03T12_12_08.102+0100_79779.csv', '/content/Tremor-GO_YOUNG/TrainingDataPD25/users_timeXYZ/users/2804/user-acc_2804_2024-09-03T11_37_59.257+0100_44613.csv', '/content/Tremor-GO_YOUNG/TrainingDataPD25/users_timeXYZ/users/2804/user-acc_2804_2024-09-03T12_07_06.417+0100_86728.csv', '/content/Tremor-GO_YOUNG/TrainingDataPD25/users_timeXYZ/users/2804/user-acc_2804_2024-09-03T11_31_22.452+0100_26173.csv', '/content/Tremor-GO_YOUNG/TrainingDataPD25/users_timeXYZ/users/2804/user-acc_2804_2024-09-03T11_54_57.892+0100_17226.csv', '/content/Tremor-GO_YOUNG/TrainingDataPD25/users_timeXYZ/users/2804/user-acc_2804_2024-09-03T11_40_49.506+0100_7639.csv', '/content/Tremor-GO_YOUNG/TrainingDataPD25/users_timeXYZ/users/2804/user-acc_2804_2024-09-01T22_32_16.538+0100_8507.csv', '/content/Tremor-GO_YOUNG/TrainingDataPD25/users_timeXYZ/users/2804/user-acc_2804_2024-09-01T22_35_01.129+0100_99986.csv', '/content/Tremor-GO_YOUNG/TrainingDataPD25/users_timeXYZ/users/2804/user-acc_2804_2024-09-01T22_25_07.752+0100_23724.csv', '/content/Tremor-GO_YOUNG/TrainingDataPD25/users_timeXYZ/users/2804/user-acc_2804_2024-09-01T22_31_55.058+0100_11525.csv', '/content/Tremor-GO_YOUNG/TrainingDataPD25/users_timeXYZ/users/2804/user-acc_2804_2024-09-03T12_01_06.215+0100_62678.csv', '/content/Tremor-GO_YOUNG/TrainingDataPD25/users_timeXYZ/users/2804/user-acc_2804_2024-09-01T22_27_26.142+0100_31846.csv', '/content/Tremor-GO_YOUNG/TrainingDataPD25/users_timeXYZ/users/2804/user-acc_2804_2024-09-03T11_43_19.589+0100_15806.csv', '/content/Tremor-GO_YOUNG/TrainingDataPD25/users_timeXYZ/users/2804/user-acc_2804_2024-09-03T11_36_54.781+0100_81581.csv', '/content/Tremor-GO_YOUNG/TrainingDataPD25/users_timeXYZ/users/2804/user-acc_2804_2024-09-03T11_49_28.316+0100_55836.csv', '/content/Tremor-GO_YOUNG/TrainingDataPD25/users_timeXYZ/users/2804/user-acc_2804_2024-09-01T22_39_13.449+0100_81024.csv', '/content/Tremor-GO_YOUNG/TrainingDataPD25/users_timeXYZ/users/2804/user-acc_2804_2024-09-01T22_36_45.062+0100_71964.csv', '/content/Tremor-GO_YOUNG/TrainingDataPD25/users_timeXYZ/users/2804/user-acc_2804_2024-09-03T11_48_01.148+0100_72215.csv', '/content/Tremor-GO_YOUNG/TrainingDataPD25/users_timeXYZ/users/2804/user-acc_2804_2024-09-03T12_09_16.691+0100_23612.csv', '/content/Tremor-GO_YOUNG/TrainingDataPD25/users_timeXYZ/users/2804/user-acc_2804_2024-09-03T11_55_41.483+0100_47563.csv', '/content/Tremor-GO_YOUNG/TrainingDataPD25/users_timeXYZ/users/2804/user-acc_2804_2024-09-03T12_10_41.898+0100_70865.csv', '/content/Tremor-GO_YOUNG/TrainingDataPD25/users_timeXYZ/users/2804/user-acc_2804_2024-09-03T11_28_54.226+0100_97351.csv', '/content/Tremor-GO_YOUNG/TrainingDataPD25/users_timeXYZ/users/2804/user-acc_2804_2024-09-03T12_08_33.231+0100_29113.csv', '/content/Tremor-GO_YOUNG/TrainingDataPD25/users_timeXYZ/users/2804/user-acc_2804_2024-09-03T11_48_22.964+0100_44042.csv', '/content/Tremor-GO_YOUNG/TrainingDataPD25/users_timeXYZ/users/2804/user-acc_2804_2024-09-03T11_54_14.396+0100_97324.csv', '/content/Tremor-GO_YOUNG/TrainingDataPD25/users_timeXYZ/users/2804/user-acc_2804_2024-09-03T11_44_46.611+0100_13350.csv', '/content/Tremor-GO_YOUNG/TrainingDataPD25/users_timeXYZ/users/2804/user-acc_2804_2024-09-05T10_18_07.476+0100_31818.csv', '/content/Tremor-GO_YOUNG/TrainingDataPD25/users_timeXYZ/users/2804/user-acc_2804_2024-09-01T22_35_40.546+0100_11741.csv', '/content/Tremor-GO_YOUNG/TrainingDataPD25/users_timeXYZ/users/2804/user-acc_2804_2024-09-03T11_51_39.857+0100_40214.csv', '/content/Tremor-GO_YOUNG/TrainingDataPD25/users_timeXYZ/users/2804/user-acc_2804_2024-09-03T11_43_41.442+0100_58201.csv', '/content/Tremor-GO_YOUNG/TrainingDataPD25/users_timeXYZ/users/2804/user-acc_2804_2024-09-03T11_45_51.020+0100_56617.csv', '/content/Tremor-GO_YOUNG/TrainingDataPD25/users_timeXYZ/users/2804/user-acc_2804_2024-09-03T11_32_05.527+0100_25746.csv', '/content/Tremor-GO_YOUNG/TrainingDataPD25/users_timeXYZ/users/2804/user-acc_2804_2024-09-03T11_53_09.186+0100_29813.csv', '/content/Tremor-GO_YOUNG/TrainingDataPD25/users_timeXYZ/users/2804/user-acc_2804_2024-09-03T11_32_27.141+0100_88568.csv', '/content/Tremor-GO_YOUNG/TrainingDataPD25/users_timeXYZ/users/2804/user-acc_2804_2024-09-03T11_56_45.193+0100_52494.csv', '/content/Tremor-GO_YOUNG/TrainingDataPD25/users_timeXYZ/users/2804/user-acc_2804_2024-09-03T11_57_28.635+0100_51830.csv', '/content/Tremor-GO_YOUNG/TrainingDataPD25/users_timeXYZ/users/2804/user-acc_2804_2024-09-03T11_36_11.203+0100_39753.csv', '/content/Tremor-GO_YOUNG/TrainingDataPD25/users_timeXYZ/users/2804/user-acc_2804_2024-09-03T12_02_33.195+0100_56677.csv', '/content/Tremor-GO_YOUNG/TrainingDataPD25/users_timeXYZ/users/2804/user-acc_2804_2024-09-03T12_01_49.658+0100_88612.csv', '/content/Tremor-GO_YOUNG/TrainingDataPD25/users_timeXYZ/users/2804/user-acc_2804_2024-09-03T12_04_39.253+0100_30151.csv', '/content/Tremor-GO_YOUNG/TrainingDataPD25/users_timeXYZ/users/2804/user-acc_2804_2024-09-03T11_39_43.865+0100_21225.csv', '/content/Tremor-GO_YOUNG/TrainingDataPD25/users_timeXYZ/users/2804/user-acc_2804_2024-09-03T12_12_29.930+0100_83476.csv', '/content/Tremor-GO_YOUNG/TrainingDataPD25/users_timeXYZ/users/2804/user-acc_2804_2024-09-01T22_28_09.889+0100_18183.csv', '/content/Tremor-GO_YOUNG/TrainingDataPD25/users_timeXYZ/users/2804/user-acc_2804_2024-09-03T12_01_27.932+0100_47330.csv', '/content/Tremor-GO_YOUNG/TrainingDataPD25/users_timeXYZ/users/2804/user-acc_2804_2024-09-03T12_05_01.052+0100_86814.csv', '/content/Tremor-GO_YOUNG/TrainingDataPD25/users_timeXYZ/users/2804/user-acc_2804_2024-09-03T11_35_49.498+0100_35928.csv', '/content/Tremor-GO_YOUNG/TrainingDataPD25/users_timeXYZ/users/2804/user-acc_2804_2024-09-03T11_33_51.835+0100_59615.csv', '/content/Tremor-GO_YOUNG/TrainingDataPD25/users_timeXYZ/users/2804/user-acc_2804_2024-09-03T11_45_29.251+0100_63551.csv', '/content/Tremor-GO_YOUNG/TrainingDataPD25/users_timeXYZ/users/2804/user-acc_2804_2024-09-03T11_46_12.674+0100_18032.csv', '/content/Tremor-GO_YOUNG/TrainingDataPD25/users_timeXYZ/users/2804/user-acc_2804_2024-09-03T12_00_01.202+0100_50076.csv', '/content/Tremor-GO_YOUNG/TrainingDataPD25/users_timeXYZ/users/2804/user-acc_2804_2024-09-03T12_11_24.696+0100_29004.csv', '/content/Tremor-GO_YOUNG/TrainingDataPD25/users_timeXYZ/users/2804/user-acc_2804_2024-09-03T11_49_49.980+0100_86767.csv', '/content/Tremor-GO_YOUNG/TrainingDataPD25/users_timeXYZ/users/2804/user-acc_2804_2024-09-03T11_41_31.217+0100_21930.csv', '/content/Tremor-GO_YOUNG/TrainingDataPD25/users_timeXYZ/users/2804/user-acc_2804_2024-09-01T22_37_06.350+0100_22358.csv', '/content/Tremor-GO_YOUNG/TrainingDataPD25/users_timeXYZ/users/2804/user-acc_2804_2024-09-01T22_26_43.341+0100_29879.csv', '/content/Tremor-GO_YOUNG/TrainingDataPD25/users_timeXYZ/users/2804/user-acc_2804_2024-09-03T12_11_46.327+0100_82172.csv', '/content/Tremor-GO_YOUNG/TrainingDataPD25/users_timeXYZ/users/2804/user-acc_2804_2024-09-01T22_27_04.667+0100_70154.csv', '/content/Tremor-GO_YOUNG/TrainingDataPD25/users_timeXYZ/users/2804/user-acc_2804_2024-09-03T11_32_38.424+0100_4968.csv', '/content/Tremor-GO_YOUNG/TrainingDataPD25/users_timeXYZ/users/2804/user-acc_2804_2024-09-03T11_37_37.445+0100_60206.csv', '/content/Tremor-GO_YOUNG/TrainingDataPD25/users_timeXYZ/users/2804/user-acc_2804_2024-09-01T22_36_02.158+0100_36578.csv', '/content/Tremor-GO_YOUNG/TrainingDataPD25/users_timeXYZ/users/2804/user-acc_2804_2024-09-01T22_37_47.723+0100_76275.csv', '/content/Tremor-GO_YOUNG/TrainingDataPD25/users_timeXYZ/users/2804/user-acc_2804_2024-09-03T11_29_37.566+0100_62728.csv', '/content/Tremor-GO_YOUNG/TrainingDataPD25/users_timeXYZ/users/2804/user-acc_2804_2024-09-03T12_08_11.412+0100_13625.csv', '/content/Tremor-GO_YOUNG/TrainingDataPD25/users_timeXYZ/users/2804/user-acc_2804_2024-09-01T22_28_27.653+0100_64158.csv', '/content/Tremor-GO_YOUNG/TrainingDataPD25/users_timeXYZ/users/2804/user-acc_2804_2024-09-03T11_28_32.491+0100_98532.csv', '/content/Tremor-GO_YOUNG/TrainingDataPD25/users_timeXYZ/users/2804/user-acc_2804_2024-09-03T11_28_10.640+0100_30754.csv', '/content/Tremor-GO_YOUNG/TrainingDataPD25/users_timeXYZ/users/2804/user-acc_2804_2024-09-03T12_06_44.670+0100_45144.csv', '/content/Tremor-GO_YOUNG/TrainingDataPD25/users_timeXYZ/users/2804/user-acc_2804_2024-09-03T11_41_52.795+0100_51242.csv', '/content/Tremor-GO_YOUNG/TrainingDataPD25/users_timeXYZ/users/2804/user-acc_2804_2024-09-03T11_35_05.989+0100_18648.csv', '/content/Tremor-GO_YOUNG/TrainingDataPD25/users_timeXYZ/users/2804/user-acc_2804_2024-09-01T22_39_56.251+0100_44045.csv', '/content/Tremor-GO_YOUNG/TrainingDataPD25/users_timeXYZ/users/2804/user-acc_2804_2024-09-03T11_47_17.717+0100_88987.csv', '/content/Tremor-GO_YOUNG/TrainingDataPD25/users_timeXYZ/users/2804/user-acc_2804_2024-09-03T11_51_16.813+0100_88637.csv', '/content/Tremor-GO_YOUNG/TrainingDataPD25/users_timeXYZ/users/2804/user-acc_2804_2024-09-03T11_27_27.606+0100_45098.csv', '/content/Tremor-GO_YOUNG/TrainingDataPD25/users_timeXYZ/users/2804/user-acc_2804_2024-09-03T11_42_57.899+0100_51805.csv']\n"
          ]
        },
        {
          "output_type": "execute_result",
          "data": {
            "text/plain": [
              "135"
            ]
          },
          "metadata": {},
          "execution_count": 54
        }
      ]
    },
    {
      "cell_type": "code",
      "source": [
        "_2805_files = glob.glob(url + '/users_timeXYZ/users' + '/2805' + '/*.csv')\n",
        "print(_2805_files)\n",
        "len(_2804_files )"
      ],
      "metadata": {
        "colab": {
          "base_uri": "https://localhost:8080/"
        },
        "id": "EORHpUQJ_QaM",
        "outputId": "81a384bf-d86c-405e-c22f-0b7576a613a0"
      },
      "execution_count": 55,
      "outputs": [
        {
          "output_type": "stream",
          "name": "stdout",
          "text": [
            "['/content/Tremor-GO_YOUNG/TrainingDataPD25/users_timeXYZ/users/2805/user-acc_2805_2024-09-05T09_25_38.866+0100_38506.csv', '/content/Tremor-GO_YOUNG/TrainingDataPD25/users_timeXYZ/users/2805/user-acc_2805_2024-09-05T09_26_52.196+0100_1851.csv', '/content/Tremor-GO_YOUNG/TrainingDataPD25/users_timeXYZ/users/2805/user-acc_2805_2024-09-01T22_53_40.517+0100_67691.csv', '/content/Tremor-GO_YOUNG/TrainingDataPD25/users_timeXYZ/users/2805/user-acc_2805_2024-09-01T22_51_56.070+0100_14299.csv', '/content/Tremor-GO_YOUNG/TrainingDataPD25/users_timeXYZ/users/2805/user-acc_2805_2024-09-01T22_54_02.224+0100_56762.csv', '/content/Tremor-GO_YOUNG/TrainingDataPD25/users_timeXYZ/users/2805/user-acc_2805_2024-09-05T09_33_10.685+0100_85029.csv', '/content/Tremor-GO_YOUNG/TrainingDataPD25/users_timeXYZ/users/2805/user-acc_2805_2024-09-03T13_19_24.635+0100_25638.csv', '/content/Tremor-GO_YOUNG/TrainingDataPD25/users_timeXYZ/users/2805/user-acc_2805_2024-09-01T22_39_56.251+0100_44045.csv', '/content/Tremor-GO_YOUNG/TrainingDataPD25/users_timeXYZ/users/2805/user-acc_2805_2024-09-01T22_50_04.006+0100_27581.csv', '/content/Tremor-GO_YOUNG/TrainingDataPD25/users_timeXYZ/users/2805/user-acc_2805_2024-09-03T11_20_26.406+0100_94820.csv', '/content/Tremor-GO_YOUNG/TrainingDataPD25/users_timeXYZ/users/2805/user-acc_2805_2024-09-01T22_52_17.788+0100_75870.csv', '/content/Tremor-GO_YOUNG/TrainingDataPD25/users_timeXYZ/users/2805/user-acc_2805_2024-09-01T22_44_26.653+0100_98452.csv', '/content/Tremor-GO_YOUNG/TrainingDataPD25/users_timeXYZ/users/2805/user-acc_2805_2024-09-03T11_18_01.743+0100_39581.csv', '/content/Tremor-GO_YOUNG/TrainingDataPD25/users_timeXYZ/users/2805/user-acc_2805_2024-09-05T09_17_11.534+0100_86178.csv', '/content/Tremor-GO_YOUNG/TrainingDataPD25/users_timeXYZ/users/2805/user-acc_2805_2024-09-05T09_28_47.007+0100_94241.csv', '/content/Tremor-GO_YOUNG/TrainingDataPD25/users_timeXYZ/users/2805/user-acc_2805_2024-09-01T22_55_43.654+0100_73935.csv', '/content/Tremor-GO_YOUNG/TrainingDataPD25/users_timeXYZ/users/2805/user-acc_2805_2024-09-05T09_29_49.124+0100_80088.csv', '/content/Tremor-GO_YOUNG/TrainingDataPD25/users_timeXYZ/users/2805/user-acc_2805_2024-09-03T13_19_46.417+0100_12967.csv', '/content/Tremor-GO_YOUNG/TrainingDataPD25/users_timeXYZ/users/2805/user-acc_2805_2024-09-01T23_01_49.600+0100_61050.csv', '/content/Tremor-GO_YOUNG/TrainingDataPD25/users_timeXYZ/users/2805/user-acc_2805_2024-09-05T09_30_15.765+0100_55195.csv', '/content/Tremor-GO_YOUNG/TrainingDataPD25/users_timeXYZ/users/2805/user-acc_2805_2024-09-01T22_45_09.344+0100_26558.csv', '/content/Tremor-GO_YOUNG/TrainingDataPD25/users_timeXYZ/users/2805/user-acc_2805_2024-09-05T09_29_27.930+0100_21865.csv', '/content/Tremor-GO_YOUNG/TrainingDataPD25/users_timeXYZ/users/2805/user-acc_2805_2024-09-01T22_58_12.260+0100_2845.csv', '/content/Tremor-GO_YOUNG/TrainingDataPD25/users_timeXYZ/users/2805/user-acc_2805_2024-09-01T22_47_39.399+0100_88759.csv', '/content/Tremor-GO_YOUNG/TrainingDataPD25/users_timeXYZ/users/2805/user-acc_2805_2024-09-01T22_52_39.163+0100_9925.csv', '/content/Tremor-GO_YOUNG/TrainingDataPD25/users_timeXYZ/users/2805/user-acc_2805_2024-09-01T22_40_37.625+0100_50365.csv', '/content/Tremor-GO_YOUNG/TrainingDataPD25/users_timeXYZ/users/2805/user-acc_2805_2024-09-01T22_59_58.734+0100_85024.csv', '/content/Tremor-GO_YOUNG/TrainingDataPD25/users_timeXYZ/users/2805/user-acc_2805_2024-09-01T22_44_47.964+0100_68607.csv', '/content/Tremor-GO_YOUNG/TrainingDataPD25/users_timeXYZ/users/2805/user-acc_2805_2024-09-05T09_26_25.299+0100_93682.csv', '/content/Tremor-GO_YOUNG/TrainingDataPD25/users_timeXYZ/users/2805/user-acc_2805_2024-09-01T22_43_22.249+0100_17084.csv', '/content/Tremor-GO_YOUNG/TrainingDataPD25/users_timeXYZ/users/2805/user-acc_2805_2024-09-01T22_41_11.625+0100_84033.csv', '/content/Tremor-GO_YOUNG/TrainingDataPD25/users_timeXYZ/users/2805/user-acc_2805_2024-09-01T22_54_23.649+0100_57191.csv', '/content/Tremor-GO_YOUNG/TrainingDataPD25/users_timeXYZ/users/2805/user-acc_2805_2024-09-01T22_50_34.645+0100_16662.csv']\n"
          ]
        },
        {
          "output_type": "execute_result",
          "data": {
            "text/plain": [
              "135"
            ]
          },
          "metadata": {},
          "execution_count": 55
        }
      ]
    },
    {
      "cell_type": "code",
      "source": [
        "_2806_files = glob.glob(url + '/users_timeXYZ/users' + '/2806' + '/*.csv')\n",
        "len(_2806_files )"
      ],
      "metadata": {
        "colab": {
          "base_uri": "https://localhost:8080/"
        },
        "id": "nXfUsi5O9mXC",
        "outputId": "869d89ef-29d3-4879-9ad7-280e51736a33"
      },
      "execution_count": 56,
      "outputs": [
        {
          "output_type": "execute_result",
          "data": {
            "text/plain": [
              "29"
            ]
          },
          "metadata": {},
          "execution_count": 56
        }
      ]
    },
    {
      "cell_type": "code",
      "source": [
        "_2807_files = glob.glob(url + '/users_timeXYZ/users' + '/2807' + '/*.csv')\n",
        "len(_2807_files )"
      ],
      "metadata": {
        "colab": {
          "base_uri": "https://localhost:8080/"
        },
        "id": "Q7JwoMIL_W4L",
        "outputId": "e12cf3d4-fcba-4a72-84d3-955f57b724ba"
      },
      "execution_count": 57,
      "outputs": [
        {
          "output_type": "execute_result",
          "data": {
            "text/plain": [
              "2154"
            ]
          },
          "metadata": {},
          "execution_count": 57
        }
      ]
    },
    {
      "cell_type": "code",
      "source": [
        "_2808_files = glob.glob(url + '/users_timeXYZ/users' + '/2808' + '/*.csv')\n",
        "len(_2808_files )"
      ],
      "metadata": {
        "colab": {
          "base_uri": "https://localhost:8080/"
        },
        "id": "Rb2lV_jQ_aOp",
        "outputId": "c9fb796e-2773-4083-b25d-17a71c09aba8"
      },
      "execution_count": 58,
      "outputs": [
        {
          "output_type": "execute_result",
          "data": {
            "text/plain": [
              "47"
            ]
          },
          "metadata": {},
          "execution_count": 58
        }
      ]
    },
    {
      "cell_type": "code",
      "source": [
        "_2809_files = glob.glob(url + '/users_timeXYZ/users' + '/2809' + '/*.csv')\n",
        "len(_2809_files )"
      ],
      "metadata": {
        "colab": {
          "base_uri": "https://localhost:8080/"
        },
        "id": "bO0M6Y09_gBH",
        "outputId": "9664efdb-4794-464a-b0c0-01bc7184f21d"
      },
      "execution_count": 59,
      "outputs": [
        {
          "output_type": "execute_result",
          "data": {
            "text/plain": [
              "42"
            ]
          },
          "metadata": {},
          "execution_count": 59
        }
      ]
    },
    {
      "cell_type": "code",
      "source": [
        "_2810_files = glob.glob(url + '/users_timeXYZ/users' + '/2810' + '/*.csv')\n",
        "len(_2810_files)"
      ],
      "metadata": {
        "colab": {
          "base_uri": "https://localhost:8080/"
        },
        "id": "pZLH5r88_j0T",
        "outputId": "f71e6b33-c6b3-470a-dbb4-50b293860ca5"
      },
      "execution_count": 60,
      "outputs": [
        {
          "output_type": "execute_result",
          "data": {
            "text/plain": [
              "89"
            ]
          },
          "metadata": {},
          "execution_count": 60
        }
      ]
    },
    {
      "cell_type": "code",
      "source": [
        "_2811_files = glob.glob(url + '/users_timeXYZ/users' + '/2811' + '/*.csv')\n",
        "len(_2811_files)"
      ],
      "metadata": {
        "colab": {
          "base_uri": "https://localhost:8080/"
        },
        "id": "g38jRsfE_lkj",
        "outputId": "529ada9c-a0b6-4312-dca4-30d515313b0a"
      },
      "execution_count": 61,
      "outputs": [
        {
          "output_type": "execute_result",
          "data": {
            "text/plain": [
              "44"
            ]
          },
          "metadata": {},
          "execution_count": 61
        }
      ]
    },
    {
      "cell_type": "code",
      "source": [
        "_2812_files = glob.glob(url + '/users_timeXYZ/users' + '/2812' + '/*.csv')\n",
        "len(_2812_files)\n",
        "\n"
      ],
      "metadata": {
        "colab": {
          "base_uri": "https://localhost:8080/"
        },
        "id": "1P93pYgq_ntV",
        "outputId": "ec0ad16b-9ab1-4c38-830b-af45ff4c04a4"
      },
      "execution_count": 62,
      "outputs": [
        {
          "output_type": "execute_result",
          "data": {
            "text/plain": [
              "243"
            ]
          },
          "metadata": {},
          "execution_count": 62
        }
      ]
    },
    {
      "cell_type": "code",
      "source": [
        "_2813_files = glob.glob(url + '/users_timeXYZ/users' + '/2813' + '/*.csv')\n",
        "len(_2813_files)\n",
        "\n"
      ],
      "metadata": {
        "colab": {
          "base_uri": "https://localhost:8080/"
        },
        "id": "gDUxjD6H_pm4",
        "outputId": "bc354216-8e30-4c5a-8240-040f64bbcfca"
      },
      "execution_count": 63,
      "outputs": [
        {
          "output_type": "execute_result",
          "data": {
            "text/plain": [
              "136"
            ]
          },
          "metadata": {},
          "execution_count": 63
        }
      ]
    },
    {
      "cell_type": "code",
      "source": [
        "_2814_files = glob.glob(url + '/users_timeXYZ/users' + '/2814' + '/*.csv')\n",
        "len(_2814_files)\n",
        "\n"
      ],
      "metadata": {
        "colab": {
          "base_uri": "https://localhost:8080/"
        },
        "id": "xPLf_k7J_rSY",
        "outputId": "09e1f471-1ce6-4701-9e9b-475360ebe463"
      },
      "execution_count": 64,
      "outputs": [
        {
          "output_type": "execute_result",
          "data": {
            "text/plain": [
              "69"
            ]
          },
          "metadata": {},
          "execution_count": 64
        }
      ]
    },
    {
      "cell_type": "code",
      "source": [
        "_2815_files = glob.glob(url + '/users_timeXYZ/users' + '/2815' + '/*.csv')\n",
        "len(_2815_files)\n",
        "\n"
      ],
      "metadata": {
        "colab": {
          "base_uri": "https://localhost:8080/"
        },
        "id": "zfrcnBi7_sq9",
        "outputId": "4625902b-3064-47cf-e234-fb44ab227aaa"
      },
      "execution_count": 65,
      "outputs": [
        {
          "output_type": "execute_result",
          "data": {
            "text/plain": [
              "114"
            ]
          },
          "metadata": {},
          "execution_count": 65
        }
      ]
    },
    {
      "cell_type": "code",
      "source": [
        "_2816_files = glob.glob(url + '/users_timeXYZ/users' + '/2816' + '/*.csv')\n",
        "len(_2816_files)\n",
        "\n"
      ],
      "metadata": {
        "colab": {
          "base_uri": "https://localhost:8080/"
        },
        "id": "6D1E8Sxx_uAQ",
        "outputId": "0b3cbd2a-5e36-496c-dea8-b7e9df042bca"
      },
      "execution_count": 66,
      "outputs": [
        {
          "output_type": "execute_result",
          "data": {
            "text/plain": [
              "121"
            ]
          },
          "metadata": {},
          "execution_count": 66
        }
      ]
    },
    {
      "cell_type": "code",
      "source": [
        "_2819_files = glob.glob(url + '/users_timeXYZ/users' + '/2819' + '/*.csv')\n",
        "len(_2819_files)\n",
        "\n"
      ],
      "metadata": {
        "colab": {
          "base_uri": "https://localhost:8080/"
        },
        "id": "UwxrGe-x_u89",
        "outputId": "35756f5a-ebf5-4dd6-cb3c-48eb5f3bc2d7"
      },
      "execution_count": 67,
      "outputs": [
        {
          "output_type": "execute_result",
          "data": {
            "text/plain": [
              "4"
            ]
          },
          "metadata": {},
          "execution_count": 67
        }
      ]
    },
    {
      "cell_type": "code",
      "source": [
        "_2830_files = glob.glob(url + '/users_timeXYZ/users' + '/2830' + '/*.csv')\n",
        "len(_2830_files)\n",
        "\n"
      ],
      "metadata": {
        "colab": {
          "base_uri": "https://localhost:8080/"
        },
        "id": "yAcQa3w4_vzU",
        "outputId": "18cf0727-d37f-4dda-ba87-acd43d5a6da8"
      },
      "execution_count": 68,
      "outputs": [
        {
          "output_type": "execute_result",
          "data": {
            "text/plain": [
              "253"
            ]
          },
          "metadata": {},
          "execution_count": 68
        }
      ]
    },
    {
      "cell_type": "code",
      "source": [
        "_38_files = glob.glob(url + '/users_timeXYZ/users' + '/38' + '/*.csv')\n",
        "len(_38_files)"
      ],
      "metadata": {
        "colab": {
          "base_uri": "https://localhost:8080/"
        },
        "id": "b5GxgKGO_wcL",
        "outputId": "b35504c0-e249-432d-96ad-ee668d993f48"
      },
      "execution_count": 69,
      "outputs": [
        {
          "output_type": "execute_result",
          "data": {
            "text/plain": [
              "5"
            ]
          },
          "metadata": {},
          "execution_count": 69
        }
      ]
    },
    {
      "cell_type": "markdown",
      "source": [
        "## Join accelerometer data per files"
      ],
      "metadata": {
        "id": "Sae5HzbcAPa5"
      }
    },
    {
      "cell_type": "code",
      "source": [
        "start = train_activities_df['Started'].reset_index(drop=True)\n",
        "finish = train_activities_df['Finished'].reset_index(drop=True)"
      ],
      "metadata": {
        "id": "lx4JJVXVobU5"
      },
      "execution_count": 70,
      "outputs": []
    },
    {
      "cell_type": "code",
      "source": [
        "df_1716_files = pd.concat(map(lambda f: pd.read_csv(f, names=data_header), _1716_files), ignore_index=True)\n",
        "df_1716_files['timestamp'] = pd.to_datetime(df_1716_files['timestamp'])\n",
        "df_1716_files.info()"
      ],
      "metadata": {
        "colab": {
          "base_uri": "https://localhost:8080/"
        },
        "id": "KCChVEGsFaL2",
        "outputId": "b821b5d6-35a8-4cb2-bb92-260b272a0c4d"
      },
      "execution_count": 71,
      "outputs": [
        {
          "output_type": "stream",
          "name": "stdout",
          "text": [
            "<class 'pandas.core.frame.DataFrame'>\n",
            "RangeIndex: 48 entries, 0 to 47\n",
            "Data columns (total 5 columns):\n",
            " #   Column            Non-Null Count  Dtype                    \n",
            "---  ------            --------------  -----                    \n",
            " 0   activity_type_id  48 non-null     int64                    \n",
            " 1   timestamp         48 non-null     datetime64[ns, UTC+01:00]\n",
            " 2   x                 48 non-null     float64                  \n",
            " 3   y                 48 non-null     float64                  \n",
            " 4   z                 48 non-null     float64                  \n",
            "dtypes: datetime64[ns, UTC+01:00](1), float64(3), int64(1)\n",
            "memory usage: 2.0 KB\n"
          ]
        }
      ]
    },
    {
      "cell_type": "code",
      "source": [
        "df_2803_files = pd.concat(map(lambda f: pd.read_csv(f, names=data_header), _2803_files), ignore_index=True)\n",
        "df_2803_files['timestamp'] = pd.to_datetime(df_2803_files['timestamp'])\n",
        "df_2803_files.info()"
      ],
      "metadata": {
        "colab": {
          "base_uri": "https://localhost:8080/"
        },
        "id": "RzOSFVI_AYPP",
        "outputId": "6eb0224c-2526-494b-a3d8-03b587669743"
      },
      "execution_count": 72,
      "outputs": [
        {
          "output_type": "stream",
          "name": "stdout",
          "text": [
            "<class 'pandas.core.frame.DataFrame'>\n",
            "RangeIndex: 8838 entries, 0 to 8837\n",
            "Data columns (total 5 columns):\n",
            " #   Column            Non-Null Count  Dtype                    \n",
            "---  ------            --------------  -----                    \n",
            " 0   activity_type_id  8838 non-null   int64                    \n",
            " 1   timestamp         8838 non-null   datetime64[ns, UTC+01:00]\n",
            " 2   x                 8838 non-null   float64                  \n",
            " 3   y                 8838 non-null   float64                  \n",
            " 4   z                 8838 non-null   float64                  \n",
            "dtypes: datetime64[ns, UTC+01:00](1), float64(3), int64(1)\n",
            "memory usage: 345.4 KB\n"
          ]
        }
      ]
    },
    {
      "cell_type": "code",
      "source": [
        "df_2804_files = pd.concat(map(lambda f: pd.read_csv(f, names=data_header), _2804_files), ignore_index=True)\n",
        "df_2804_files['timestamp'] = pd.to_datetime(df_2804_files['timestamp'])\n",
        "df_2804_files.info()"
      ],
      "metadata": {
        "colab": {
          "base_uri": "https://localhost:8080/"
        },
        "id": "TuniZYJjFAOS",
        "outputId": "9dd118a6-6d69-4af0-918f-405cd4c00ab9"
      },
      "execution_count": 73,
      "outputs": [
        {
          "output_type": "stream",
          "name": "stdout",
          "text": [
            "<class 'pandas.core.frame.DataFrame'>\n",
            "RangeIndex: 35277 entries, 0 to 35276\n",
            "Data columns (total 5 columns):\n",
            " #   Column            Non-Null Count  Dtype                    \n",
            "---  ------            --------------  -----                    \n",
            " 0   activity_type_id  35277 non-null  int64                    \n",
            " 1   timestamp         35277 non-null  datetime64[ns, UTC+01:00]\n",
            " 2   x                 35277 non-null  float64                  \n",
            " 3   y                 35277 non-null  float64                  \n",
            " 4   z                 35277 non-null  float64                  \n",
            "dtypes: datetime64[ns, UTC+01:00](1), float64(3), int64(1)\n",
            "memory usage: 1.3 MB\n"
          ]
        }
      ]
    },
    {
      "cell_type": "code",
      "source": [
        "df_2805_files = pd.concat(map(lambda f: pd.read_csv(f, names=data_header), _2805_files), ignore_index=True)\n",
        "df_2805_files['timestamp'] = pd.to_datetime(df_2805_files['timestamp'])\n",
        "df_2805_files.info()"
      ],
      "metadata": {
        "colab": {
          "base_uri": "https://localhost:8080/"
        },
        "id": "t5jIX3QsClyX",
        "outputId": "1f8bc3c0-2f23-4abe-c80f-a60491f93e5c"
      },
      "execution_count": 74,
      "outputs": [
        {
          "output_type": "stream",
          "name": "stdout",
          "text": [
            "<class 'pandas.core.frame.DataFrame'>\n",
            "RangeIndex: 18781 entries, 0 to 18780\n",
            "Data columns (total 5 columns):\n",
            " #   Column            Non-Null Count  Dtype                    \n",
            "---  ------            --------------  -----                    \n",
            " 0   activity_type_id  18781 non-null  int64                    \n",
            " 1   timestamp         18781 non-null  datetime64[ns, UTC+01:00]\n",
            " 2   x                 18781 non-null  float64                  \n",
            " 3   y                 18781 non-null  float64                  \n",
            " 4   z                 18781 non-null  float64                  \n",
            "dtypes: datetime64[ns, UTC+01:00](1), float64(3), int64(1)\n",
            "memory usage: 733.8 KB\n"
          ]
        }
      ]
    },
    {
      "cell_type": "code",
      "source": [
        "df_2806_files = pd.concat(map(lambda f: pd.read_csv(f, names=data_header), _2806_files), ignore_index=True)\n",
        "df_2806_files['timestamp'] = pd.to_datetime(df_2806_files['timestamp'])\n",
        "df_2806_files.info()"
      ],
      "metadata": {
        "colab": {
          "base_uri": "https://localhost:8080/"
        },
        "id": "AVSclq_4FgWN",
        "outputId": "985bc176-4285-442e-8513-cdc68167408e"
      },
      "execution_count": 75,
      "outputs": [
        {
          "output_type": "stream",
          "name": "stdout",
          "text": [
            "<class 'pandas.core.frame.DataFrame'>\n",
            "RangeIndex: 7363 entries, 0 to 7362\n",
            "Data columns (total 5 columns):\n",
            " #   Column            Non-Null Count  Dtype                    \n",
            "---  ------            --------------  -----                    \n",
            " 0   activity_type_id  7363 non-null   int64                    \n",
            " 1   timestamp         7363 non-null   datetime64[ns, UTC+01:00]\n",
            " 2   x                 7363 non-null   float64                  \n",
            " 3   y                 7363 non-null   float64                  \n",
            " 4   z                 7363 non-null   float64                  \n",
            "dtypes: datetime64[ns, UTC+01:00](1), float64(3), int64(1)\n",
            "memory usage: 287.7 KB\n"
          ]
        }
      ]
    },
    {
      "cell_type": "code",
      "source": [
        "df_2807_files = pd.concat(map(lambda f: pd.read_csv(f, names=data_header), _2807_files), ignore_index=True)\n",
        "df_2807_files['timestamp'] = pd.to_datetime(df_2807_files['timestamp'])\n",
        "df_2807_files.info()"
      ],
      "metadata": {
        "colab": {
          "base_uri": "https://localhost:8080/"
        },
        "id": "-emWgpwQxaKY",
        "outputId": "99942753-13ab-490b-8d35-fb9ada781262"
      },
      "execution_count": 45,
      "outputs": [
        {
          "output_type": "stream",
          "name": "stdout",
          "text": [
            "<class 'pandas.core.frame.DataFrame'>\n",
            "RangeIndex: 862147 entries, 0 to 862146\n",
            "Data columns (total 5 columns):\n",
            " #   Column            Non-Null Count   Dtype                    \n",
            "---  ------            --------------   -----                    \n",
            " 0   activity_type_id  862147 non-null  int64                    \n",
            " 1   timestamp         862147 non-null  datetime64[ns, UTC+01:00]\n",
            " 2   x                 862147 non-null  float64                  \n",
            " 3   y                 862147 non-null  float64                  \n",
            " 4   z                 862147 non-null  float64                  \n",
            "dtypes: datetime64[ns, UTC+01:00](1), float64(3), int64(1)\n",
            "memory usage: 32.9 MB\n"
          ]
        }
      ]
    },
    {
      "cell_type": "code",
      "source": [
        "df_2808_files = pd.concat(map(lambda f: pd.read_csv(f, names=data_header), _2808_files), ignore_index=True)\n",
        "df_2808_files['timestamp'] = pd.to_datetime(df_2808_files['timestamp'])\n",
        "df_2808_files.info()"
      ],
      "metadata": {
        "colab": {
          "base_uri": "https://localhost:8080/"
        },
        "id": "WD5pCAZsNZx3",
        "outputId": "d509b47b-1c1d-4dc4-f972-0ae15573cccb"
      },
      "execution_count": 76,
      "outputs": [
        {
          "output_type": "stream",
          "name": "stdout",
          "text": [
            "<class 'pandas.core.frame.DataFrame'>\n",
            "RangeIndex: 11437 entries, 0 to 11436\n",
            "Data columns (total 5 columns):\n",
            " #   Column            Non-Null Count  Dtype                    \n",
            "---  ------            --------------  -----                    \n",
            " 0   activity_type_id  11437 non-null  int64                    \n",
            " 1   timestamp         11437 non-null  datetime64[ns, UTC+01:00]\n",
            " 2   x                 11437 non-null  float64                  \n",
            " 3   y                 11437 non-null  float64                  \n",
            " 4   z                 11437 non-null  float64                  \n",
            "dtypes: datetime64[ns, UTC+01:00](1), float64(3), int64(1)\n",
            "memory usage: 446.9 KB\n"
          ]
        }
      ]
    },
    {
      "cell_type": "code",
      "source": [
        "df_2809_files = pd.concat(map(lambda f: pd.read_csv(f, names=data_header), _2809_files), ignore_index=True)\n",
        "df_2809_files['timestamp'] = pd.to_datetime(df_2809_files['timestamp'])\n",
        "df_2809_files.info()"
      ],
      "metadata": {
        "colab": {
          "base_uri": "https://localhost:8080/"
        },
        "id": "yTwSs7kWNcvn",
        "outputId": "3c8ccac9-f98d-4c04-ca05-5d5703bf7d41"
      },
      "execution_count": 77,
      "outputs": [
        {
          "output_type": "stream",
          "name": "stdout",
          "text": [
            "<class 'pandas.core.frame.DataFrame'>\n",
            "RangeIndex: 9427 entries, 0 to 9426\n",
            "Data columns (total 5 columns):\n",
            " #   Column            Non-Null Count  Dtype                    \n",
            "---  ------            --------------  -----                    \n",
            " 0   activity_type_id  9427 non-null   int64                    \n",
            " 1   timestamp         9427 non-null   datetime64[ns, UTC+01:00]\n",
            " 2   x                 9427 non-null   float64                  \n",
            " 3   y                 9427 non-null   float64                  \n",
            " 4   z                 9427 non-null   float64                  \n",
            "dtypes: datetime64[ns, UTC+01:00](1), float64(3), int64(1)\n",
            "memory usage: 368.4 KB\n"
          ]
        }
      ]
    },
    {
      "cell_type": "code",
      "source": [
        "df_2810_files = pd.concat(map(lambda f: pd.read_csv(f, names=data_header), _2810_files), ignore_index=True)\n",
        "df_2810_files['timestamp'] = pd.to_datetime(df_2810_files['timestamp'])\n",
        "df_2810_files.info()"
      ],
      "metadata": {
        "colab": {
          "base_uri": "https://localhost:8080/"
        },
        "id": "QTYE5jPiNe1F",
        "outputId": "5871cda1-a06d-4f98-fa3c-1f214de9a087"
      },
      "execution_count": 78,
      "outputs": [
        {
          "output_type": "stream",
          "name": "stdout",
          "text": [
            "<class 'pandas.core.frame.DataFrame'>\n",
            "RangeIndex: 117229 entries, 0 to 117228\n",
            "Data columns (total 5 columns):\n",
            " #   Column            Non-Null Count   Dtype                    \n",
            "---  ------            --------------   -----                    \n",
            " 0   activity_type_id  117229 non-null  int64                    \n",
            " 1   timestamp         117229 non-null  datetime64[ns, UTC+01:00]\n",
            " 2   x                 117229 non-null  float64                  \n",
            " 3   y                 117229 non-null  float64                  \n",
            " 4   z                 117229 non-null  float64                  \n",
            "dtypes: datetime64[ns, UTC+01:00](1), float64(3), int64(1)\n",
            "memory usage: 4.5 MB\n"
          ]
        }
      ]
    },
    {
      "cell_type": "code",
      "source": [
        "df_2811_files = pd.concat(map(lambda f: pd.read_csv(f, names=data_header), _2811_files), ignore_index=True)\n",
        "df_2811_files['timestamp'] = pd.to_datetime(df_2811_files['timestamp'])\n",
        "df_2811_files.info()"
      ],
      "metadata": {
        "colab": {
          "base_uri": "https://localhost:8080/"
        },
        "id": "no1_FkUiNh0y",
        "outputId": "0dae8b78-9a9d-4930-d77c-3708624bef3c"
      },
      "execution_count": 79,
      "outputs": [
        {
          "output_type": "stream",
          "name": "stdout",
          "text": [
            "<class 'pandas.core.frame.DataFrame'>\n",
            "RangeIndex: 43077 entries, 0 to 43076\n",
            "Data columns (total 5 columns):\n",
            " #   Column            Non-Null Count  Dtype                    \n",
            "---  ------            --------------  -----                    \n",
            " 0   activity_type_id  43077 non-null  int64                    \n",
            " 1   timestamp         43077 non-null  datetime64[ns, UTC+01:00]\n",
            " 2   x                 43077 non-null  float64                  \n",
            " 3   y                 43077 non-null  float64                  \n",
            " 4   z                 43077 non-null  float64                  \n",
            "dtypes: datetime64[ns, UTC+01:00](1), float64(3), int64(1)\n",
            "memory usage: 1.6 MB\n"
          ]
        }
      ]
    },
    {
      "cell_type": "code",
      "source": [
        "df_2812_files = pd.concat(map(lambda f: pd.read_csv(f, names=data_header), _2812_files), ignore_index=True)\n",
        "df_2812_files['timestamp'] = pd.to_datetime(df_2812_files['timestamp'])\n",
        "df_2812_files.info()"
      ],
      "metadata": {
        "colab": {
          "base_uri": "https://localhost:8080/"
        },
        "id": "54zscWWCNoly",
        "outputId": "2886b04d-2362-49fc-aa70-d4e3202b29c7"
      },
      "execution_count": 80,
      "outputs": [
        {
          "output_type": "stream",
          "name": "stdout",
          "text": [
            "<class 'pandas.core.frame.DataFrame'>\n",
            "RangeIndex: 319011 entries, 0 to 319010\n",
            "Data columns (total 5 columns):\n",
            " #   Column            Non-Null Count   Dtype                    \n",
            "---  ------            --------------   -----                    \n",
            " 0   activity_type_id  319011 non-null  int64                    \n",
            " 1   timestamp         319011 non-null  datetime64[ns, UTC+01:00]\n",
            " 2   x                 319011 non-null  float64                  \n",
            " 3   y                 319011 non-null  float64                  \n",
            " 4   z                 319011 non-null  float64                  \n",
            "dtypes: datetime64[ns, UTC+01:00](1), float64(3), int64(1)\n",
            "memory usage: 12.2 MB\n"
          ]
        }
      ]
    },
    {
      "cell_type": "code",
      "source": [
        "df_2813_files = pd.concat(map(lambda f: pd.read_csv(f, names=data_header), _2813_files), ignore_index=True)\n",
        "df_2813_files['timestamp'] = pd.to_datetime(df_2813_files['timestamp'])\n",
        "df_2813_files.info()"
      ],
      "metadata": {
        "colab": {
          "base_uri": "https://localhost:8080/"
        },
        "id": "YW1HC0lDNqMD",
        "outputId": "8c867ead-ff13-40a1-b813-8e05cb282e17"
      },
      "execution_count": 81,
      "outputs": [
        {
          "output_type": "stream",
          "name": "stdout",
          "text": [
            "<class 'pandas.core.frame.DataFrame'>\n",
            "RangeIndex: 171276 entries, 0 to 171275\n",
            "Data columns (total 5 columns):\n",
            " #   Column            Non-Null Count   Dtype                    \n",
            "---  ------            --------------   -----                    \n",
            " 0   activity_type_id  171276 non-null  int64                    \n",
            " 1   timestamp         171276 non-null  datetime64[ns, UTC+01:00]\n",
            " 2   x                 171276 non-null  float64                  \n",
            " 3   y                 171276 non-null  float64                  \n",
            " 4   z                 171276 non-null  float64                  \n",
            "dtypes: datetime64[ns, UTC+01:00](1), float64(3), int64(1)\n",
            "memory usage: 6.5 MB\n"
          ]
        }
      ]
    },
    {
      "cell_type": "code",
      "source": [
        "df_2814_files = pd.concat(map(lambda f: pd.read_csv(f, names=data_header), _2814_files), ignore_index=True)\n",
        "df_2814_files['timestamp'] = pd.to_datetime(df_2814_files['timestamp'])\n",
        "df_2814_files.info()"
      ],
      "metadata": {
        "colab": {
          "base_uri": "https://localhost:8080/"
        },
        "id": "Ozk8TZCQNsHy",
        "outputId": "b8812c9e-9e3b-49af-b559-6d8bdf50e07b"
      },
      "execution_count": 82,
      "outputs": [
        {
          "output_type": "stream",
          "name": "stdout",
          "text": [
            "<class 'pandas.core.frame.DataFrame'>\n",
            "RangeIndex: 62137 entries, 0 to 62136\n",
            "Data columns (total 5 columns):\n",
            " #   Column            Non-Null Count  Dtype                    \n",
            "---  ------            --------------  -----                    \n",
            " 0   activity_type_id  62137 non-null  int64                    \n",
            " 1   timestamp         62137 non-null  datetime64[ns, UTC+01:00]\n",
            " 2   x                 62137 non-null  float64                  \n",
            " 3   y                 62137 non-null  float64                  \n",
            " 4   z                 62137 non-null  float64                  \n",
            "dtypes: datetime64[ns, UTC+01:00](1), float64(3), int64(1)\n",
            "memory usage: 2.4 MB\n"
          ]
        }
      ]
    },
    {
      "cell_type": "code",
      "source": [
        "df_2815_files = pd.concat(map(lambda f: pd.read_csv(f, names=data_header), _2815_files), ignore_index=True)\n",
        "df_2815_files['timestamp'] = pd.to_datetime(df_2815_files['timestamp'])\n",
        "df_2815_files.info()"
      ],
      "metadata": {
        "colab": {
          "base_uri": "https://localhost:8080/"
        },
        "id": "nHjKnVHBNuSH",
        "outputId": "ff952be3-e1a1-454e-bc47-bcef71d1803d"
      },
      "execution_count": 83,
      "outputs": [
        {
          "output_type": "stream",
          "name": "stdout",
          "text": [
            "<class 'pandas.core.frame.DataFrame'>\n",
            "RangeIndex: 152315 entries, 0 to 152314\n",
            "Data columns (total 5 columns):\n",
            " #   Column            Non-Null Count   Dtype                    \n",
            "---  ------            --------------   -----                    \n",
            " 0   activity_type_id  152315 non-null  int64                    \n",
            " 1   timestamp         152315 non-null  datetime64[ns, UTC+01:00]\n",
            " 2   x                 152315 non-null  float64                  \n",
            " 3   y                 152315 non-null  float64                  \n",
            " 4   z                 152315 non-null  float64                  \n",
            "dtypes: datetime64[ns, UTC+01:00](1), float64(3), int64(1)\n",
            "memory usage: 5.8 MB\n"
          ]
        }
      ]
    },
    {
      "cell_type": "code",
      "source": [
        "df_2816_files = pd.concat(map(lambda f: pd.read_csv(f, names=data_header), _2816_files), ignore_index=True)\n",
        "df_2816_files.info()"
      ],
      "metadata": {
        "colab": {
          "base_uri": "https://localhost:8080/"
        },
        "id": "hfZMegHkNwT3",
        "outputId": "b9a5b7ab-77d5-46d6-826f-19eaaa38a231"
      },
      "execution_count": 84,
      "outputs": [
        {
          "output_type": "stream",
          "name": "stdout",
          "text": [
            "<class 'pandas.core.frame.DataFrame'>\n",
            "RangeIndex: 159815 entries, 0 to 159814\n",
            "Data columns (total 5 columns):\n",
            " #   Column            Non-Null Count   Dtype  \n",
            "---  ------            --------------   -----  \n",
            " 0   activity_type_id  159815 non-null  int64  \n",
            " 1   timestamp         159815 non-null  object \n",
            " 2   x                 159815 non-null  float64\n",
            " 3   y                 159815 non-null  float64\n",
            " 4   z                 159815 non-null  float64\n",
            "dtypes: float64(3), int64(1), object(1)\n",
            "memory usage: 6.1+ MB\n"
          ]
        }
      ]
    },
    {
      "cell_type": "code",
      "source": [
        "df_2819_files = pd.concat(map(lambda f: pd.read_csv(f, names=data_header), _2819_files), ignore_index=True)\n",
        "df_2819_files.info()"
      ],
      "metadata": {
        "colab": {
          "base_uri": "https://localhost:8080/"
        },
        "id": "-DI-g7jONyF2",
        "outputId": "bf5263d7-bff7-4d72-e09f-4ca94deed179"
      },
      "execution_count": 85,
      "outputs": [
        {
          "output_type": "stream",
          "name": "stdout",
          "text": [
            "<class 'pandas.core.frame.DataFrame'>\n",
            "RangeIndex: 5519 entries, 0 to 5518\n",
            "Data columns (total 5 columns):\n",
            " #   Column            Non-Null Count  Dtype  \n",
            "---  ------            --------------  -----  \n",
            " 0   activity_type_id  5519 non-null   int64  \n",
            " 1   timestamp         5519 non-null   object \n",
            " 2   x                 5519 non-null   float64\n",
            " 3   y                 5519 non-null   float64\n",
            " 4   z                 5519 non-null   float64\n",
            "dtypes: float64(3), int64(1), object(1)\n",
            "memory usage: 215.7+ KB\n"
          ]
        }
      ]
    },
    {
      "cell_type": "code",
      "source": [
        "df_2830_files = pd.concat(map(lambda f: pd.read_csv(f, names=data_header), _2830_files), ignore_index=True)\n",
        "df_2830_files.info()"
      ],
      "metadata": {
        "colab": {
          "base_uri": "https://localhost:8080/"
        },
        "id": "DTJct-FgN0Ku",
        "outputId": "3da636ee-147c-44f9-dbd6-276069516353"
      },
      "execution_count": 86,
      "outputs": [
        {
          "output_type": "stream",
          "name": "stdout",
          "text": [
            "<class 'pandas.core.frame.DataFrame'>\n",
            "RangeIndex: 57745 entries, 0 to 57744\n",
            "Data columns (total 5 columns):\n",
            " #   Column            Non-Null Count  Dtype  \n",
            "---  ------            --------------  -----  \n",
            " 0   activity_type_id  57745 non-null  int64  \n",
            " 1   timestamp         57745 non-null  object \n",
            " 2   x                 57745 non-null  float64\n",
            " 3   y                 57745 non-null  float64\n",
            " 4   z                 57745 non-null  float64\n",
            "dtypes: float64(3), int64(1), object(1)\n",
            "memory usage: 2.2+ MB\n"
          ]
        }
      ]
    },
    {
      "cell_type": "code",
      "source": [
        "df_38_files = pd.concat(map(lambda f: pd.read_csv(f, names=data_header), _38_files), ignore_index=True)\n",
        "df_38_files.info()"
      ],
      "metadata": {
        "colab": {
          "base_uri": "https://localhost:8080/"
        },
        "id": "o-4e7HfJN34K",
        "outputId": "5c78ab74-b0fe-404e-a2b5-af490991535e"
      },
      "execution_count": 87,
      "outputs": [
        {
          "output_type": "stream",
          "name": "stdout",
          "text": [
            "<class 'pandas.core.frame.DataFrame'>\n",
            "RangeIndex: 3884 entries, 0 to 3883\n",
            "Data columns (total 5 columns):\n",
            " #   Column            Non-Null Count  Dtype  \n",
            "---  ------            --------------  -----  \n",
            " 0   activity_type_id  3884 non-null   int64  \n",
            " 1   timestamp         3884 non-null   object \n",
            " 2   x                 3884 non-null   float64\n",
            " 3   y                 3884 non-null   float64\n",
            " 4   z                 3884 non-null   float64\n",
            "dtypes: float64(3), int64(1), object(1)\n",
            "memory usage: 151.8+ KB\n"
          ]
        }
      ]
    },
    {
      "cell_type": "code",
      "source": [
        "train_activities_df.head()"
      ],
      "metadata": {
        "colab": {
          "base_uri": "https://localhost:8080/",
          "height": 310
        },
        "id": "-QvJchFyN6uQ",
        "outputId": "e2866a6e-6766-480f-f175-e90ac6cae221"
      },
      "execution_count": 88,
      "outputs": [
        {
          "output_type": "execute_result",
          "data": {
            "text/plain": [
              "        ID  Activity Type ID  \\\n",
              "0  1130251              2806   \n",
              "1  1130254              2807   \n",
              "2  1130257              2807   \n",
              "3  1130261              2806   \n",
              "4  1130292              2806   \n",
              "\n",
              "                                       Activity Type             Started  \\\n",
              "0                    1 (FACING camera) Sit and stand 2024-09-02 06:16:00   \n",
              "1  2 (FACING camera) both hands SHAKING (sitting ... 2024-09-02 06:17:00   \n",
              "2  2 (FACING camera) both hands SHAKING (sitting ... 2024-09-02 06:18:00   \n",
              "3                    1 (FACING camera) Sit and stand 2024-09-02 06:20:00   \n",
              "4                    1 (FACING camera) Sit and stand 2024-09-02 06:42:00   \n",
              "\n",
              "             Finished             Updated Subject  \n",
              "0 2024-09-02 06:16:00 2024-09-02 06:16:00     U22  \n",
              "1 2024-09-02 06:17:00 2024-09-02 06:17:00     U22  \n",
              "2 2024-09-02 06:18:00 2024-09-02 06:18:00     U22  \n",
              "3 2024-09-02 06:20:00 2024-09-02 06:20:00     U22  \n",
              "4 2024-09-02 06:42:00 2024-09-02 06:42:00      U2  "
            ],
            "text/html": [
              "\n",
              "  <div id=\"df-5443da34-20c4-4fb3-b7ca-b387d92e8302\" class=\"colab-df-container\">\n",
              "    <div>\n",
              "<style scoped>\n",
              "    .dataframe tbody tr th:only-of-type {\n",
              "        vertical-align: middle;\n",
              "    }\n",
              "\n",
              "    .dataframe tbody tr th {\n",
              "        vertical-align: top;\n",
              "    }\n",
              "\n",
              "    .dataframe thead th {\n",
              "        text-align: right;\n",
              "    }\n",
              "</style>\n",
              "<table border=\"1\" class=\"dataframe\">\n",
              "  <thead>\n",
              "    <tr style=\"text-align: right;\">\n",
              "      <th></th>\n",
              "      <th>ID</th>\n",
              "      <th>Activity Type ID</th>\n",
              "      <th>Activity Type</th>\n",
              "      <th>Started</th>\n",
              "      <th>Finished</th>\n",
              "      <th>Updated</th>\n",
              "      <th>Subject</th>\n",
              "    </tr>\n",
              "  </thead>\n",
              "  <tbody>\n",
              "    <tr>\n",
              "      <th>0</th>\n",
              "      <td>1130251</td>\n",
              "      <td>2806</td>\n",
              "      <td>1 (FACING camera) Sit and stand</td>\n",
              "      <td>2024-09-02 06:16:00</td>\n",
              "      <td>2024-09-02 06:16:00</td>\n",
              "      <td>2024-09-02 06:16:00</td>\n",
              "      <td>U22</td>\n",
              "    </tr>\n",
              "    <tr>\n",
              "      <th>1</th>\n",
              "      <td>1130254</td>\n",
              "      <td>2807</td>\n",
              "      <td>2 (FACING camera) both hands SHAKING (sitting ...</td>\n",
              "      <td>2024-09-02 06:17:00</td>\n",
              "      <td>2024-09-02 06:17:00</td>\n",
              "      <td>2024-09-02 06:17:00</td>\n",
              "      <td>U22</td>\n",
              "    </tr>\n",
              "    <tr>\n",
              "      <th>2</th>\n",
              "      <td>1130257</td>\n",
              "      <td>2807</td>\n",
              "      <td>2 (FACING camera) both hands SHAKING (sitting ...</td>\n",
              "      <td>2024-09-02 06:18:00</td>\n",
              "      <td>2024-09-02 06:18:00</td>\n",
              "      <td>2024-09-02 06:18:00</td>\n",
              "      <td>U22</td>\n",
              "    </tr>\n",
              "    <tr>\n",
              "      <th>3</th>\n",
              "      <td>1130261</td>\n",
              "      <td>2806</td>\n",
              "      <td>1 (FACING camera) Sit and stand</td>\n",
              "      <td>2024-09-02 06:20:00</td>\n",
              "      <td>2024-09-02 06:20:00</td>\n",
              "      <td>2024-09-02 06:20:00</td>\n",
              "      <td>U22</td>\n",
              "    </tr>\n",
              "    <tr>\n",
              "      <th>4</th>\n",
              "      <td>1130292</td>\n",
              "      <td>2806</td>\n",
              "      <td>1 (FACING camera) Sit and stand</td>\n",
              "      <td>2024-09-02 06:42:00</td>\n",
              "      <td>2024-09-02 06:42:00</td>\n",
              "      <td>2024-09-02 06:42:00</td>\n",
              "      <td>U2</td>\n",
              "    </tr>\n",
              "  </tbody>\n",
              "</table>\n",
              "</div>\n",
              "    <div class=\"colab-df-buttons\">\n",
              "\n",
              "  <div class=\"colab-df-container\">\n",
              "    <button class=\"colab-df-convert\" onclick=\"convertToInteractive('df-5443da34-20c4-4fb3-b7ca-b387d92e8302')\"\n",
              "            title=\"Convert this dataframe to an interactive table.\"\n",
              "            style=\"display:none;\">\n",
              "\n",
              "  <svg xmlns=\"http://www.w3.org/2000/svg\" height=\"24px\" viewBox=\"0 -960 960 960\">\n",
              "    <path d=\"M120-120v-720h720v720H120Zm60-500h600v-160H180v160Zm220 220h160v-160H400v160Zm0 220h160v-160H400v160ZM180-400h160v-160H180v160Zm440 0h160v-160H620v160ZM180-180h160v-160H180v160Zm440 0h160v-160H620v160Z\"/>\n",
              "  </svg>\n",
              "    </button>\n",
              "\n",
              "  <style>\n",
              "    .colab-df-container {\n",
              "      display:flex;\n",
              "      gap: 12px;\n",
              "    }\n",
              "\n",
              "    .colab-df-convert {\n",
              "      background-color: #E8F0FE;\n",
              "      border: none;\n",
              "      border-radius: 50%;\n",
              "      cursor: pointer;\n",
              "      display: none;\n",
              "      fill: #1967D2;\n",
              "      height: 32px;\n",
              "      padding: 0 0 0 0;\n",
              "      width: 32px;\n",
              "    }\n",
              "\n",
              "    .colab-df-convert:hover {\n",
              "      background-color: #E2EBFA;\n",
              "      box-shadow: 0px 1px 2px rgba(60, 64, 67, 0.3), 0px 1px 3px 1px rgba(60, 64, 67, 0.15);\n",
              "      fill: #174EA6;\n",
              "    }\n",
              "\n",
              "    .colab-df-buttons div {\n",
              "      margin-bottom: 4px;\n",
              "    }\n",
              "\n",
              "    [theme=dark] .colab-df-convert {\n",
              "      background-color: #3B4455;\n",
              "      fill: #D2E3FC;\n",
              "    }\n",
              "\n",
              "    [theme=dark] .colab-df-convert:hover {\n",
              "      background-color: #434B5C;\n",
              "      box-shadow: 0px 1px 3px 1px rgba(0, 0, 0, 0.15);\n",
              "      filter: drop-shadow(0px 1px 2px rgba(0, 0, 0, 0.3));\n",
              "      fill: #FFFFFF;\n",
              "    }\n",
              "  </style>\n",
              "\n",
              "    <script>\n",
              "      const buttonEl =\n",
              "        document.querySelector('#df-5443da34-20c4-4fb3-b7ca-b387d92e8302 button.colab-df-convert');\n",
              "      buttonEl.style.display =\n",
              "        google.colab.kernel.accessAllowed ? 'block' : 'none';\n",
              "\n",
              "      async function convertToInteractive(key) {\n",
              "        const element = document.querySelector('#df-5443da34-20c4-4fb3-b7ca-b387d92e8302');\n",
              "        const dataTable =\n",
              "          await google.colab.kernel.invokeFunction('convertToInteractive',\n",
              "                                                    [key], {});\n",
              "        if (!dataTable) return;\n",
              "\n",
              "        const docLinkHtml = 'Like what you see? Visit the ' +\n",
              "          '<a target=\"_blank\" href=https://colab.research.google.com/notebooks/data_table.ipynb>data table notebook</a>'\n",
              "          + ' to learn more about interactive tables.';\n",
              "        element.innerHTML = '';\n",
              "        dataTable['output_type'] = 'display_data';\n",
              "        await google.colab.output.renderOutput(dataTable, element);\n",
              "        const docLink = document.createElement('div');\n",
              "        docLink.innerHTML = docLinkHtml;\n",
              "        element.appendChild(docLink);\n",
              "      }\n",
              "    </script>\n",
              "  </div>\n",
              "\n",
              "\n",
              "    <div id=\"df-40daeddb-117f-462c-9d84-871a1db81fad\">\n",
              "      <button class=\"colab-df-quickchart\" onclick=\"quickchart('df-40daeddb-117f-462c-9d84-871a1db81fad')\"\n",
              "                title=\"Suggest charts\"\n",
              "                style=\"display:none;\">\n",
              "\n",
              "<svg xmlns=\"http://www.w3.org/2000/svg\" height=\"24px\"viewBox=\"0 0 24 24\"\n",
              "     width=\"24px\">\n",
              "    <g>\n",
              "        <path d=\"M19 3H5c-1.1 0-2 .9-2 2v14c0 1.1.9 2 2 2h14c1.1 0 2-.9 2-2V5c0-1.1-.9-2-2-2zM9 17H7v-7h2v7zm4 0h-2V7h2v10zm4 0h-2v-4h2v4z\"/>\n",
              "    </g>\n",
              "</svg>\n",
              "      </button>\n",
              "\n",
              "<style>\n",
              "  .colab-df-quickchart {\n",
              "      --bg-color: #E8F0FE;\n",
              "      --fill-color: #1967D2;\n",
              "      --hover-bg-color: #E2EBFA;\n",
              "      --hover-fill-color: #174EA6;\n",
              "      --disabled-fill-color: #AAA;\n",
              "      --disabled-bg-color: #DDD;\n",
              "  }\n",
              "\n",
              "  [theme=dark] .colab-df-quickchart {\n",
              "      --bg-color: #3B4455;\n",
              "      --fill-color: #D2E3FC;\n",
              "      --hover-bg-color: #434B5C;\n",
              "      --hover-fill-color: #FFFFFF;\n",
              "      --disabled-bg-color: #3B4455;\n",
              "      --disabled-fill-color: #666;\n",
              "  }\n",
              "\n",
              "  .colab-df-quickchart {\n",
              "    background-color: var(--bg-color);\n",
              "    border: none;\n",
              "    border-radius: 50%;\n",
              "    cursor: pointer;\n",
              "    display: none;\n",
              "    fill: var(--fill-color);\n",
              "    height: 32px;\n",
              "    padding: 0;\n",
              "    width: 32px;\n",
              "  }\n",
              "\n",
              "  .colab-df-quickchart:hover {\n",
              "    background-color: var(--hover-bg-color);\n",
              "    box-shadow: 0 1px 2px rgba(60, 64, 67, 0.3), 0 1px 3px 1px rgba(60, 64, 67, 0.15);\n",
              "    fill: var(--button-hover-fill-color);\n",
              "  }\n",
              "\n",
              "  .colab-df-quickchart-complete:disabled,\n",
              "  .colab-df-quickchart-complete:disabled:hover {\n",
              "    background-color: var(--disabled-bg-color);\n",
              "    fill: var(--disabled-fill-color);\n",
              "    box-shadow: none;\n",
              "  }\n",
              "\n",
              "  .colab-df-spinner {\n",
              "    border: 2px solid var(--fill-color);\n",
              "    border-color: transparent;\n",
              "    border-bottom-color: var(--fill-color);\n",
              "    animation:\n",
              "      spin 1s steps(1) infinite;\n",
              "  }\n",
              "\n",
              "  @keyframes spin {\n",
              "    0% {\n",
              "      border-color: transparent;\n",
              "      border-bottom-color: var(--fill-color);\n",
              "      border-left-color: var(--fill-color);\n",
              "    }\n",
              "    20% {\n",
              "      border-color: transparent;\n",
              "      border-left-color: var(--fill-color);\n",
              "      border-top-color: var(--fill-color);\n",
              "    }\n",
              "    30% {\n",
              "      border-color: transparent;\n",
              "      border-left-color: var(--fill-color);\n",
              "      border-top-color: var(--fill-color);\n",
              "      border-right-color: var(--fill-color);\n",
              "    }\n",
              "    40% {\n",
              "      border-color: transparent;\n",
              "      border-right-color: var(--fill-color);\n",
              "      border-top-color: var(--fill-color);\n",
              "    }\n",
              "    60% {\n",
              "      border-color: transparent;\n",
              "      border-right-color: var(--fill-color);\n",
              "    }\n",
              "    80% {\n",
              "      border-color: transparent;\n",
              "      border-right-color: var(--fill-color);\n",
              "      border-bottom-color: var(--fill-color);\n",
              "    }\n",
              "    90% {\n",
              "      border-color: transparent;\n",
              "      border-bottom-color: var(--fill-color);\n",
              "    }\n",
              "  }\n",
              "</style>\n",
              "\n",
              "      <script>\n",
              "        async function quickchart(key) {\n",
              "          const quickchartButtonEl =\n",
              "            document.querySelector('#' + key + ' button');\n",
              "          quickchartButtonEl.disabled = true;  // To prevent multiple clicks.\n",
              "          quickchartButtonEl.classList.add('colab-df-spinner');\n",
              "          try {\n",
              "            const charts = await google.colab.kernel.invokeFunction(\n",
              "                'suggestCharts', [key], {});\n",
              "          } catch (error) {\n",
              "            console.error('Error during call to suggestCharts:', error);\n",
              "          }\n",
              "          quickchartButtonEl.classList.remove('colab-df-spinner');\n",
              "          quickchartButtonEl.classList.add('colab-df-quickchart-complete');\n",
              "        }\n",
              "        (() => {\n",
              "          let quickchartButtonEl =\n",
              "            document.querySelector('#df-40daeddb-117f-462c-9d84-871a1db81fad button');\n",
              "          quickchartButtonEl.style.display =\n",
              "            google.colab.kernel.accessAllowed ? 'block' : 'none';\n",
              "        })();\n",
              "      </script>\n",
              "    </div>\n",
              "\n",
              "    </div>\n",
              "  </div>\n"
            ],
            "application/vnd.google.colaboratory.intrinsic+json": {
              "type": "dataframe",
              "variable_name": "train_activities_df",
              "summary": "{\n  \"name\": \"train_activities_df\",\n  \"rows\": 342,\n  \"fields\": [\n    {\n      \"column\": \"ID\",\n      \"properties\": {\n        \"dtype\": \"number\",\n        \"std\": 10585,\n        \"min\": 1130251,\n        \"max\": 1164219,\n        \"num_unique_values\": 342,\n        \"samples\": [\n          1145055,\n          1137193,\n          1137190\n        ],\n        \"semantic_type\": \"\",\n        \"description\": \"\"\n      }\n    },\n    {\n      \"column\": \"Activity Type ID\",\n      \"properties\": {\n        \"dtype\": \"number\",\n        \"std\": 2,\n        \"min\": 2806,\n        \"max\": 2815,\n        \"num_unique_values\": 10,\n        \"samples\": [\n          2814,\n          2807,\n          2811\n        ],\n        \"semantic_type\": \"\",\n        \"description\": \"\"\n      }\n    },\n    {\n      \"column\": \"Activity Type\",\n      \"properties\": {\n        \"dtype\": \"category\",\n        \"num_unique_values\": 10,\n        \"samples\": [\n          \"9 Walk & STOP/frozen, full body shaking, rotate then return back\",\n          \"2 (FACING camera) both hands SHAKING (sitting position)\",\n          \"6 (Sideway) STAND up with - both hands SHAKING\"\n        ],\n        \"semantic_type\": \"\",\n        \"description\": \"\"\n      }\n    },\n    {\n      \"column\": \"Started\",\n      \"properties\": {\n        \"dtype\": \"date\",\n        \"min\": \"2024-09-02 06:16:00\",\n        \"max\": \"2024-09-11 05:11:00\",\n        \"num_unique_values\": 135,\n        \"samples\": [\n          \"2024-09-10 06:03:00\",\n          \"2024-09-03 21:24:00\",\n          \"2024-09-10 06:40:00\"\n        ],\n        \"semantic_type\": \"\",\n        \"description\": \"\"\n      }\n    },\n    {\n      \"column\": \"Finished\",\n      \"properties\": {\n        \"dtype\": \"date\",\n        \"min\": \"2024-09-02 06:16:00\",\n        \"max\": \"2024-09-11 05:11:00\",\n        \"num_unique_values\": 135,\n        \"samples\": [\n          \"2024-09-10 06:05:00\",\n          \"2024-09-03 21:25:00\",\n          \"2024-09-10 06:41:00\"\n        ],\n        \"semantic_type\": \"\",\n        \"description\": \"\"\n      }\n    },\n    {\n      \"column\": \"Updated\",\n      \"properties\": {\n        \"dtype\": \"date\",\n        \"min\": \"2024-09-02 06:16:00\",\n        \"max\": \"2024-09-11 05:11:00\",\n        \"num_unique_values\": 133,\n        \"samples\": [\n          \"2024-09-03 21:23:00\",\n          \"2024-09-03 21:37:00\",\n          \"2024-09-03 20:34:00\"\n        ],\n        \"semantic_type\": \"\",\n        \"description\": \"\"\n      }\n    },\n    {\n      \"column\": \"Subject\",\n      \"properties\": {\n        \"dtype\": \"category\",\n        \"num_unique_values\": 9,\n        \"samples\": [\n          \"U6\",\n          \"U2\",\n          \"U5\"\n        ],\n        \"semantic_type\": \"\",\n        \"description\": \"\"\n      }\n    }\n  ]\n}"
            }
          },
          "metadata": {},
          "execution_count": 88
        }
      ]
    },
    {
      "cell_type": "code",
      "source": [
        "all_df  = pd.concat([df_2806_files, df_2807_files, df_2808_files, df_2809_files, df_2810_files, df_2811_files, df_2812_files, df_2813_files, df_2814_files, df_2815_files])\n",
        "all_df.info()"
      ],
      "metadata": {
        "id": "-vJNNoEHOBjN",
        "colab": {
          "base_uri": "https://localhost:8080/"
        },
        "outputId": "e944bc79-3311-45ae-cc72-d33ab3ae1587"
      },
      "execution_count": 103,
      "outputs": [
        {
          "output_type": "stream",
          "name": "stdout",
          "text": [
            "<class 'pandas.core.frame.DataFrame'>\n",
            "Index: 1755419 entries, 0 to 152314\n",
            "Data columns (total 5 columns):\n",
            " #   Column            Dtype                    \n",
            "---  ------            -----                    \n",
            " 0   activity_type_id  int64                    \n",
            " 1   timestamp         datetime64[ns, UTC+01:00]\n",
            " 2   x                 float64                  \n",
            " 3   y                 float64                  \n",
            " 4   z                 float64                  \n",
            "dtypes: datetime64[ns, UTC+01:00](1), float64(3), int64(1)\n",
            "memory usage: 80.4 MB\n"
          ]
        }
      ]
    },
    {
      "cell_type": "code",
      "source": [
        "all_df['timestamp'] = pd.to_datetime(all_df['timestamp'])\n",
        "all_df.info()"
      ],
      "metadata": {
        "colab": {
          "base_uri": "https://localhost:8080/"
        },
        "id": "V6pidpPhXavZ",
        "outputId": "22da66e5-9c16-4c6f-93f0-cb6ff311ce64"
      },
      "execution_count": 104,
      "outputs": [
        {
          "output_type": "stream",
          "name": "stdout",
          "text": [
            "<class 'pandas.core.frame.DataFrame'>\n",
            "Index: 1755419 entries, 0 to 152314\n",
            "Data columns (total 5 columns):\n",
            " #   Column            Dtype                    \n",
            "---  ------            -----                    \n",
            " 0   activity_type_id  int64                    \n",
            " 1   timestamp         datetime64[ns, UTC+01:00]\n",
            " 2   x                 float64                  \n",
            " 3   y                 float64                  \n",
            " 4   z                 float64                  \n",
            "dtypes: datetime64[ns, UTC+01:00](1), float64(3), int64(1)\n",
            "memory usage: 80.4 MB\n"
          ]
        }
      ]
    },
    {
      "cell_type": "markdown",
      "source": [
        "# Cleaning Data"
      ],
      "metadata": {
        "id": "Hw4ZEe2tX6pI"
      }
    },
    {
      "cell_type": "code",
      "source": [
        "train_activities_df.columns = train_activities_df.columns.str.strip().str.lower().str.replace(' ', '_')"
      ],
      "metadata": {
        "id": "6o1qmuNImbPZ"
      },
      "execution_count": 105,
      "outputs": []
    },
    {
      "cell_type": "code",
      "source": [
        "train_activities_df.dropna(inplace=True)\n",
        "train_activities_df.info()"
      ],
      "metadata": {
        "colab": {
          "base_uri": "https://localhost:8080/"
        },
        "id": "3-7Jne8fYADz",
        "outputId": "3cf37621-7004-4188-d2a9-77fbcbdc9707"
      },
      "execution_count": 106,
      "outputs": [
        {
          "output_type": "stream",
          "name": "stdout",
          "text": [
            "<class 'pandas.core.frame.DataFrame'>\n",
            "Index: 275 entries, 0 to 341\n",
            "Data columns (total 7 columns):\n",
            " #   Column            Non-Null Count  Dtype         \n",
            "---  ------            --------------  -----         \n",
            " 0   id                275 non-null    int64         \n",
            " 1   activity_type_id  275 non-null    int64         \n",
            " 2   activity_type     275 non-null    object        \n",
            " 3   started           275 non-null    datetime64[ns]\n",
            " 4   finished          275 non-null    datetime64[ns]\n",
            " 5   updated           275 non-null    datetime64[ns]\n",
            " 6   subject           275 non-null    object        \n",
            "dtypes: datetime64[ns](3), int64(2), object(2)\n",
            "memory usage: 17.2+ KB\n"
          ]
        }
      ]
    },
    {
      "cell_type": "code",
      "source": [
        "all_df.groupby('activity_type_id').agg(\n",
        "    {'timestamp' : ['min', 'max']}\n",
        ")"
      ],
      "metadata": {
        "colab": {
          "base_uri": "https://localhost:8080/",
          "height": 425
        },
        "id": "EcuNKrj5XmWH",
        "outputId": "0c4dc663-8997-4c6e-e845-dd666803ca76"
      },
      "execution_count": 107,
      "outputs": [
        {
          "output_type": "execute_result",
          "data": {
            "text/plain": [
              "                                        timestamp  \\\n",
              "                                              min   \n",
              "activity_type_id                                    \n",
              "2806             2024-09-01 22:40:39.183000+01:00   \n",
              "2807             2024-09-05 09:31:03.823000+01:00   \n",
              "2808             2024-09-03 12:39:00.184000+01:00   \n",
              "2809             2024-09-03 13:01:10.250000+01:00   \n",
              "2810             2024-09-09 21:49:26.186000+01:00   \n",
              "2811             2024-09-10 20:54:29.654000+01:00   \n",
              "2812             2024-09-10 21:11:46.295000+01:00   \n",
              "2813             2024-09-11 09:14:52.249000+01:00   \n",
              "2814             2024-09-11 14:47:27.198000+01:00   \n",
              "2815             2024-09-08 23:37:03.817000+01:00   \n",
              "\n",
              "                                                   \n",
              "                                              max  \n",
              "activity_type_id                                   \n",
              "2806             2024-09-03 13:45:27.745000+01:00  \n",
              "2807             2024-09-10 20:54:29.516000+01:00  \n",
              "2808             2024-09-03 13:01:10.116000+01:00  \n",
              "2809             2024-09-03 13:19:41.088000+01:00  \n",
              "2810             2024-09-09 22:36:48.853000+01:00  \n",
              "2811             2024-09-10 21:11:46.209000+01:00  \n",
              "2812             2024-09-11 09:14:52.153000+01:00  \n",
              "2813             2024-09-11 14:47:27.106000+01:00  \n",
              "2814             2024-09-12 20:08:32.328000+01:00  \n",
              "2815             2024-09-12 20:27:20.257000+01:00  "
            ],
            "text/html": [
              "\n",
              "  <div id=\"df-a42cfc80-efb0-4419-a5c5-856e19c12e43\" class=\"colab-df-container\">\n",
              "    <div>\n",
              "<style scoped>\n",
              "    .dataframe tbody tr th:only-of-type {\n",
              "        vertical-align: middle;\n",
              "    }\n",
              "\n",
              "    .dataframe tbody tr th {\n",
              "        vertical-align: top;\n",
              "    }\n",
              "\n",
              "    .dataframe thead tr th {\n",
              "        text-align: left;\n",
              "    }\n",
              "\n",
              "    .dataframe thead tr:last-of-type th {\n",
              "        text-align: right;\n",
              "    }\n",
              "</style>\n",
              "<table border=\"1\" class=\"dataframe\">\n",
              "  <thead>\n",
              "    <tr>\n",
              "      <th></th>\n",
              "      <th colspan=\"2\" halign=\"left\">timestamp</th>\n",
              "    </tr>\n",
              "    <tr>\n",
              "      <th></th>\n",
              "      <th>min</th>\n",
              "      <th>max</th>\n",
              "    </tr>\n",
              "    <tr>\n",
              "      <th>activity_type_id</th>\n",
              "      <th></th>\n",
              "      <th></th>\n",
              "    </tr>\n",
              "  </thead>\n",
              "  <tbody>\n",
              "    <tr>\n",
              "      <th>2806</th>\n",
              "      <td>2024-09-01 22:40:39.183000+01:00</td>\n",
              "      <td>2024-09-03 13:45:27.745000+01:00</td>\n",
              "    </tr>\n",
              "    <tr>\n",
              "      <th>2807</th>\n",
              "      <td>2024-09-05 09:31:03.823000+01:00</td>\n",
              "      <td>2024-09-10 20:54:29.516000+01:00</td>\n",
              "    </tr>\n",
              "    <tr>\n",
              "      <th>2808</th>\n",
              "      <td>2024-09-03 12:39:00.184000+01:00</td>\n",
              "      <td>2024-09-03 13:01:10.116000+01:00</td>\n",
              "    </tr>\n",
              "    <tr>\n",
              "      <th>2809</th>\n",
              "      <td>2024-09-03 13:01:10.250000+01:00</td>\n",
              "      <td>2024-09-03 13:19:41.088000+01:00</td>\n",
              "    </tr>\n",
              "    <tr>\n",
              "      <th>2810</th>\n",
              "      <td>2024-09-09 21:49:26.186000+01:00</td>\n",
              "      <td>2024-09-09 22:36:48.853000+01:00</td>\n",
              "    </tr>\n",
              "    <tr>\n",
              "      <th>2811</th>\n",
              "      <td>2024-09-10 20:54:29.654000+01:00</td>\n",
              "      <td>2024-09-10 21:11:46.209000+01:00</td>\n",
              "    </tr>\n",
              "    <tr>\n",
              "      <th>2812</th>\n",
              "      <td>2024-09-10 21:11:46.295000+01:00</td>\n",
              "      <td>2024-09-11 09:14:52.153000+01:00</td>\n",
              "    </tr>\n",
              "    <tr>\n",
              "      <th>2813</th>\n",
              "      <td>2024-09-11 09:14:52.249000+01:00</td>\n",
              "      <td>2024-09-11 14:47:27.106000+01:00</td>\n",
              "    </tr>\n",
              "    <tr>\n",
              "      <th>2814</th>\n",
              "      <td>2024-09-11 14:47:27.198000+01:00</td>\n",
              "      <td>2024-09-12 20:08:32.328000+01:00</td>\n",
              "    </tr>\n",
              "    <tr>\n",
              "      <th>2815</th>\n",
              "      <td>2024-09-08 23:37:03.817000+01:00</td>\n",
              "      <td>2024-09-12 20:27:20.257000+01:00</td>\n",
              "    </tr>\n",
              "  </tbody>\n",
              "</table>\n",
              "</div>\n",
              "    <div class=\"colab-df-buttons\">\n",
              "\n",
              "  <div class=\"colab-df-container\">\n",
              "    <button class=\"colab-df-convert\" onclick=\"convertToInteractive('df-a42cfc80-efb0-4419-a5c5-856e19c12e43')\"\n",
              "            title=\"Convert this dataframe to an interactive table.\"\n",
              "            style=\"display:none;\">\n",
              "\n",
              "  <svg xmlns=\"http://www.w3.org/2000/svg\" height=\"24px\" viewBox=\"0 -960 960 960\">\n",
              "    <path d=\"M120-120v-720h720v720H120Zm60-500h600v-160H180v160Zm220 220h160v-160H400v160Zm0 220h160v-160H400v160ZM180-400h160v-160H180v160Zm440 0h160v-160H620v160ZM180-180h160v-160H180v160Zm440 0h160v-160H620v160Z\"/>\n",
              "  </svg>\n",
              "    </button>\n",
              "\n",
              "  <style>\n",
              "    .colab-df-container {\n",
              "      display:flex;\n",
              "      gap: 12px;\n",
              "    }\n",
              "\n",
              "    .colab-df-convert {\n",
              "      background-color: #E8F0FE;\n",
              "      border: none;\n",
              "      border-radius: 50%;\n",
              "      cursor: pointer;\n",
              "      display: none;\n",
              "      fill: #1967D2;\n",
              "      height: 32px;\n",
              "      padding: 0 0 0 0;\n",
              "      width: 32px;\n",
              "    }\n",
              "\n",
              "    .colab-df-convert:hover {\n",
              "      background-color: #E2EBFA;\n",
              "      box-shadow: 0px 1px 2px rgba(60, 64, 67, 0.3), 0px 1px 3px 1px rgba(60, 64, 67, 0.15);\n",
              "      fill: #174EA6;\n",
              "    }\n",
              "\n",
              "    .colab-df-buttons div {\n",
              "      margin-bottom: 4px;\n",
              "    }\n",
              "\n",
              "    [theme=dark] .colab-df-convert {\n",
              "      background-color: #3B4455;\n",
              "      fill: #D2E3FC;\n",
              "    }\n",
              "\n",
              "    [theme=dark] .colab-df-convert:hover {\n",
              "      background-color: #434B5C;\n",
              "      box-shadow: 0px 1px 3px 1px rgba(0, 0, 0, 0.15);\n",
              "      filter: drop-shadow(0px 1px 2px rgba(0, 0, 0, 0.3));\n",
              "      fill: #FFFFFF;\n",
              "    }\n",
              "  </style>\n",
              "\n",
              "    <script>\n",
              "      const buttonEl =\n",
              "        document.querySelector('#df-a42cfc80-efb0-4419-a5c5-856e19c12e43 button.colab-df-convert');\n",
              "      buttonEl.style.display =\n",
              "        google.colab.kernel.accessAllowed ? 'block' : 'none';\n",
              "\n",
              "      async function convertToInteractive(key) {\n",
              "        const element = document.querySelector('#df-a42cfc80-efb0-4419-a5c5-856e19c12e43');\n",
              "        const dataTable =\n",
              "          await google.colab.kernel.invokeFunction('convertToInteractive',\n",
              "                                                    [key], {});\n",
              "        if (!dataTable) return;\n",
              "\n",
              "        const docLinkHtml = 'Like what you see? Visit the ' +\n",
              "          '<a target=\"_blank\" href=https://colab.research.google.com/notebooks/data_table.ipynb>data table notebook</a>'\n",
              "          + ' to learn more about interactive tables.';\n",
              "        element.innerHTML = '';\n",
              "        dataTable['output_type'] = 'display_data';\n",
              "        await google.colab.output.renderOutput(dataTable, element);\n",
              "        const docLink = document.createElement('div');\n",
              "        docLink.innerHTML = docLinkHtml;\n",
              "        element.appendChild(docLink);\n",
              "      }\n",
              "    </script>\n",
              "  </div>\n",
              "\n",
              "\n",
              "    <div id=\"df-9c10a850-8fde-4d40-b2af-9131e81ed07b\">\n",
              "      <button class=\"colab-df-quickchart\" onclick=\"quickchart('df-9c10a850-8fde-4d40-b2af-9131e81ed07b')\"\n",
              "                title=\"Suggest charts\"\n",
              "                style=\"display:none;\">\n",
              "\n",
              "<svg xmlns=\"http://www.w3.org/2000/svg\" height=\"24px\"viewBox=\"0 0 24 24\"\n",
              "     width=\"24px\">\n",
              "    <g>\n",
              "        <path d=\"M19 3H5c-1.1 0-2 .9-2 2v14c0 1.1.9 2 2 2h14c1.1 0 2-.9 2-2V5c0-1.1-.9-2-2-2zM9 17H7v-7h2v7zm4 0h-2V7h2v10zm4 0h-2v-4h2v4z\"/>\n",
              "    </g>\n",
              "</svg>\n",
              "      </button>\n",
              "\n",
              "<style>\n",
              "  .colab-df-quickchart {\n",
              "      --bg-color: #E8F0FE;\n",
              "      --fill-color: #1967D2;\n",
              "      --hover-bg-color: #E2EBFA;\n",
              "      --hover-fill-color: #174EA6;\n",
              "      --disabled-fill-color: #AAA;\n",
              "      --disabled-bg-color: #DDD;\n",
              "  }\n",
              "\n",
              "  [theme=dark] .colab-df-quickchart {\n",
              "      --bg-color: #3B4455;\n",
              "      --fill-color: #D2E3FC;\n",
              "      --hover-bg-color: #434B5C;\n",
              "      --hover-fill-color: #FFFFFF;\n",
              "      --disabled-bg-color: #3B4455;\n",
              "      --disabled-fill-color: #666;\n",
              "  }\n",
              "\n",
              "  .colab-df-quickchart {\n",
              "    background-color: var(--bg-color);\n",
              "    border: none;\n",
              "    border-radius: 50%;\n",
              "    cursor: pointer;\n",
              "    display: none;\n",
              "    fill: var(--fill-color);\n",
              "    height: 32px;\n",
              "    padding: 0;\n",
              "    width: 32px;\n",
              "  }\n",
              "\n",
              "  .colab-df-quickchart:hover {\n",
              "    background-color: var(--hover-bg-color);\n",
              "    box-shadow: 0 1px 2px rgba(60, 64, 67, 0.3), 0 1px 3px 1px rgba(60, 64, 67, 0.15);\n",
              "    fill: var(--button-hover-fill-color);\n",
              "  }\n",
              "\n",
              "  .colab-df-quickchart-complete:disabled,\n",
              "  .colab-df-quickchart-complete:disabled:hover {\n",
              "    background-color: var(--disabled-bg-color);\n",
              "    fill: var(--disabled-fill-color);\n",
              "    box-shadow: none;\n",
              "  }\n",
              "\n",
              "  .colab-df-spinner {\n",
              "    border: 2px solid var(--fill-color);\n",
              "    border-color: transparent;\n",
              "    border-bottom-color: var(--fill-color);\n",
              "    animation:\n",
              "      spin 1s steps(1) infinite;\n",
              "  }\n",
              "\n",
              "  @keyframes spin {\n",
              "    0% {\n",
              "      border-color: transparent;\n",
              "      border-bottom-color: var(--fill-color);\n",
              "      border-left-color: var(--fill-color);\n",
              "    }\n",
              "    20% {\n",
              "      border-color: transparent;\n",
              "      border-left-color: var(--fill-color);\n",
              "      border-top-color: var(--fill-color);\n",
              "    }\n",
              "    30% {\n",
              "      border-color: transparent;\n",
              "      border-left-color: var(--fill-color);\n",
              "      border-top-color: var(--fill-color);\n",
              "      border-right-color: var(--fill-color);\n",
              "    }\n",
              "    40% {\n",
              "      border-color: transparent;\n",
              "      border-right-color: var(--fill-color);\n",
              "      border-top-color: var(--fill-color);\n",
              "    }\n",
              "    60% {\n",
              "      border-color: transparent;\n",
              "      border-right-color: var(--fill-color);\n",
              "    }\n",
              "    80% {\n",
              "      border-color: transparent;\n",
              "      border-right-color: var(--fill-color);\n",
              "      border-bottom-color: var(--fill-color);\n",
              "    }\n",
              "    90% {\n",
              "      border-color: transparent;\n",
              "      border-bottom-color: var(--fill-color);\n",
              "    }\n",
              "  }\n",
              "</style>\n",
              "\n",
              "      <script>\n",
              "        async function quickchart(key) {\n",
              "          const quickchartButtonEl =\n",
              "            document.querySelector('#' + key + ' button');\n",
              "          quickchartButtonEl.disabled = true;  // To prevent multiple clicks.\n",
              "          quickchartButtonEl.classList.add('colab-df-spinner');\n",
              "          try {\n",
              "            const charts = await google.colab.kernel.invokeFunction(\n",
              "                'suggestCharts', [key], {});\n",
              "          } catch (error) {\n",
              "            console.error('Error during call to suggestCharts:', error);\n",
              "          }\n",
              "          quickchartButtonEl.classList.remove('colab-df-spinner');\n",
              "          quickchartButtonEl.classList.add('colab-df-quickchart-complete');\n",
              "        }\n",
              "        (() => {\n",
              "          let quickchartButtonEl =\n",
              "            document.querySelector('#df-9c10a850-8fde-4d40-b2af-9131e81ed07b button');\n",
              "          quickchartButtonEl.style.display =\n",
              "            google.colab.kernel.accessAllowed ? 'block' : 'none';\n",
              "        })();\n",
              "      </script>\n",
              "    </div>\n",
              "\n",
              "    </div>\n",
              "  </div>\n"
            ],
            "application/vnd.google.colaboratory.intrinsic+json": {
              "type": "dataframe",
              "summary": "{\n  \"name\": \")\",\n  \"rows\": 10,\n  \"fields\": [\n    {\n      \"column\": [\n        \"activity_type_id\",\n        \"\"\n      ],\n      \"properties\": {\n        \"dtype\": \"number\",\n        \"std\": 3,\n        \"min\": 2806,\n        \"max\": 2815,\n        \"num_unique_values\": 10,\n        \"samples\": [\n          2814,\n          2807,\n          2811\n        ],\n        \"semantic_type\": \"\",\n        \"description\": \"\"\n      }\n    },\n    {\n      \"column\": [\n        \"timestamp\",\n        \"min\"\n      ],\n      \"properties\": {\n        \"dtype\": \"date\",\n        \"min\": \"2024-09-01 22:40:39.183000+01:00\",\n        \"max\": \"2024-09-11 14:47:27.198000+01:00\",\n        \"num_unique_values\": 10,\n        \"samples\": [\n          \"2024-09-11 14:47:27.198000+01:00\",\n          \"2024-09-05 09:31:03.823000+01:00\",\n          \"2024-09-10 20:54:29.654000+01:00\"\n        ],\n        \"semantic_type\": \"\",\n        \"description\": \"\"\n      }\n    },\n    {\n      \"column\": [\n        \"timestamp\",\n        \"max\"\n      ],\n      \"properties\": {\n        \"dtype\": \"date\",\n        \"min\": \"2024-09-03 13:01:10.116000+01:00\",\n        \"max\": \"2024-09-12 20:27:20.257000+01:00\",\n        \"num_unique_values\": 10,\n        \"samples\": [\n          \"2024-09-12 20:08:32.328000+01:00\",\n          \"2024-09-10 20:54:29.516000+01:00\",\n          \"2024-09-10 21:11:46.209000+01:00\"\n        ],\n        \"semantic_type\": \"\",\n        \"description\": \"\"\n      }\n    }\n  ]\n}"
            }
          },
          "metadata": {},
          "execution_count": 107
        }
      ]
    },
    {
      "cell_type": "code",
      "source": [
        "all_df['format_timestamp'] = all_df['timestamp'].dt.strftime('%Y-%m-%d %H:%M:%S')\n",
        "all_df.head()"
      ],
      "metadata": {
        "colab": {
          "base_uri": "https://localhost:8080/",
          "height": 206
        },
        "id": "FGcO0DppdFaR",
        "outputId": "5fb19ca5-d5a4-4757-aa54-d11dfe73d84a"
      },
      "execution_count": 110,
      "outputs": [
        {
          "output_type": "execute_result",
          "data": {
            "text/plain": [
              "   activity_type_id                        timestamp      x      y       z  \\\n",
              "0              2806 2024-09-03 13:38:21.203000+01:00  0.857 -1.681   9.773   \n",
              "1              2806 2024-09-03 13:38:21.339000+01:00  2.069 -0.900   9.275   \n",
              "2              2806 2024-09-03 13:38:21.470000+01:00  2.238 -1.033  10.124   \n",
              "3              2806 2024-09-03 13:38:21.602000+01:00  2.310 -1.086   9.507   \n",
              "4              2806 2024-09-03 13:38:21.737000+01:00  2.381 -1.453   9.727   \n",
              "\n",
              "      format_timestamp  \n",
              "0  2024-09-03 13:38:21  \n",
              "1  2024-09-03 13:38:21  \n",
              "2  2024-09-03 13:38:21  \n",
              "3  2024-09-03 13:38:21  \n",
              "4  2024-09-03 13:38:21  "
            ],
            "text/html": [
              "\n",
              "  <div id=\"df-1174a70a-71c0-4ccc-abac-cacbb40bdd0d\" class=\"colab-df-container\">\n",
              "    <div>\n",
              "<style scoped>\n",
              "    .dataframe tbody tr th:only-of-type {\n",
              "        vertical-align: middle;\n",
              "    }\n",
              "\n",
              "    .dataframe tbody tr th {\n",
              "        vertical-align: top;\n",
              "    }\n",
              "\n",
              "    .dataframe thead th {\n",
              "        text-align: right;\n",
              "    }\n",
              "</style>\n",
              "<table border=\"1\" class=\"dataframe\">\n",
              "  <thead>\n",
              "    <tr style=\"text-align: right;\">\n",
              "      <th></th>\n",
              "      <th>activity_type_id</th>\n",
              "      <th>timestamp</th>\n",
              "      <th>x</th>\n",
              "      <th>y</th>\n",
              "      <th>z</th>\n",
              "      <th>format_timestamp</th>\n",
              "    </tr>\n",
              "  </thead>\n",
              "  <tbody>\n",
              "    <tr>\n",
              "      <th>0</th>\n",
              "      <td>2806</td>\n",
              "      <td>2024-09-03 13:38:21.203000+01:00</td>\n",
              "      <td>0.857</td>\n",
              "      <td>-1.681</td>\n",
              "      <td>9.773</td>\n",
              "      <td>2024-09-03 13:38:21</td>\n",
              "    </tr>\n",
              "    <tr>\n",
              "      <th>1</th>\n",
              "      <td>2806</td>\n",
              "      <td>2024-09-03 13:38:21.339000+01:00</td>\n",
              "      <td>2.069</td>\n",
              "      <td>-0.900</td>\n",
              "      <td>9.275</td>\n",
              "      <td>2024-09-03 13:38:21</td>\n",
              "    </tr>\n",
              "    <tr>\n",
              "      <th>2</th>\n",
              "      <td>2806</td>\n",
              "      <td>2024-09-03 13:38:21.470000+01:00</td>\n",
              "      <td>2.238</td>\n",
              "      <td>-1.033</td>\n",
              "      <td>10.124</td>\n",
              "      <td>2024-09-03 13:38:21</td>\n",
              "    </tr>\n",
              "    <tr>\n",
              "      <th>3</th>\n",
              "      <td>2806</td>\n",
              "      <td>2024-09-03 13:38:21.602000+01:00</td>\n",
              "      <td>2.310</td>\n",
              "      <td>-1.086</td>\n",
              "      <td>9.507</td>\n",
              "      <td>2024-09-03 13:38:21</td>\n",
              "    </tr>\n",
              "    <tr>\n",
              "      <th>4</th>\n",
              "      <td>2806</td>\n",
              "      <td>2024-09-03 13:38:21.737000+01:00</td>\n",
              "      <td>2.381</td>\n",
              "      <td>-1.453</td>\n",
              "      <td>9.727</td>\n",
              "      <td>2024-09-03 13:38:21</td>\n",
              "    </tr>\n",
              "  </tbody>\n",
              "</table>\n",
              "</div>\n",
              "    <div class=\"colab-df-buttons\">\n",
              "\n",
              "  <div class=\"colab-df-container\">\n",
              "    <button class=\"colab-df-convert\" onclick=\"convertToInteractive('df-1174a70a-71c0-4ccc-abac-cacbb40bdd0d')\"\n",
              "            title=\"Convert this dataframe to an interactive table.\"\n",
              "            style=\"display:none;\">\n",
              "\n",
              "  <svg xmlns=\"http://www.w3.org/2000/svg\" height=\"24px\" viewBox=\"0 -960 960 960\">\n",
              "    <path d=\"M120-120v-720h720v720H120Zm60-500h600v-160H180v160Zm220 220h160v-160H400v160Zm0 220h160v-160H400v160ZM180-400h160v-160H180v160Zm440 0h160v-160H620v160ZM180-180h160v-160H180v160Zm440 0h160v-160H620v160Z\"/>\n",
              "  </svg>\n",
              "    </button>\n",
              "\n",
              "  <style>\n",
              "    .colab-df-container {\n",
              "      display:flex;\n",
              "      gap: 12px;\n",
              "    }\n",
              "\n",
              "    .colab-df-convert {\n",
              "      background-color: #E8F0FE;\n",
              "      border: none;\n",
              "      border-radius: 50%;\n",
              "      cursor: pointer;\n",
              "      display: none;\n",
              "      fill: #1967D2;\n",
              "      height: 32px;\n",
              "      padding: 0 0 0 0;\n",
              "      width: 32px;\n",
              "    }\n",
              "\n",
              "    .colab-df-convert:hover {\n",
              "      background-color: #E2EBFA;\n",
              "      box-shadow: 0px 1px 2px rgba(60, 64, 67, 0.3), 0px 1px 3px 1px rgba(60, 64, 67, 0.15);\n",
              "      fill: #174EA6;\n",
              "    }\n",
              "\n",
              "    .colab-df-buttons div {\n",
              "      margin-bottom: 4px;\n",
              "    }\n",
              "\n",
              "    [theme=dark] .colab-df-convert {\n",
              "      background-color: #3B4455;\n",
              "      fill: #D2E3FC;\n",
              "    }\n",
              "\n",
              "    [theme=dark] .colab-df-convert:hover {\n",
              "      background-color: #434B5C;\n",
              "      box-shadow: 0px 1px 3px 1px rgba(0, 0, 0, 0.15);\n",
              "      filter: drop-shadow(0px 1px 2px rgba(0, 0, 0, 0.3));\n",
              "      fill: #FFFFFF;\n",
              "    }\n",
              "  </style>\n",
              "\n",
              "    <script>\n",
              "      const buttonEl =\n",
              "        document.querySelector('#df-1174a70a-71c0-4ccc-abac-cacbb40bdd0d button.colab-df-convert');\n",
              "      buttonEl.style.display =\n",
              "        google.colab.kernel.accessAllowed ? 'block' : 'none';\n",
              "\n",
              "      async function convertToInteractive(key) {\n",
              "        const element = document.querySelector('#df-1174a70a-71c0-4ccc-abac-cacbb40bdd0d');\n",
              "        const dataTable =\n",
              "          await google.colab.kernel.invokeFunction('convertToInteractive',\n",
              "                                                    [key], {});\n",
              "        if (!dataTable) return;\n",
              "\n",
              "        const docLinkHtml = 'Like what you see? Visit the ' +\n",
              "          '<a target=\"_blank\" href=https://colab.research.google.com/notebooks/data_table.ipynb>data table notebook</a>'\n",
              "          + ' to learn more about interactive tables.';\n",
              "        element.innerHTML = '';\n",
              "        dataTable['output_type'] = 'display_data';\n",
              "        await google.colab.output.renderOutput(dataTable, element);\n",
              "        const docLink = document.createElement('div');\n",
              "        docLink.innerHTML = docLinkHtml;\n",
              "        element.appendChild(docLink);\n",
              "      }\n",
              "    </script>\n",
              "  </div>\n",
              "\n",
              "\n",
              "    <div id=\"df-448e8ed8-0876-48e7-a87c-ab15cd71452f\">\n",
              "      <button class=\"colab-df-quickchart\" onclick=\"quickchart('df-448e8ed8-0876-48e7-a87c-ab15cd71452f')\"\n",
              "                title=\"Suggest charts\"\n",
              "                style=\"display:none;\">\n",
              "\n",
              "<svg xmlns=\"http://www.w3.org/2000/svg\" height=\"24px\"viewBox=\"0 0 24 24\"\n",
              "     width=\"24px\">\n",
              "    <g>\n",
              "        <path d=\"M19 3H5c-1.1 0-2 .9-2 2v14c0 1.1.9 2 2 2h14c1.1 0 2-.9 2-2V5c0-1.1-.9-2-2-2zM9 17H7v-7h2v7zm4 0h-2V7h2v10zm4 0h-2v-4h2v4z\"/>\n",
              "    </g>\n",
              "</svg>\n",
              "      </button>\n",
              "\n",
              "<style>\n",
              "  .colab-df-quickchart {\n",
              "      --bg-color: #E8F0FE;\n",
              "      --fill-color: #1967D2;\n",
              "      --hover-bg-color: #E2EBFA;\n",
              "      --hover-fill-color: #174EA6;\n",
              "      --disabled-fill-color: #AAA;\n",
              "      --disabled-bg-color: #DDD;\n",
              "  }\n",
              "\n",
              "  [theme=dark] .colab-df-quickchart {\n",
              "      --bg-color: #3B4455;\n",
              "      --fill-color: #D2E3FC;\n",
              "      --hover-bg-color: #434B5C;\n",
              "      --hover-fill-color: #FFFFFF;\n",
              "      --disabled-bg-color: #3B4455;\n",
              "      --disabled-fill-color: #666;\n",
              "  }\n",
              "\n",
              "  .colab-df-quickchart {\n",
              "    background-color: var(--bg-color);\n",
              "    border: none;\n",
              "    border-radius: 50%;\n",
              "    cursor: pointer;\n",
              "    display: none;\n",
              "    fill: var(--fill-color);\n",
              "    height: 32px;\n",
              "    padding: 0;\n",
              "    width: 32px;\n",
              "  }\n",
              "\n",
              "  .colab-df-quickchart:hover {\n",
              "    background-color: var(--hover-bg-color);\n",
              "    box-shadow: 0 1px 2px rgba(60, 64, 67, 0.3), 0 1px 3px 1px rgba(60, 64, 67, 0.15);\n",
              "    fill: var(--button-hover-fill-color);\n",
              "  }\n",
              "\n",
              "  .colab-df-quickchart-complete:disabled,\n",
              "  .colab-df-quickchart-complete:disabled:hover {\n",
              "    background-color: var(--disabled-bg-color);\n",
              "    fill: var(--disabled-fill-color);\n",
              "    box-shadow: none;\n",
              "  }\n",
              "\n",
              "  .colab-df-spinner {\n",
              "    border: 2px solid var(--fill-color);\n",
              "    border-color: transparent;\n",
              "    border-bottom-color: var(--fill-color);\n",
              "    animation:\n",
              "      spin 1s steps(1) infinite;\n",
              "  }\n",
              "\n",
              "  @keyframes spin {\n",
              "    0% {\n",
              "      border-color: transparent;\n",
              "      border-bottom-color: var(--fill-color);\n",
              "      border-left-color: var(--fill-color);\n",
              "    }\n",
              "    20% {\n",
              "      border-color: transparent;\n",
              "      border-left-color: var(--fill-color);\n",
              "      border-top-color: var(--fill-color);\n",
              "    }\n",
              "    30% {\n",
              "      border-color: transparent;\n",
              "      border-left-color: var(--fill-color);\n",
              "      border-top-color: var(--fill-color);\n",
              "      border-right-color: var(--fill-color);\n",
              "    }\n",
              "    40% {\n",
              "      border-color: transparent;\n",
              "      border-right-color: var(--fill-color);\n",
              "      border-top-color: var(--fill-color);\n",
              "    }\n",
              "    60% {\n",
              "      border-color: transparent;\n",
              "      border-right-color: var(--fill-color);\n",
              "    }\n",
              "    80% {\n",
              "      border-color: transparent;\n",
              "      border-right-color: var(--fill-color);\n",
              "      border-bottom-color: var(--fill-color);\n",
              "    }\n",
              "    90% {\n",
              "      border-color: transparent;\n",
              "      border-bottom-color: var(--fill-color);\n",
              "    }\n",
              "  }\n",
              "</style>\n",
              "\n",
              "      <script>\n",
              "        async function quickchart(key) {\n",
              "          const quickchartButtonEl =\n",
              "            document.querySelector('#' + key + ' button');\n",
              "          quickchartButtonEl.disabled = true;  // To prevent multiple clicks.\n",
              "          quickchartButtonEl.classList.add('colab-df-spinner');\n",
              "          try {\n",
              "            const charts = await google.colab.kernel.invokeFunction(\n",
              "                'suggestCharts', [key], {});\n",
              "          } catch (error) {\n",
              "            console.error('Error during call to suggestCharts:', error);\n",
              "          }\n",
              "          quickchartButtonEl.classList.remove('colab-df-spinner');\n",
              "          quickchartButtonEl.classList.add('colab-df-quickchart-complete');\n",
              "        }\n",
              "        (() => {\n",
              "          let quickchartButtonEl =\n",
              "            document.querySelector('#df-448e8ed8-0876-48e7-a87c-ab15cd71452f button');\n",
              "          quickchartButtonEl.style.display =\n",
              "            google.colab.kernel.accessAllowed ? 'block' : 'none';\n",
              "        })();\n",
              "      </script>\n",
              "    </div>\n",
              "\n",
              "    </div>\n",
              "  </div>\n"
            ],
            "application/vnd.google.colaboratory.intrinsic+json": {
              "type": "dataframe",
              "variable_name": "all_df"
            }
          },
          "metadata": {},
          "execution_count": 110
        }
      ]
    },
    {
      "cell_type": "code",
      "source": [
        "# Konversi datetime\n",
        "all_df['format_timestamp'] = pd.to_datetime(all_df['format_timestamp'])\n",
        "train_activities_df['started'] = pd.to_datetime(train_activities_df['started'])\n",
        "train_activities_df['finished'] = pd.to_datetime(train_activities_df['finished'])\n",
        "\n",
        "# Siapkan list hasil dan id yang tidak ditemukan\n",
        "filtered_df_list = []\n",
        "missing_row_ids = []\n",
        "\n",
        "# Iterasi per baris aktivitas\n",
        "for i, row in train_activities_df.iterrows():\n",
        "    start = row['started']\n",
        "    finish = row['finished']\n",
        "    activity_type_id = row['activity_type_id']\n",
        "    activity_row_id = row['id']\n",
        "\n",
        "    # Tambahkan margin waktu agar tetap menangkap data walau selisihnya kecil\n",
        "    margin = pd.Timedelta(seconds=1)\n",
        "    mask = all_df['format_timestamp'].between(start - margin, finish + margin)\n",
        "\n",
        "    # Assign filtered data to temp_df\n",
        "    temp_df = all_df.loc[mask].copy()  # gunakan .copy() untuk menghindari SettingWithCopyWarning\n",
        "\n",
        "    if not temp_df.empty:\n",
        "        # Tambahkan info aktivitas agar bisa dilacak\n",
        "        temp_df.loc[:, 'activity_type_id'] = activity_type_id\n",
        "        temp_df.loc[:, 'activity_row_id'] = activity_row_id\n",
        "        filtered_df_list.append(temp_df)\n",
        "    else:\n",
        "        missing_row_ids.append(activity_row_id)\n",
        "\n",
        "# Gabungkan semua hasil\n",
        "if filtered_df_list:\n",
        "    result_df = pd.concat(filtered_df_list, ignore_index=True)\n",
        "else:\n",
        "    result_df = pd.DataFrame()  # fallback jika tidak ada yang cocok\n",
        "\n",
        "# Laporan\n",
        "print(\"Jumlah aktivitas berhasil dicocokkan:\", result_df['activity_row_id'].nunique() if not result_df.empty else 0)\n",
        "print(\"Jumlah baris sensor akhir:\", len(result_df))\n",
        "print(\"ID aktivitas yang tidak ditemukan data sensornya:\", missing_row_ids)\n"
      ],
      "metadata": {
        "colab": {
          "base_uri": "https://localhost:8080/"
        },
        "id": "SWwr4LkTZm8O",
        "outputId": "bef85fe8-a4c4-45f9-b2f4-7a50122bd508"
      },
      "execution_count": 145,
      "outputs": [
        {
          "output_type": "stream",
          "name": "stdout",
          "text": [
            "Jumlah aktivitas berhasil dicocokkan: 14\n",
            "Jumlah baris sensor akhir: 1390\n",
            "ID aktivitas yang tidak ditemukan data sensornya: [1130251, 1130254, 1130257, 1130261, 1130292, 1130293, 1130294, 1130306, 1136872, 1136878, 1136882, 1136887, 1136888, 1136889, 1136890, 1136896, 1136898, 1136900, 1136903, 1136904, 1136906, 1136908, 1136909, 1136910, 1136911, 1136913, 1136915, 1136916, 1136917, 1136918, 1136927, 1136936, 1136945, 1136950, 1136966, 1136975, 1136976, 1136978, 1136980, 1136981, 1136983, 1136986, 1136987, 1136989, 1136991, 1136992, 1136993, 1136994, 1136995, 1137001, 1137002, 1137003, 1137010, 1137021, 1137022, 1137023, 1137025, 1137026, 1137027, 1137037, 1137038, 1137039, 1137052, 1137053, 1137054, 1137055, 1137057, 1137058, 1137059, 1137060, 1137061, 1137062, 1137063, 1137064, 1137065, 1137066, 1137067, 1137068, 1137069, 1137070, 1137071, 1137072, 1137073, 1137074, 1137118, 1137119, 1137120, 1137121, 1137122, 1137123, 1137167, 1137168, 1137169, 1137170, 1137171, 1137172, 1137173, 1137174, 1137175, 1137176, 1137177, 1137178, 1137179, 1137180, 1137181, 1137182, 1137183, 1137184, 1137185, 1137186, 1137187, 1137188, 1137189, 1137190, 1137191, 1137192, 1137193, 1137194, 1137246, 1137247, 1137248, 1137249, 1137250, 1137252, 1137253, 1137254, 1137255, 1137256, 1137257, 1137258, 1137259, 1137260, 1137261, 1137263, 1137264, 1137266, 1137267, 1137268, 1137269, 1137270, 1137271, 1137272, 1137273, 1137274, 1137275, 1137276, 1137278, 1137324, 1137327, 1137328, 1137329, 1137330, 1137332, 1137333, 1137334, 1137335, 1137336, 1137337, 1137338, 1137339, 1137340, 1137341, 1137342, 1137343, 1137344, 1137345, 1137346, 1137347, 1137348, 1137349, 1137350, 1137351, 1137352, 1137353, 1137354, 1160419, 1160420, 1160421, 1160422, 1160423, 1160424, 1160425, 1160426, 1160427, 1160428, 1160429, 1160430, 1160431, 1160432, 1160433, 1160434, 1160435, 1160436, 1160437, 1160438, 1160439, 1160440, 1160441, 1160442, 1160443, 1160444, 1160445, 1160446, 1160501, 1160502, 1160504, 1160505, 1160506, 1160507, 1160508, 1160509, 1160510, 1160511, 1160512, 1160513, 1160514, 1160515, 1160516, 1160517, 1160518, 1160519, 1160520, 1160521, 1160522, 1160523, 1160524, 1160525, 1160526, 1160527, 1160528, 1160529, 1160543, 1164154, 1164155, 1164156, 1164157, 1164158, 1164159, 1164160, 1164161, 1164162, 1164163, 1164164, 1164165, 1164166, 1164167, 1164168, 1164169, 1164170, 1164171, 1164172, 1164173, 1164174, 1164175, 1164176, 1164177, 1164178, 1164187, 1164217, 1164218, 1164219]\n"
          ]
        }
      ]
    },
    {
      "cell_type": "code",
      "source": [
        "result_df = result_df.drop_duplicates(subset=['timestamp', 'x', 'y', 'z'])"
      ],
      "metadata": {
        "id": "n-HWIkHx1wHj"
      },
      "execution_count": 137,
      "outputs": []
    },
    {
      "cell_type": "code",
      "source": [
        "all_df.info()"
      ],
      "metadata": {
        "colab": {
          "base_uri": "https://localhost:8080/"
        },
        "id": "I7ujvCkjw5Az",
        "outputId": "989880c2-5686-4efb-911f-d29d01cfd9f7"
      },
      "execution_count": 138,
      "outputs": [
        {
          "output_type": "stream",
          "name": "stdout",
          "text": [
            "<class 'pandas.core.frame.DataFrame'>\n",
            "Index: 1755419 entries, 0 to 152314\n",
            "Data columns (total 6 columns):\n",
            " #   Column            Dtype                    \n",
            "---  ------            -----                    \n",
            " 0   activity_type_id  int64                    \n",
            " 1   timestamp         datetime64[ns, UTC+01:00]\n",
            " 2   x                 float64                  \n",
            " 3   y                 float64                  \n",
            " 4   z                 float64                  \n",
            " 5   format_timestamp  datetime64[ns]           \n",
            "dtypes: datetime64[ns, UTC+01:00](1), datetime64[ns](1), float64(3), int64(1)\n",
            "memory usage: 93.7 MB\n"
          ]
        }
      ]
    },
    {
      "cell_type": "code",
      "source": [
        "result_df.info()"
      ],
      "metadata": {
        "colab": {
          "base_uri": "https://localhost:8080/"
        },
        "id": "j9YxsZO7b15b",
        "outputId": "70b34b2f-dba8-4c78-f48b-bf2a1164f56c"
      },
      "execution_count": 139,
      "outputs": [
        {
          "output_type": "stream",
          "name": "stdout",
          "text": [
            "<class 'pandas.core.frame.DataFrame'>\n",
            "Index: 763 entries, 0 to 1221\n",
            "Data columns (total 7 columns):\n",
            " #   Column            Non-Null Count  Dtype                    \n",
            "---  ------            --------------  -----                    \n",
            " 0   activity_type_id  763 non-null    int64                    \n",
            " 1   timestamp         763 non-null    datetime64[ns, UTC+01:00]\n",
            " 2   x                 763 non-null    float64                  \n",
            " 3   y                 763 non-null    float64                  \n",
            " 4   z                 763 non-null    float64                  \n",
            " 5   format_timestamp  763 non-null    datetime64[ns]           \n",
            " 6   activity_row_id   763 non-null    int64                    \n",
            "dtypes: datetime64[ns, UTC+01:00](1), datetime64[ns](1), float64(3), int64(2)\n",
            "memory usage: 47.7 KB\n"
          ]
        }
      ]
    },
    {
      "cell_type": "code",
      "source": [
        "result_df.describe(include='all')"
      ],
      "metadata": {
        "colab": {
          "base_uri": "https://localhost:8080/",
          "height": 300
        },
        "id": "G72aQ_f8cAZ2",
        "outputId": "40781201-4a88-4b29-8865-eb6332b7a28b"
      },
      "execution_count": 131,
      "outputs": [
        {
          "output_type": "execute_result",
          "data": {
            "text/plain": [
              "       activity_type_id                            timestamp             x  \\\n",
              "count         1461989.0                              1461989  1.461989e+06   \n",
              "mean             2806.0  2024-09-08 04:03:19.526899968+01:00 -8.708360e-02   \n",
              "min              2806.0     2024-09-03 12:39:00.184000+01:00 -2.457200e+01   \n",
              "25%              2806.0  2024-09-05 22:29:42.404999936+01:00 -6.260000e-01   \n",
              "50%              2806.0  2024-09-08 23:44:40.182000128+01:00  2.830000e-01   \n",
              "75%              2806.0  2024-09-09 23:32:15.254000128+01:00  1.149000e+00   \n",
              "max              2806.0     2024-09-10 22:59:26.520000+01:00  3.458800e+01   \n",
              "std                 0.0                                  NaN  3.229181e+00   \n",
              "\n",
              "                  y             z               format_timestamp  \n",
              "count  1.461989e+06  1.461989e+06                        1461989  \n",
              "mean  -2.206613e-01  5.900912e+00  2024-09-08 04:03:19.030646272  \n",
              "min   -7.223000e+01 -5.935100e+01            2024-09-03 12:39:00  \n",
              "25%   -7.060000e-01  7.800000e-01            2024-09-05 22:29:42  \n",
              "50%   -1.630000e-01  9.771000e+00            2024-09-08 23:44:40  \n",
              "75%    1.834000e+00  1.008700e+01            2024-09-09 23:32:15  \n",
              "max    3.296000e+01  4.433300e+01            2024-09-10 22:59:26  \n",
              "std    3.981484e+00  6.416244e+00                            NaN  "
            ],
            "text/html": [
              "\n",
              "  <div id=\"df-2318a466-c535-4a1e-b1c1-7b0217495cee\" class=\"colab-df-container\">\n",
              "    <div>\n",
              "<style scoped>\n",
              "    .dataframe tbody tr th:only-of-type {\n",
              "        vertical-align: middle;\n",
              "    }\n",
              "\n",
              "    .dataframe tbody tr th {\n",
              "        vertical-align: top;\n",
              "    }\n",
              "\n",
              "    .dataframe thead th {\n",
              "        text-align: right;\n",
              "    }\n",
              "</style>\n",
              "<table border=\"1\" class=\"dataframe\">\n",
              "  <thead>\n",
              "    <tr style=\"text-align: right;\">\n",
              "      <th></th>\n",
              "      <th>activity_type_id</th>\n",
              "      <th>timestamp</th>\n",
              "      <th>x</th>\n",
              "      <th>y</th>\n",
              "      <th>z</th>\n",
              "      <th>format_timestamp</th>\n",
              "    </tr>\n",
              "  </thead>\n",
              "  <tbody>\n",
              "    <tr>\n",
              "      <th>count</th>\n",
              "      <td>1461989.0</td>\n",
              "      <td>1461989</td>\n",
              "      <td>1.461989e+06</td>\n",
              "      <td>1.461989e+06</td>\n",
              "      <td>1.461989e+06</td>\n",
              "      <td>1461989</td>\n",
              "    </tr>\n",
              "    <tr>\n",
              "      <th>mean</th>\n",
              "      <td>2806.0</td>\n",
              "      <td>2024-09-08 04:03:19.526899968+01:00</td>\n",
              "      <td>-8.708360e-02</td>\n",
              "      <td>-2.206613e-01</td>\n",
              "      <td>5.900912e+00</td>\n",
              "      <td>2024-09-08 04:03:19.030646272</td>\n",
              "    </tr>\n",
              "    <tr>\n",
              "      <th>min</th>\n",
              "      <td>2806.0</td>\n",
              "      <td>2024-09-03 12:39:00.184000+01:00</td>\n",
              "      <td>-2.457200e+01</td>\n",
              "      <td>-7.223000e+01</td>\n",
              "      <td>-5.935100e+01</td>\n",
              "      <td>2024-09-03 12:39:00</td>\n",
              "    </tr>\n",
              "    <tr>\n",
              "      <th>25%</th>\n",
              "      <td>2806.0</td>\n",
              "      <td>2024-09-05 22:29:42.404999936+01:00</td>\n",
              "      <td>-6.260000e-01</td>\n",
              "      <td>-7.060000e-01</td>\n",
              "      <td>7.800000e-01</td>\n",
              "      <td>2024-09-05 22:29:42</td>\n",
              "    </tr>\n",
              "    <tr>\n",
              "      <th>50%</th>\n",
              "      <td>2806.0</td>\n",
              "      <td>2024-09-08 23:44:40.182000128+01:00</td>\n",
              "      <td>2.830000e-01</td>\n",
              "      <td>-1.630000e-01</td>\n",
              "      <td>9.771000e+00</td>\n",
              "      <td>2024-09-08 23:44:40</td>\n",
              "    </tr>\n",
              "    <tr>\n",
              "      <th>75%</th>\n",
              "      <td>2806.0</td>\n",
              "      <td>2024-09-09 23:32:15.254000128+01:00</td>\n",
              "      <td>1.149000e+00</td>\n",
              "      <td>1.834000e+00</td>\n",
              "      <td>1.008700e+01</td>\n",
              "      <td>2024-09-09 23:32:15</td>\n",
              "    </tr>\n",
              "    <tr>\n",
              "      <th>max</th>\n",
              "      <td>2806.0</td>\n",
              "      <td>2024-09-10 22:59:26.520000+01:00</td>\n",
              "      <td>3.458800e+01</td>\n",
              "      <td>3.296000e+01</td>\n",
              "      <td>4.433300e+01</td>\n",
              "      <td>2024-09-10 22:59:26</td>\n",
              "    </tr>\n",
              "    <tr>\n",
              "      <th>std</th>\n",
              "      <td>0.0</td>\n",
              "      <td>NaN</td>\n",
              "      <td>3.229181e+00</td>\n",
              "      <td>3.981484e+00</td>\n",
              "      <td>6.416244e+00</td>\n",
              "      <td>NaN</td>\n",
              "    </tr>\n",
              "  </tbody>\n",
              "</table>\n",
              "</div>\n",
              "    <div class=\"colab-df-buttons\">\n",
              "\n",
              "  <div class=\"colab-df-container\">\n",
              "    <button class=\"colab-df-convert\" onclick=\"convertToInteractive('df-2318a466-c535-4a1e-b1c1-7b0217495cee')\"\n",
              "            title=\"Convert this dataframe to an interactive table.\"\n",
              "            style=\"display:none;\">\n",
              "\n",
              "  <svg xmlns=\"http://www.w3.org/2000/svg\" height=\"24px\" viewBox=\"0 -960 960 960\">\n",
              "    <path d=\"M120-120v-720h720v720H120Zm60-500h600v-160H180v160Zm220 220h160v-160H400v160Zm0 220h160v-160H400v160ZM180-400h160v-160H180v160Zm440 0h160v-160H620v160ZM180-180h160v-160H180v160Zm440 0h160v-160H620v160Z\"/>\n",
              "  </svg>\n",
              "    </button>\n",
              "\n",
              "  <style>\n",
              "    .colab-df-container {\n",
              "      display:flex;\n",
              "      gap: 12px;\n",
              "    }\n",
              "\n",
              "    .colab-df-convert {\n",
              "      background-color: #E8F0FE;\n",
              "      border: none;\n",
              "      border-radius: 50%;\n",
              "      cursor: pointer;\n",
              "      display: none;\n",
              "      fill: #1967D2;\n",
              "      height: 32px;\n",
              "      padding: 0 0 0 0;\n",
              "      width: 32px;\n",
              "    }\n",
              "\n",
              "    .colab-df-convert:hover {\n",
              "      background-color: #E2EBFA;\n",
              "      box-shadow: 0px 1px 2px rgba(60, 64, 67, 0.3), 0px 1px 3px 1px rgba(60, 64, 67, 0.15);\n",
              "      fill: #174EA6;\n",
              "    }\n",
              "\n",
              "    .colab-df-buttons div {\n",
              "      margin-bottom: 4px;\n",
              "    }\n",
              "\n",
              "    [theme=dark] .colab-df-convert {\n",
              "      background-color: #3B4455;\n",
              "      fill: #D2E3FC;\n",
              "    }\n",
              "\n",
              "    [theme=dark] .colab-df-convert:hover {\n",
              "      background-color: #434B5C;\n",
              "      box-shadow: 0px 1px 3px 1px rgba(0, 0, 0, 0.15);\n",
              "      filter: drop-shadow(0px 1px 2px rgba(0, 0, 0, 0.3));\n",
              "      fill: #FFFFFF;\n",
              "    }\n",
              "  </style>\n",
              "\n",
              "    <script>\n",
              "      const buttonEl =\n",
              "        document.querySelector('#df-2318a466-c535-4a1e-b1c1-7b0217495cee button.colab-df-convert');\n",
              "      buttonEl.style.display =\n",
              "        google.colab.kernel.accessAllowed ? 'block' : 'none';\n",
              "\n",
              "      async function convertToInteractive(key) {\n",
              "        const element = document.querySelector('#df-2318a466-c535-4a1e-b1c1-7b0217495cee');\n",
              "        const dataTable =\n",
              "          await google.colab.kernel.invokeFunction('convertToInteractive',\n",
              "                                                    [key], {});\n",
              "        if (!dataTable) return;\n",
              "\n",
              "        const docLinkHtml = 'Like what you see? Visit the ' +\n",
              "          '<a target=\"_blank\" href=https://colab.research.google.com/notebooks/data_table.ipynb>data table notebook</a>'\n",
              "          + ' to learn more about interactive tables.';\n",
              "        element.innerHTML = '';\n",
              "        dataTable['output_type'] = 'display_data';\n",
              "        await google.colab.output.renderOutput(dataTable, element);\n",
              "        const docLink = document.createElement('div');\n",
              "        docLink.innerHTML = docLinkHtml;\n",
              "        element.appendChild(docLink);\n",
              "      }\n",
              "    </script>\n",
              "  </div>\n",
              "\n",
              "\n",
              "    <div id=\"df-cb144b15-89b9-49e9-9075-c58502f45eef\">\n",
              "      <button class=\"colab-df-quickchart\" onclick=\"quickchart('df-cb144b15-89b9-49e9-9075-c58502f45eef')\"\n",
              "                title=\"Suggest charts\"\n",
              "                style=\"display:none;\">\n",
              "\n",
              "<svg xmlns=\"http://www.w3.org/2000/svg\" height=\"24px\"viewBox=\"0 0 24 24\"\n",
              "     width=\"24px\">\n",
              "    <g>\n",
              "        <path d=\"M19 3H5c-1.1 0-2 .9-2 2v14c0 1.1.9 2 2 2h14c1.1 0 2-.9 2-2V5c0-1.1-.9-2-2-2zM9 17H7v-7h2v7zm4 0h-2V7h2v10zm4 0h-2v-4h2v4z\"/>\n",
              "    </g>\n",
              "</svg>\n",
              "      </button>\n",
              "\n",
              "<style>\n",
              "  .colab-df-quickchart {\n",
              "      --bg-color: #E8F0FE;\n",
              "      --fill-color: #1967D2;\n",
              "      --hover-bg-color: #E2EBFA;\n",
              "      --hover-fill-color: #174EA6;\n",
              "      --disabled-fill-color: #AAA;\n",
              "      --disabled-bg-color: #DDD;\n",
              "  }\n",
              "\n",
              "  [theme=dark] .colab-df-quickchart {\n",
              "      --bg-color: #3B4455;\n",
              "      --fill-color: #D2E3FC;\n",
              "      --hover-bg-color: #434B5C;\n",
              "      --hover-fill-color: #FFFFFF;\n",
              "      --disabled-bg-color: #3B4455;\n",
              "      --disabled-fill-color: #666;\n",
              "  }\n",
              "\n",
              "  .colab-df-quickchart {\n",
              "    background-color: var(--bg-color);\n",
              "    border: none;\n",
              "    border-radius: 50%;\n",
              "    cursor: pointer;\n",
              "    display: none;\n",
              "    fill: var(--fill-color);\n",
              "    height: 32px;\n",
              "    padding: 0;\n",
              "    width: 32px;\n",
              "  }\n",
              "\n",
              "  .colab-df-quickchart:hover {\n",
              "    background-color: var(--hover-bg-color);\n",
              "    box-shadow: 0 1px 2px rgba(60, 64, 67, 0.3), 0 1px 3px 1px rgba(60, 64, 67, 0.15);\n",
              "    fill: var(--button-hover-fill-color);\n",
              "  }\n",
              "\n",
              "  .colab-df-quickchart-complete:disabled,\n",
              "  .colab-df-quickchart-complete:disabled:hover {\n",
              "    background-color: var(--disabled-bg-color);\n",
              "    fill: var(--disabled-fill-color);\n",
              "    box-shadow: none;\n",
              "  }\n",
              "\n",
              "  .colab-df-spinner {\n",
              "    border: 2px solid var(--fill-color);\n",
              "    border-color: transparent;\n",
              "    border-bottom-color: var(--fill-color);\n",
              "    animation:\n",
              "      spin 1s steps(1) infinite;\n",
              "  }\n",
              "\n",
              "  @keyframes spin {\n",
              "    0% {\n",
              "      border-color: transparent;\n",
              "      border-bottom-color: var(--fill-color);\n",
              "      border-left-color: var(--fill-color);\n",
              "    }\n",
              "    20% {\n",
              "      border-color: transparent;\n",
              "      border-left-color: var(--fill-color);\n",
              "      border-top-color: var(--fill-color);\n",
              "    }\n",
              "    30% {\n",
              "      border-color: transparent;\n",
              "      border-left-color: var(--fill-color);\n",
              "      border-top-color: var(--fill-color);\n",
              "      border-right-color: var(--fill-color);\n",
              "    }\n",
              "    40% {\n",
              "      border-color: transparent;\n",
              "      border-right-color: var(--fill-color);\n",
              "      border-top-color: var(--fill-color);\n",
              "    }\n",
              "    60% {\n",
              "      border-color: transparent;\n",
              "      border-right-color: var(--fill-color);\n",
              "    }\n",
              "    80% {\n",
              "      border-color: transparent;\n",
              "      border-right-color: var(--fill-color);\n",
              "      border-bottom-color: var(--fill-color);\n",
              "    }\n",
              "    90% {\n",
              "      border-color: transparent;\n",
              "      border-bottom-color: var(--fill-color);\n",
              "    }\n",
              "  }\n",
              "</style>\n",
              "\n",
              "      <script>\n",
              "        async function quickchart(key) {\n",
              "          const quickchartButtonEl =\n",
              "            document.querySelector('#' + key + ' button');\n",
              "          quickchartButtonEl.disabled = true;  // To prevent multiple clicks.\n",
              "          quickchartButtonEl.classList.add('colab-df-spinner');\n",
              "          try {\n",
              "            const charts = await google.colab.kernel.invokeFunction(\n",
              "                'suggestCharts', [key], {});\n",
              "          } catch (error) {\n",
              "            console.error('Error during call to suggestCharts:', error);\n",
              "          }\n",
              "          quickchartButtonEl.classList.remove('colab-df-spinner');\n",
              "          quickchartButtonEl.classList.add('colab-df-quickchart-complete');\n",
              "        }\n",
              "        (() => {\n",
              "          let quickchartButtonEl =\n",
              "            document.querySelector('#df-cb144b15-89b9-49e9-9075-c58502f45eef button');\n",
              "          quickchartButtonEl.style.display =\n",
              "            google.colab.kernel.accessAllowed ? 'block' : 'none';\n",
              "        })();\n",
              "      </script>\n",
              "    </div>\n",
              "\n",
              "    </div>\n",
              "  </div>\n"
            ],
            "application/vnd.google.colaboratory.intrinsic+json": {
              "type": "dataframe",
              "summary": "{\n  \"name\": \"result_df\",\n  \"rows\": 8,\n  \"fields\": [\n    {\n      \"column\": \"activity_type_id\",\n      \"properties\": {\n        \"dtype\": \"number\",\n        \"std\": 516041.75569685875,\n        \"min\": 0.0,\n        \"max\": 1461989.0,\n        \"num_unique_values\": 3,\n        \"samples\": [\n          1461989.0,\n          2806.0,\n          0.0\n        ],\n        \"semantic_type\": \"\",\n        \"description\": \"\"\n      }\n    },\n    {\n      \"column\": \"timestamp\",\n      \"properties\": {\n        \"dtype\": \"string\",\n        \"num_unique_values\": 7,\n        \"samples\": [\n          \"1461989\",\n          \"2024-09-08 04:03:19.526899968+01:00\",\n          \"2024-09-09 23:32:15.254000128+01:00\"\n        ],\n        \"semantic_type\": \"\",\n        \"description\": \"\"\n      }\n    },\n    {\n      \"column\": \"x\",\n      \"properties\": {\n        \"dtype\": \"number\",\n        \"std\": 516890.4629132145,\n        \"min\": -24.572,\n        \"max\": 1461989.0,\n        \"num_unique_values\": 8,\n        \"samples\": [\n          -0.0870836011762054,\n          1.149,\n          1461989.0\n        ],\n        \"semantic_type\": \"\",\n        \"description\": \"\"\n      }\n    },\n    {\n      \"column\": \"y\",\n      \"properties\": {\n        \"dtype\": \"number\",\n        \"std\": 516892.9135547694,\n        \"min\": -72.23,\n        \"max\": 1461989.0,\n        \"num_unique_values\": 8,\n        \"samples\": [\n          -0.22066133876520266,\n          1.834,\n          1461989.0\n        ],\n        \"semantic_type\": \"\",\n        \"description\": \"\"\n      }\n    },\n    {\n      \"column\": \"z\",\n      \"properties\": {\n        \"dtype\": \"number\",\n        \"std\": 516890.262786727,\n        \"min\": -59.351,\n        \"max\": 1461989.0,\n        \"num_unique_values\": 8,\n        \"samples\": [\n          5.900911903577934,\n          10.087,\n          1461989.0\n        ],\n        \"semantic_type\": \"\",\n        \"description\": \"\"\n      }\n    },\n    {\n      \"column\": \"format_timestamp\",\n      \"properties\": {\n        \"dtype\": \"date\",\n        \"min\": \"1970-01-01 00:00:00.001461989\",\n        \"max\": \"2024-09-10 22:59:26\",\n        \"num_unique_values\": 7,\n        \"samples\": [\n          \"1461989\",\n          \"2024-09-08 04:03:19.030646272\",\n          \"2024-09-09 23:32:15\"\n        ],\n        \"semantic_type\": \"\",\n        \"description\": \"\"\n      }\n    }\n  ]\n}"
            }
          },
          "metadata": {},
          "execution_count": 131
        }
      ]
    },
    {
      "cell_type": "code",
      "source": [
        "result_df.nunique()"
      ],
      "metadata": {
        "colab": {
          "base_uri": "https://localhost:8080/",
          "height": 272
        },
        "id": "lmmWtnoed1tP",
        "outputId": "1138e2e7-a32e-48d8-9563-bcc24230abb0"
      },
      "execution_count": 132,
      "outputs": [
        {
          "output_type": "execute_result",
          "data": {
            "text/plain": [
              "activity_type_id          1\n",
              "timestamp           1461703\n",
              "x                     18955\n",
              "y                     19009\n",
              "z                     20365\n",
              "format_timestamp     120202\n",
              "dtype: int64"
            ],
            "text/html": [
              "<div>\n",
              "<style scoped>\n",
              "    .dataframe tbody tr th:only-of-type {\n",
              "        vertical-align: middle;\n",
              "    }\n",
              "\n",
              "    .dataframe tbody tr th {\n",
              "        vertical-align: top;\n",
              "    }\n",
              "\n",
              "    .dataframe thead th {\n",
              "        text-align: right;\n",
              "    }\n",
              "</style>\n",
              "<table border=\"1\" class=\"dataframe\">\n",
              "  <thead>\n",
              "    <tr style=\"text-align: right;\">\n",
              "      <th></th>\n",
              "      <th>0</th>\n",
              "    </tr>\n",
              "  </thead>\n",
              "  <tbody>\n",
              "    <tr>\n",
              "      <th>activity_type_id</th>\n",
              "      <td>1</td>\n",
              "    </tr>\n",
              "    <tr>\n",
              "      <th>timestamp</th>\n",
              "      <td>1461703</td>\n",
              "    </tr>\n",
              "    <tr>\n",
              "      <th>x</th>\n",
              "      <td>18955</td>\n",
              "    </tr>\n",
              "    <tr>\n",
              "      <th>y</th>\n",
              "      <td>19009</td>\n",
              "    </tr>\n",
              "    <tr>\n",
              "      <th>z</th>\n",
              "      <td>20365</td>\n",
              "    </tr>\n",
              "    <tr>\n",
              "      <th>format_timestamp</th>\n",
              "      <td>120202</td>\n",
              "    </tr>\n",
              "  </tbody>\n",
              "</table>\n",
              "</div><br><label><b>dtype:</b> int64</label>"
            ]
          },
          "metadata": {},
          "execution_count": 132
        }
      ]
    },
    {
      "cell_type": "code",
      "source": [
        "print(result_df.duplicated(subset=['timestamp', 'x', 'y', 'z']).sum())\n"
      ],
      "metadata": {
        "colab": {
          "base_uri": "https://localhost:8080/"
        },
        "id": "W-RZT8MJzmJn",
        "outputId": "53e0bef9-fe69-4209-b724-d5229d9a3020"
      },
      "execution_count": 129,
      "outputs": [
        {
          "output_type": "stream",
          "name": "stdout",
          "text": [
            "0\n"
          ]
        }
      ]
    },
    {
      "cell_type": "code",
      "source": [
        "train_activities_df.duplicated().sum()"
      ],
      "metadata": {
        "colab": {
          "base_uri": "https://localhost:8080/"
        },
        "id": "gpGADDT207Rt",
        "outputId": "fe2c165c-40aa-4af1-ba75-cf84d5293d71"
      },
      "execution_count": 134,
      "outputs": [
        {
          "output_type": "execute_result",
          "data": {
            "text/plain": [
              "np.int64(0)"
            ]
          },
          "metadata": {},
          "execution_count": 134
        }
      ]
    },
    {
      "cell_type": "code",
      "source": [],
      "metadata": {
        "id": "u61n3CUg2jCm"
      },
      "execution_count": null,
      "outputs": []
    }
  ]
}