{
  "nbformat": 4,
  "nbformat_minor": 0,
  "metadata": {
    "colab": {
      "provenance": [],
      "toc_visible": true,
      "authorship_tag": "ABX9TyOn+MnyEIIsV8sc/2+8oaIa",
      "include_colab_link": true
    },
    "kernelspec": {
      "name": "python3",
      "display_name": "Python 3"
    },
    "language_info": {
      "name": "python"
    }
  },
  "cells": [
    {
      "cell_type": "markdown",
      "metadata": {
        "id": "view-in-github",
        "colab_type": "text"
      },
      "source": [
        "<a href=\"https://colab.research.google.com/github/as-arthur/Tremor-GO_YOUNG/blob/main/GO_YOUNG_working_with_data.ipynb\" target=\"_parent\"><img src=\"https://colab.research.google.com/assets/colab-badge.svg\" alt=\"Open In Colab\"/></a>"
      ]
    },
    {
      "cell_type": "markdown",
      "source": [
        "# Importing\n"
      ],
      "metadata": {
        "id": "r2dpaMw6x-1L"
      }
    },
    {
      "cell_type": "code",
      "execution_count": 68,
      "metadata": {
        "id": "iKYQpHWxvNJi"
      },
      "outputs": [],
      "source": [
        "import pandas as pd\n",
        "import glob\n",
        "import os"
      ]
    },
    {
      "cell_type": "markdown",
      "source": [
        "# Load dataset"
      ],
      "metadata": {
        "id": "ss_ZZ9g7yClC"
      }
    },
    {
      "cell_type": "code",
      "source": [
        "!git clone https://github.com/as-arthur/Tremor-GO_YOUNG.git"
      ],
      "metadata": {
        "colab": {
          "base_uri": "https://localhost:8080/"
        },
        "id": "oq3nGgl51zL3",
        "outputId": "7c669aea-39dc-49ec-ede5-aac46c587faf"
      },
      "execution_count": 69,
      "outputs": [
        {
          "output_type": "stream",
          "name": "stdout",
          "text": [
            "fatal: destination path 'Tremor-GO_YOUNG' already exists and is not an empty directory.\n"
          ]
        }
      ]
    },
    {
      "cell_type": "code",
      "source": [
        "url = '/content/Tremor-GO_YOUNG/TrainingDataPD25'"
      ],
      "metadata": {
        "id": "u82d7V6ZyIiP"
      },
      "execution_count": 70,
      "outputs": []
    },
    {
      "cell_type": "code",
      "source": [
        "train_activities_df = pd.read_csv(url + '/TrainActivities.csv')\n",
        "train_activities_df.info()"
      ],
      "metadata": {
        "colab": {
          "base_uri": "https://localhost:8080/"
        },
        "id": "GmZDBW3ZzD6D",
        "outputId": "bf9d8f3e-33db-46a9-be8c-e62954ee7fa6"
      },
      "execution_count": 71,
      "outputs": [
        {
          "output_type": "stream",
          "name": "stdout",
          "text": [
            "<class 'pandas.core.frame.DataFrame'>\n",
            "RangeIndex: 342 entries, 0 to 341\n",
            "Data columns (total 7 columns):\n",
            " #   Column            Non-Null Count  Dtype \n",
            "---  ------            --------------  ----- \n",
            " 0   ID                342 non-null    int64 \n",
            " 1   Activity Type ID  342 non-null    int64 \n",
            " 2   Activity Type     342 non-null    object\n",
            " 3   Started           276 non-null    object\n",
            " 4   Finished          275 non-null    object\n",
            " 5   Updated           342 non-null    object\n",
            " 6   Subject           342 non-null    object\n",
            "dtypes: int64(2), object(5)\n",
            "memory usage: 18.8+ KB\n"
          ]
        }
      ]
    },
    {
      "cell_type": "markdown",
      "source": [
        "## Accelerometer Files"
      ],
      "metadata": {
        "id": "yx60_nhGAFvD"
      }
    },
    {
      "cell_type": "code",
      "source": [
        "_1716_files = glob.glob(url + '/users_timeXYZ/users' + '/1716' + '/*.csv')\n",
        "print(_1716_files)\n",
        "len(_1716_files)"
      ],
      "metadata": {
        "colab": {
          "base_uri": "https://localhost:8080/"
        },
        "id": "Z5OHez3e3E2e",
        "outputId": "8d7cd0c6-d041-4728-d943-d3d37f76fab5"
      },
      "execution_count": 112,
      "outputs": [
        {
          "output_type": "stream",
          "name": "stdout",
          "text": [
            "['/content/Tremor-GO_YOUNG/TrainingDataPD25/users_timeXYZ/users/1716/user-acc_1716_2024-09-05T09_30_18.064+0100_7610.csv']\n"
          ]
        },
        {
          "output_type": "execute_result",
          "data": {
            "text/plain": [
              "1"
            ]
          },
          "metadata": {},
          "execution_count": 112
        }
      ]
    },
    {
      "cell_type": "code",
      "source": [
        "_2803_files = glob.glob(url + '/users_timeXYZ/users' + '/2803' + '/*.csv')\n",
        "print(_2803_files)\n",
        "len(_2803_files)"
      ],
      "metadata": {
        "colab": {
          "base_uri": "https://localhost:8080/"
        },
        "id": "gB6OqtFR_LpQ",
        "outputId": "9fec442c-6dd2-4861-e7fb-5e1ad0a15730"
      },
      "execution_count": 111,
      "outputs": [
        {
          "output_type": "stream",
          "name": "stdout",
          "text": [
            "['/content/Tremor-GO_YOUNG/TrainingDataPD25/users_timeXYZ/users/2803/user-acc_2803_2024-09-05T16_51_54.979+0100_67284.csv', '/content/Tremor-GO_YOUNG/TrainingDataPD25/users_timeXYZ/users/2803/user-acc_2803_2024-09-05T16_52_16.750+0100_55542.csv', '/content/Tremor-GO_YOUNG/TrainingDataPD25/users_timeXYZ/users/2803/user-acc_2803_2024-09-08T23_35_57.272+0100_83208.csv', '/content/Tremor-GO_YOUNG/TrainingDataPD25/users_timeXYZ/users/2803/user-acc_2803_2024-09-05T09_31_00.944+0100_57924.csv', '/content/Tremor-GO_YOUNG/TrainingDataPD25/users_timeXYZ/users/2803/user-acc_2803_2024-09-05T16_54_49.592+0100_14102.csv', '/content/Tremor-GO_YOUNG/TrainingDataPD25/users_timeXYZ/users/2803/user-acc_2803_2024-09-05T17_34_57.121+0100_57088.csv', '/content/Tremor-GO_YOUNG/TrainingDataPD25/users_timeXYZ/users/2803/user-acc_2803_2024-09-05T16_49_18.191+0100_82999.csv', '/content/Tremor-GO_YOUNG/TrainingDataPD25/users_timeXYZ/users/2803/user-acc_2803_2024-09-08T23_47_07.396+0100_94382.csv', '/content/Tremor-GO_YOUNG/TrainingDataPD25/users_timeXYZ/users/2803/user-acc_2803_2024-09-05T16_49_50.582+0100_22391.csv', '/content/Tremor-GO_YOUNG/TrainingDataPD25/users_timeXYZ/users/2803/user-acc_2803_2024-09-05T09_30_18.064+0100_7610.csv', '/content/Tremor-GO_YOUNG/TrainingDataPD25/users_timeXYZ/users/2803/user-acc_2803_2024-09-08T23_46_45.628+0100_60354.csv']\n"
          ]
        },
        {
          "output_type": "execute_result",
          "data": {
            "text/plain": [
              "11"
            ]
          },
          "metadata": {},
          "execution_count": 111
        }
      ]
    },
    {
      "cell_type": "code",
      "source": [
        "_2804_files = glob.glob(url + '/users_timeXYZ/users' + '/2804' + '/*.csv')\n",
        "print(_2804_files)\n",
        "len(_2804_files )"
      ],
      "metadata": {
        "colab": {
          "base_uri": "https://localhost:8080/"
        },
        "id": "2uczab6p_OlD",
        "outputId": "6e0c3e4b-3de8-4152-bb5a-6e0536efdecf"
      },
      "execution_count": 96,
      "outputs": [
        {
          "output_type": "stream",
          "name": "stdout",
          "text": [
            "['/content/Tremor-GO_YOUNG/TrainingDataPD25/users_timeXYZ/users/2804/user-acc_2804_2024-09-01T22_28_27.653+0100_64158.csv', '/content/Tremor-GO_YOUNG/TrainingDataPD25/users_timeXYZ/users/2804/user-acc_2804_2024-09-03T11_44_03.097+0100_45743.csv', '/content/Tremor-GO_YOUNG/TrainingDataPD25/users_timeXYZ/users/2804/user-acc_2804_2024-09-03T11_36_54.781+0100_81581.csv', '/content/Tremor-GO_YOUNG/TrainingDataPD25/users_timeXYZ/users/2804/user-acc_2804_2024-09-01T22_27_04.667+0100_70154.csv', '/content/Tremor-GO_YOUNG/TrainingDataPD25/users_timeXYZ/users/2804/user-acc_2804_2024-09-01T22_26_43.341+0100_29879.csv', '/content/Tremor-GO_YOUNG/TrainingDataPD25/users_timeXYZ/users/2804/user-acc_2804_2024-09-03T12_05_01.052+0100_86814.csv', '/content/Tremor-GO_YOUNG/TrainingDataPD25/users_timeXYZ/users/2804/user-acc_2804_2024-09-01T22_25_07.752+0100_23724.csv', '/content/Tremor-GO_YOUNG/TrainingDataPD25/users_timeXYZ/users/2804/user-acc_2804_2024-09-03T11_35_05.989+0100_18648.csv', '/content/Tremor-GO_YOUNG/TrainingDataPD25/users_timeXYZ/users/2804/user-acc_2804_2024-09-03T12_01_06.215+0100_62678.csv', '/content/Tremor-GO_YOUNG/TrainingDataPD25/users_timeXYZ/users/2804/user-acc_2804_2024-09-03T11_43_19.589+0100_15806.csv', '/content/Tremor-GO_YOUNG/TrainingDataPD25/users_timeXYZ/users/2804/user-acc_2804_2024-09-03T11_31_22.452+0100_26173.csv', '/content/Tremor-GO_YOUNG/TrainingDataPD25/users_timeXYZ/users/2804/user-acc_2804_2024-09-03T12_01_49.658+0100_88612.csv', '/content/Tremor-GO_YOUNG/TrainingDataPD25/users_timeXYZ/users/2804/user-acc_2804_2024-09-03T11_57_50.418+0100_14597.csv', '/content/Tremor-GO_YOUNG/TrainingDataPD25/users_timeXYZ/users/2804/user-acc_2804_2024-09-03T11_50_33.341+0100_11477.csv', '/content/Tremor-GO_YOUNG/TrainingDataPD25/users_timeXYZ/users/2804/user-acc_2804_2024-09-03T12_06_44.670+0100_45144.csv', '/content/Tremor-GO_YOUNG/TrainingDataPD25/users_timeXYZ/users/2804/user-acc_2804_2024-09-03T11_48_22.964+0100_44042.csv', '/content/Tremor-GO_YOUNG/TrainingDataPD25/users_timeXYZ/users/2804/user-acc_2804_2024-09-03T12_12_29.930+0100_83476.csv', '/content/Tremor-GO_YOUNG/TrainingDataPD25/users_timeXYZ/users/2804/user-acc_2804_2024-09-01T22_30_09.276+0100_28982.csv', '/content/Tremor-GO_YOUNG/TrainingDataPD25/users_timeXYZ/users/2804/user-acc_2804_2024-09-03T12_00_44.607+0100_64269.csv', '/content/Tremor-GO_YOUNG/TrainingDataPD25/users_timeXYZ/users/2804/user-acc_2804_2024-09-03T12_04_17.548+0100_9194.csv', '/content/Tremor-GO_YOUNG/TrainingDataPD25/users_timeXYZ/users/2804/user-acc_2804_2024-09-05T09_55_24.378+0100_6563.csv', '/content/Tremor-GO_YOUNG/TrainingDataPD25/users_timeXYZ/users/2804/user-acc_2804_2024-09-01T22_31_55.058+0100_11525.csv', '/content/Tremor-GO_YOUNG/TrainingDataPD25/users_timeXYZ/users/2804/user-acc_2804_2024-09-01T22_38_30.607+0100_66964.csv', '/content/Tremor-GO_YOUNG/TrainingDataPD25/users_timeXYZ/users/2804/user-acc_2804_2024-09-03T11_51_16.813+0100_88637.csv', '/content/Tremor-GO_YOUNG/TrainingDataPD25/users_timeXYZ/users/2804/user-acc_2804_2024-09-03T12_02_11.492+0100_57099.csv', '/content/Tremor-GO_YOUNG/TrainingDataPD25/users_timeXYZ/users/2804/user-acc_2804_2024-09-01T22_25_40.061+0100_56045.csv', '/content/Tremor-GO_YOUNG/TrainingDataPD25/users_timeXYZ/users/2804/user-acc_2804_2024-09-03T11_40_05.933+0100_34969.csv', '/content/Tremor-GO_YOUNG/TrainingDataPD25/users_timeXYZ/users/2804/user-acc_2804_2024-09-03T11_50_11.684+0100_98956.csv', '/content/Tremor-GO_YOUNG/TrainingDataPD25/users_timeXYZ/users/2804/user-acc_2804_2024-09-03T12_00_22.868+0100_93915.csv', '/content/Tremor-GO_YOUNG/TrainingDataPD25/users_timeXYZ/users/2804/user-acc_2804_2024-09-03T11_58_55.697+0100_13059.csv', '/content/Tremor-GO_YOUNG/TrainingDataPD25/users_timeXYZ/users/2804/user-acc_2804_2024-09-01T22_27_26.142+0100_31846.csv', '/content/Tremor-GO_YOUNG/TrainingDataPD25/users_timeXYZ/users/2804/user-acc_2804_2024-09-03T12_07_28.038+0100_53661.csv', '/content/Tremor-GO_YOUNG/TrainingDataPD25/users_timeXYZ/users/2804/user-acc_2804_2024-09-03T11_35_27.598+0100_53914.csv', '/content/Tremor-GO_YOUNG/TrainingDataPD25/users_timeXYZ/users/2804/user-acc_2804_2024-09-03T11_54_14.396+0100_97324.csv', '/content/Tremor-GO_YOUNG/TrainingDataPD25/users_timeXYZ/users/2804/user-acc_2804_2024-09-03T12_11_24.696+0100_29004.csv', '/content/Tremor-GO_YOUNG/TrainingDataPD25/users_timeXYZ/users/2804/user-acc_2804_2024-09-03T11_45_51.020+0100_56617.csv', '/content/Tremor-GO_YOUNG/TrainingDataPD25/users_timeXYZ/users/2804/user-acc_2804_2024-09-03T11_42_14.491+0100_87278.csv', '/content/Tremor-GO_YOUNG/TrainingDataPD25/users_timeXYZ/users/2804/user-acc_2804_2024-09-03T12_10_41.898+0100_70865.csv', '/content/Tremor-GO_YOUNG/TrainingDataPD25/users_timeXYZ/users/2804/user-acc_2804_2024-09-03T11_42_57.899+0100_51805.csv', '/content/Tremor-GO_YOUNG/TrainingDataPD25/users_timeXYZ/users/2804/user-acc_2804_2024-09-03T11_27_27.606+0100_45098.csv', '/content/Tremor-GO_YOUNG/TrainingDataPD25/users_timeXYZ/users/2804/user-acc_2804_2024-09-03T12_08_54.902+0100_83696.csv', '/content/Tremor-GO_YOUNG/TrainingDataPD25/users_timeXYZ/users/2804/user-acc_2804_2024-09-03T11_35_49.498+0100_35928.csv', '/content/Tremor-GO_YOUNG/TrainingDataPD25/users_timeXYZ/users/2804/user-acc_2804_2024-09-01T22_36_45.062+0100_71964.csv', '/content/Tremor-GO_YOUNG/TrainingDataPD25/users_timeXYZ/users/2804/user-acc_2804_2024-09-01T22_32_16.538+0100_8507.csv', '/content/Tremor-GO_YOUNG/TrainingDataPD25/users_timeXYZ/users/2804/user-acc_2804_2024-09-03T11_33_51.835+0100_59615.csv', '/content/Tremor-GO_YOUNG/TrainingDataPD25/users_timeXYZ/users/2804/user-acc_2804_2024-09-01T22_39_13.449+0100_81024.csv', '/content/Tremor-GO_YOUNG/TrainingDataPD25/users_timeXYZ/users/2804/user-acc_2804_2024-09-03T12_02_33.195+0100_56677.csv', '/content/Tremor-GO_YOUNG/TrainingDataPD25/users_timeXYZ/users/2804/user-acc_2804_2024-09-03T11_29_15.955+0100_9429.csv', '/content/Tremor-GO_YOUNG/TrainingDataPD25/users_timeXYZ/users/2804/user-acc_2804_2024-09-03T11_32_38.424+0100_4968.csv', '/content/Tremor-GO_YOUNG/TrainingDataPD25/users_timeXYZ/users/2804/user-acc_2804_2024-09-03T11_59_39.184+0100_51829.csv', '/content/Tremor-GO_YOUNG/TrainingDataPD25/users_timeXYZ/users/2804/user-acc_2804_2024-09-01T22_30_52.164+0100_15246.csv', '/content/Tremor-GO_YOUNG/TrainingDataPD25/users_timeXYZ/users/2804/user-acc_2804_2024-09-01T22_38_09.220+0100_42723.csv', '/content/Tremor-GO_YOUNG/TrainingDataPD25/users_timeXYZ/users/2804/user-acc_2804_2024-09-03T11_55_41.483+0100_47563.csv', '/content/Tremor-GO_YOUNG/TrainingDataPD25/users_timeXYZ/users/2804/user-acc_2804_2024-09-01T22_31_13.624+0100_61716.csv', '/content/Tremor-GO_YOUNG/TrainingDataPD25/users_timeXYZ/users/2804/user-acc_2804_2024-09-01T22_26_21.713+0100_51578.csv', '/content/Tremor-GO_YOUNG/TrainingDataPD25/users_timeXYZ/users/2804/user-acc_2804_2024-09-03T11_48_01.148+0100_72215.csv', '/content/Tremor-GO_YOUNG/TrainingDataPD25/users_timeXYZ/users/2804/user-acc_2804_2024-09-03T11_42_36.166+0100_53921.csv', '/content/Tremor-GO_YOUNG/TrainingDataPD25/users_timeXYZ/users/2804/user-acc_2804_2024-09-03T12_06_02.889+0100_37787.csv', '/content/Tremor-GO_YOUNG/TrainingDataPD25/users_timeXYZ/users/2804/user-acc_2804_2024-09-03T11_52_25.976+0100_8165.csv', '/content/Tremor-GO_YOUNG/TrainingDataPD25/users_timeXYZ/users/2804/user-acc_2804_2024-09-03T11_32_05.527+0100_25746.csv', '/content/Tremor-GO_YOUNG/TrainingDataPD25/users_timeXYZ/users/2804/user-acc_2804_2024-09-03T12_02_54.912+0100_73862.csv', '/content/Tremor-GO_YOUNG/TrainingDataPD25/users_timeXYZ/users/2804/user-acc_2804_2024-09-03T11_56_45.193+0100_52494.csv', '/content/Tremor-GO_YOUNG/TrainingDataPD25/users_timeXYZ/users/2804/user-acc_2804_2024-09-03T11_54_36.056+0100_3794.csv', '/content/Tremor-GO_YOUNG/TrainingDataPD25/users_timeXYZ/users/2804/user-acc_2804_2024-09-03T11_49_49.980+0100_86767.csv', '/content/Tremor-GO_YOUNG/TrainingDataPD25/users_timeXYZ/users/2804/user-acc_2804_2024-09-03T11_50_55.179+0100_24303.csv', '/content/Tremor-GO_YOUNG/TrainingDataPD25/users_timeXYZ/users/2804/user-acc_2804_2024-09-03T12_07_49.773+0100_50098.csv', '/content/Tremor-GO_YOUNG/TrainingDataPD25/users_timeXYZ/users/2804/user-acc_2804_2024-09-03T12_08_33.231+0100_29113.csv', '/content/Tremor-GO_YOUNG/TrainingDataPD25/users_timeXYZ/users/2804/user-acc_2804_2024-09-01T22_39_56.251+0100_44045.csv', '/content/Tremor-GO_YOUNG/TrainingDataPD25/users_timeXYZ/users/2804/user-acc_2804_2024-09-03T11_53_52.562+0100_46297.csv', '/content/Tremor-GO_YOUNG/TrainingDataPD25/users_timeXYZ/users/2804/user-acc_2804_2024-09-03T11_51_43.215+0100_94235.csv', '/content/Tremor-GO_YOUNG/TrainingDataPD25/users_timeXYZ/users/2804/user-acc_2804_2024-09-01T22_36_02.158+0100_36578.csv', '/content/Tremor-GO_YOUNG/TrainingDataPD25/users_timeXYZ/users/2804/user-acc_2804_2024-09-03T12_09_16.691+0100_23612.csv', '/content/Tremor-GO_YOUNG/TrainingDataPD25/users_timeXYZ/users/2804/user-acc_2804_2024-09-03T11_34_00.882+0100_56263.csv', '/content/Tremor-GO_YOUNG/TrainingDataPD25/users_timeXYZ/users/2804/user-acc_2804_2024-09-01T22_39_34.811+0100_32165.csv', '/content/Tremor-GO_YOUNG/TrainingDataPD25/users_timeXYZ/users/2804/user-acc_2804_2024-09-03T12_11_46.327+0100_82172.csv', '/content/Tremor-GO_YOUNG/TrainingDataPD25/users_timeXYZ/users/2804/user-acc_2804_2024-09-03T11_47_39.438+0100_8857.csv', '/content/Tremor-GO_YOUNG/TrainingDataPD25/users_timeXYZ/users/2804/user-acc_2804_2024-09-03T11_44_24.839+0100_38446.csv', '/content/Tremor-GO_YOUNG/TrainingDataPD25/users_timeXYZ/users/2804/user-acc_2804_2024-09-01T22_35_40.546+0100_11741.csv', '/content/Tremor-GO_YOUNG/TrainingDataPD25/users_timeXYZ/users/2804/user-acc_2804_2024-09-03T12_12_08.102+0100_79779.csv', '/content/Tremor-GO_YOUNG/TrainingDataPD25/users_timeXYZ/users/2804/user-acc_2804_2024-09-03T12_08_11.412+0100_13625.csv', '/content/Tremor-GO_YOUNG/TrainingDataPD25/users_timeXYZ/users/2804/user-acc_2804_2024-09-03T11_28_32.491+0100_98532.csv', '/content/Tremor-GO_YOUNG/TrainingDataPD25/users_timeXYZ/users/2804/user-acc_2804_2024-09-03T11_57_06.833+0100_56865.csv', '/content/Tremor-GO_YOUNG/TrainingDataPD25/users_timeXYZ/users/2804/user-acc_2804_2024-09-03T11_47_17.717+0100_88987.csv', '/content/Tremor-GO_YOUNG/TrainingDataPD25/users_timeXYZ/users/2804/user-acc_2804_2024-09-03T11_56_23.343+0100_31125.csv', '/content/Tremor-GO_YOUNG/TrainingDataPD25/users_timeXYZ/users/2804/user-acc_2804_2024-09-03T11_38_21.163+0100_65020.csv', '/content/Tremor-GO_YOUNG/TrainingDataPD25/users_timeXYZ/users/2804/user-acc_2804_2024-09-01T22_37_06.350+0100_22358.csv', '/content/Tremor-GO_YOUNG/TrainingDataPD25/users_timeXYZ/users/2804/user-acc_2804_2024-09-01T22_27_45.075+0100_70883.csv', '/content/Tremor-GO_YOUNG/TrainingDataPD25/users_timeXYZ/users/2804/user-acc_2804_2024-09-03T11_36_33.090+0100_86174.csv', '/content/Tremor-GO_YOUNG/TrainingDataPD25/users_timeXYZ/users/2804/user-acc_2804_2024-09-03T11_44_46.611+0100_13350.csv', '/content/Tremor-GO_YOUNG/TrainingDataPD25/users_timeXYZ/users/2804/user-acc_2804_2024-09-01T22_36_23.523+0100_68820.csv', '/content/Tremor-GO_YOUNG/TrainingDataPD25/users_timeXYZ/users/2804/user-acc_2804_2024-09-03T11_51_39.857+0100_40214.csv', '/content/Tremor-GO_YOUNG/TrainingDataPD25/users_timeXYZ/users/2804/user-acc_2804_2024-09-03T11_58_33.942+0100_6786.csv', '/content/Tremor-GO_YOUNG/TrainingDataPD25/users_timeXYZ/users/2804/user-acc_2804_2024-09-03T11_58_12.262+0100_98393.csv', '/content/Tremor-GO_YOUNG/TrainingDataPD25/users_timeXYZ/users/2804/user-acc_2804_2024-09-01T22_37_47.723+0100_76275.csv', '/content/Tremor-GO_YOUNG/TrainingDataPD25/users_timeXYZ/users/2804/user-acc_2804_2024-09-03T11_49_28.316+0100_55836.csv', '/content/Tremor-GO_YOUNG/TrainingDataPD25/users_timeXYZ/users/2804/user-acc_2804_2024-09-03T11_33_00.248+0100_20352.csv', '/content/Tremor-GO_YOUNG/TrainingDataPD25/users_timeXYZ/users/2804/user-acc_2804_2024-09-03T11_29_37.566+0100_62728.csv', '/content/Tremor-GO_YOUNG/TrainingDataPD25/users_timeXYZ/users/2804/user-acc_2804_2024-09-03T11_28_54.226+0100_97351.csv', '/content/Tremor-GO_YOUNG/TrainingDataPD25/users_timeXYZ/users/2804/user-acc_2804_2024-09-03T11_46_12.674+0100_18032.csv', '/content/Tremor-GO_YOUNG/TrainingDataPD25/users_timeXYZ/users/2804/user-acc_2804_2024-09-03T11_33_08.368+0100_65805.csv', '/content/Tremor-GO_YOUNG/TrainingDataPD25/users_timeXYZ/users/2804/user-acc_2804_2024-09-03T11_57_28.635+0100_51830.csv', '/content/Tremor-GO_YOUNG/TrainingDataPD25/users_timeXYZ/users/2804/user-acc_2804_2024-09-03T11_59_17.522+0100_54071.csv', '/content/Tremor-GO_YOUNG/TrainingDataPD25/users_timeXYZ/users/2804/user-acc_2804_2024-09-01T22_38_52.026+0100_53630.csv', '/content/Tremor-GO_YOUNG/TrainingDataPD25/users_timeXYZ/users/2804/user-acc_2804_2024-09-03T11_48_44.755+0100_5752.csv', '/content/Tremor-GO_YOUNG/TrainingDataPD25/users_timeXYZ/users/2804/user-acc_2804_2024-09-03T11_31_00.695+0100_3173.csv', '/content/Tremor-GO_YOUNG/TrainingDataPD25/users_timeXYZ/users/2804/user-acc_2804_2024-09-03T11_43_41.442+0100_58201.csv', '/content/Tremor-GO_YOUNG/TrainingDataPD25/users_timeXYZ/users/2804/user-acc_2804_2024-09-03T11_41_31.217+0100_21930.csv', '/content/Tremor-GO_YOUNG/TrainingDataPD25/users_timeXYZ/users/2804/user-acc_2804_2024-09-03T11_39_43.865+0100_21225.csv', '/content/Tremor-GO_YOUNG/TrainingDataPD25/users_timeXYZ/users/2804/user-acc_2804_2024-09-03T11_53_09.186+0100_29813.csv', '/content/Tremor-GO_YOUNG/TrainingDataPD25/users_timeXYZ/users/2804/user-acc_2804_2024-09-03T11_41_52.795+0100_51242.csv', '/content/Tremor-GO_YOUNG/TrainingDataPD25/users_timeXYZ/users/2804/user-acc_2804_2024-09-01T22_35_01.129+0100_99986.csv', '/content/Tremor-GO_YOUNG/TrainingDataPD25/users_timeXYZ/users/2804/user-acc_2804_2024-09-03T11_37_59.257+0100_44613.csv', '/content/Tremor-GO_YOUNG/TrainingDataPD25/users_timeXYZ/users/2804/user-acc_2804_2024-09-03T12_01_27.932+0100_47330.csv', '/content/Tremor-GO_YOUNG/TrainingDataPD25/users_timeXYZ/users/2804/user-acc_2804_2024-09-01T22_28_09.889+0100_18183.csv', '/content/Tremor-GO_YOUNG/TrainingDataPD25/users_timeXYZ/users/2804/user-acc_2804_2024-09-05T10_18_07.476+0100_31818.csv', '/content/Tremor-GO_YOUNG/TrainingDataPD25/users_timeXYZ/users/2804/user-acc_2804_2024-09-03T12_07_06.417+0100_86728.csv', '/content/Tremor-GO_YOUNG/TrainingDataPD25/users_timeXYZ/users/2804/user-acc_2804_2024-09-03T12_09_38.357+0100_92630.csv', '/content/Tremor-GO_YOUNG/TrainingDataPD25/users_timeXYZ/users/2804/user-acc_2804_2024-09-03T11_37_37.445+0100_60206.csv', '/content/Tremor-GO_YOUNG/TrainingDataPD25/users_timeXYZ/users/2804/user-acc_2804_2024-09-03T11_46_56.044+0100_9675.csv', '/content/Tremor-GO_YOUNG/TrainingDataPD25/users_timeXYZ/users/2804/user-acc_2804_2024-09-03T11_46_34.326+0100_30580.csv', '/content/Tremor-GO_YOUNG/TrainingDataPD25/users_timeXYZ/users/2804/user-acc_2804_2024-09-03T11_55_19.726+0100_1598.csv', '/content/Tremor-GO_YOUNG/TrainingDataPD25/users_timeXYZ/users/2804/user-acc_2804_2024-09-05T10_17_24.417+0100_14878.csv', '/content/Tremor-GO_YOUNG/TrainingDataPD25/users_timeXYZ/users/2804/user-acc_2804_2024-09-03T12_12_51.738+0100_73878.csv', '/content/Tremor-GO_YOUNG/TrainingDataPD25/users_timeXYZ/users/2804/user-acc_2804_2024-09-03T11_32_27.141+0100_88568.csv', '/content/Tremor-GO_YOUNG/TrainingDataPD25/users_timeXYZ/users/2804/user-acc_2804_2024-09-03T11_54_57.892+0100_17226.csv', '/content/Tremor-GO_YOUNG/TrainingDataPD25/users_timeXYZ/users/2804/user-acc_2804_2024-09-03T12_10_00.095+0100_10763.csv', '/content/Tremor-GO_YOUNG/TrainingDataPD25/users_timeXYZ/users/2804/user-acc_2804_2024-09-03T11_49_06.507+0100_40291.csv', '/content/Tremor-GO_YOUNG/TrainingDataPD25/users_timeXYZ/users/2804/user-acc_2804_2024-09-03T11_45_29.251+0100_63551.csv', '/content/Tremor-GO_YOUNG/TrainingDataPD25/users_timeXYZ/users/2804/user-acc_2804_2024-09-03T11_36_11.203+0100_39753.csv', '/content/Tremor-GO_YOUNG/TrainingDataPD25/users_timeXYZ/users/2804/user-acc_2804_2024-09-05T10_18_29.150+0100_6328.csv', '/content/Tremor-GO_YOUNG/TrainingDataPD25/users_timeXYZ/users/2804/user-acc_2804_2024-09-03T12_04_39.253+0100_30151.csv', '/content/Tremor-GO_YOUNG/TrainingDataPD25/users_timeXYZ/users/2804/user-acc_2804_2024-09-03T12_00_01.202+0100_50076.csv', '/content/Tremor-GO_YOUNG/TrainingDataPD25/users_timeXYZ/users/2804/user-acc_2804_2024-09-03T11_40_27.640+0100_10091.csv', '/content/Tremor-GO_YOUNG/TrainingDataPD25/users_timeXYZ/users/2804/user-acc_2804_2024-09-03T11_28_10.640+0100_30754.csv', '/content/Tremor-GO_YOUNG/TrainingDataPD25/users_timeXYZ/users/2804/user-acc_2804_2024-09-03T11_40_49.506+0100_7639.csv']\n"
          ]
        },
        {
          "output_type": "execute_result",
          "data": {
            "text/plain": [
              "135"
            ]
          },
          "metadata": {},
          "execution_count": 96
        }
      ]
    },
    {
      "cell_type": "code",
      "source": [
        "_2805_files = glob.glob(url + '/users_timeXYZ/users' + '/2805' + '/*.csv')\n",
        "print(_2805_files)\n",
        "len(_2804_files )"
      ],
      "metadata": {
        "colab": {
          "base_uri": "https://localhost:8080/"
        },
        "id": "EORHpUQJ_QaM",
        "outputId": "24d0b0b4-7e31-48e7-a10e-1823abb663e0"
      },
      "execution_count": 95,
      "outputs": [
        {
          "output_type": "stream",
          "name": "stdout",
          "text": [
            "['/content/Tremor-GO_YOUNG/TrainingDataPD25/users_timeXYZ/users/2805/user-acc_2805_2024-09-03T11_18_01.743+0100_39581.csv', '/content/Tremor-GO_YOUNG/TrainingDataPD25/users_timeXYZ/users/2805/user-acc_2805_2024-09-05T09_29_49.124+0100_80088.csv', '/content/Tremor-GO_YOUNG/TrainingDataPD25/users_timeXYZ/users/2805/user-acc_2805_2024-09-03T11_20_26.406+0100_94820.csv', '/content/Tremor-GO_YOUNG/TrainingDataPD25/users_timeXYZ/users/2805/user-acc_2805_2024-09-05T09_26_52.196+0100_1851.csv', '/content/Tremor-GO_YOUNG/TrainingDataPD25/users_timeXYZ/users/2805/user-acc_2805_2024-09-01T22_51_56.070+0100_14299.csv', '/content/Tremor-GO_YOUNG/TrainingDataPD25/users_timeXYZ/users/2805/user-acc_2805_2024-09-01T22_44_47.964+0100_68607.csv', '/content/Tremor-GO_YOUNG/TrainingDataPD25/users_timeXYZ/users/2805/user-acc_2805_2024-09-01T22_50_34.645+0100_16662.csv', '/content/Tremor-GO_YOUNG/TrainingDataPD25/users_timeXYZ/users/2805/user-acc_2805_2024-09-05T09_30_15.765+0100_55195.csv', '/content/Tremor-GO_YOUNG/TrainingDataPD25/users_timeXYZ/users/2805/user-acc_2805_2024-09-05T09_28_47.007+0100_94241.csv', '/content/Tremor-GO_YOUNG/TrainingDataPD25/users_timeXYZ/users/2805/user-acc_2805_2024-09-01T22_45_09.344+0100_26558.csv', '/content/Tremor-GO_YOUNG/TrainingDataPD25/users_timeXYZ/users/2805/user-acc_2805_2024-09-01T22_40_37.625+0100_50365.csv', '/content/Tremor-GO_YOUNG/TrainingDataPD25/users_timeXYZ/users/2805/user-acc_2805_2024-09-01T22_53_40.517+0100_67691.csv', '/content/Tremor-GO_YOUNG/TrainingDataPD25/users_timeXYZ/users/2805/user-acc_2805_2024-09-05T09_26_25.299+0100_93682.csv', '/content/Tremor-GO_YOUNG/TrainingDataPD25/users_timeXYZ/users/2805/user-acc_2805_2024-09-01T22_50_04.006+0100_27581.csv', '/content/Tremor-GO_YOUNG/TrainingDataPD25/users_timeXYZ/users/2805/user-acc_2805_2024-09-01T22_54_23.649+0100_57191.csv', '/content/Tremor-GO_YOUNG/TrainingDataPD25/users_timeXYZ/users/2805/user-acc_2805_2024-09-01T22_43_22.249+0100_17084.csv', '/content/Tremor-GO_YOUNG/TrainingDataPD25/users_timeXYZ/users/2805/user-acc_2805_2024-09-05T09_17_11.534+0100_86178.csv', '/content/Tremor-GO_YOUNG/TrainingDataPD25/users_timeXYZ/users/2805/user-acc_2805_2024-09-01T22_47_39.399+0100_88759.csv', '/content/Tremor-GO_YOUNG/TrainingDataPD25/users_timeXYZ/users/2805/user-acc_2805_2024-09-01T22_55_43.654+0100_73935.csv', '/content/Tremor-GO_YOUNG/TrainingDataPD25/users_timeXYZ/users/2805/user-acc_2805_2024-09-05T09_33_10.685+0100_85029.csv', '/content/Tremor-GO_YOUNG/TrainingDataPD25/users_timeXYZ/users/2805/user-acc_2805_2024-09-01T22_41_11.625+0100_84033.csv', '/content/Tremor-GO_YOUNG/TrainingDataPD25/users_timeXYZ/users/2805/user-acc_2805_2024-09-03T13_19_24.635+0100_25638.csv', '/content/Tremor-GO_YOUNG/TrainingDataPD25/users_timeXYZ/users/2805/user-acc_2805_2024-09-01T22_59_58.734+0100_85024.csv', '/content/Tremor-GO_YOUNG/TrainingDataPD25/users_timeXYZ/users/2805/user-acc_2805_2024-09-01T22_39_56.251+0100_44045.csv', '/content/Tremor-GO_YOUNG/TrainingDataPD25/users_timeXYZ/users/2805/user-acc_2805_2024-09-01T22_52_17.788+0100_75870.csv', '/content/Tremor-GO_YOUNG/TrainingDataPD25/users_timeXYZ/users/2805/user-acc_2805_2024-09-03T13_19_46.417+0100_12967.csv', '/content/Tremor-GO_YOUNG/TrainingDataPD25/users_timeXYZ/users/2805/user-acc_2805_2024-09-01T22_54_02.224+0100_56762.csv', '/content/Tremor-GO_YOUNG/TrainingDataPD25/users_timeXYZ/users/2805/user-acc_2805_2024-09-05T09_29_27.930+0100_21865.csv', '/content/Tremor-GO_YOUNG/TrainingDataPD25/users_timeXYZ/users/2805/user-acc_2805_2024-09-01T22_52_39.163+0100_9925.csv', '/content/Tremor-GO_YOUNG/TrainingDataPD25/users_timeXYZ/users/2805/user-acc_2805_2024-09-01T22_58_12.260+0100_2845.csv', '/content/Tremor-GO_YOUNG/TrainingDataPD25/users_timeXYZ/users/2805/user-acc_2805_2024-09-05T09_25_38.866+0100_38506.csv', '/content/Tremor-GO_YOUNG/TrainingDataPD25/users_timeXYZ/users/2805/user-acc_2805_2024-09-01T22_44_26.653+0100_98452.csv', '/content/Tremor-GO_YOUNG/TrainingDataPD25/users_timeXYZ/users/2805/user-acc_2805_2024-09-01T23_01_49.600+0100_61050.csv']\n"
          ]
        },
        {
          "output_type": "execute_result",
          "data": {
            "text/plain": [
              "135"
            ]
          },
          "metadata": {},
          "execution_count": 95
        }
      ]
    },
    {
      "cell_type": "code",
      "source": [
        "_2806_files = glob.glob(url + '/users_timeXYZ/users' + '/2806' + '/*.csv')\n",
        "len(_2806_files )"
      ],
      "metadata": {
        "colab": {
          "base_uri": "https://localhost:8080/"
        },
        "id": "nXfUsi5O9mXC",
        "outputId": "cc0c2092-3fb8-49be-b01c-b8e311d1e6c8"
      },
      "execution_count": 97,
      "outputs": [
        {
          "output_type": "execute_result",
          "data": {
            "text/plain": [
              "29"
            ]
          },
          "metadata": {},
          "execution_count": 97
        }
      ]
    },
    {
      "cell_type": "code",
      "source": [
        "_2807_files = glob.glob(url + '/users_timeXYZ/users' + '/2807' + '/*.csv')\n",
        "len(_2807_files )"
      ],
      "metadata": {
        "colab": {
          "base_uri": "https://localhost:8080/"
        },
        "id": "Q7JwoMIL_W4L",
        "outputId": "2bf3843a-5899-40a9-a798-b07f3a1ffeb0"
      },
      "execution_count": 98,
      "outputs": [
        {
          "output_type": "execute_result",
          "data": {
            "text/plain": [
              "2154"
            ]
          },
          "metadata": {},
          "execution_count": 98
        }
      ]
    },
    {
      "cell_type": "code",
      "source": [
        "_2808_files = glob.glob(url + '/users_timeXYZ/users' + '/2808' + '/*.csv')\n",
        "len(_2808_files )"
      ],
      "metadata": {
        "colab": {
          "base_uri": "https://localhost:8080/"
        },
        "id": "Rb2lV_jQ_aOp",
        "outputId": "b033c0b9-128a-4797-ad27-eaf14d2ab015"
      },
      "execution_count": 99,
      "outputs": [
        {
          "output_type": "execute_result",
          "data": {
            "text/plain": [
              "47"
            ]
          },
          "metadata": {},
          "execution_count": 99
        }
      ]
    },
    {
      "cell_type": "code",
      "source": [
        "_2809_files = glob.glob(url + '/users_timeXYZ/users' + '/2809' + '/*.csv')\n",
        "len(_2809_files )"
      ],
      "metadata": {
        "colab": {
          "base_uri": "https://localhost:8080/"
        },
        "id": "bO0M6Y09_gBH",
        "outputId": "bf1367dc-2fec-4cb5-ebfe-69358d0ac385"
      },
      "execution_count": 100,
      "outputs": [
        {
          "output_type": "execute_result",
          "data": {
            "text/plain": [
              "42"
            ]
          },
          "metadata": {},
          "execution_count": 100
        }
      ]
    },
    {
      "cell_type": "code",
      "source": [
        "_2810_files = glob.glob(url + '/users_timeXYZ/users' + '/2810' + '/*.csv')\n",
        "len(_2810_files)"
      ],
      "metadata": {
        "colab": {
          "base_uri": "https://localhost:8080/"
        },
        "id": "pZLH5r88_j0T",
        "outputId": "ea6c7af2-491f-444c-81ba-69a663d058b7"
      },
      "execution_count": 101,
      "outputs": [
        {
          "output_type": "execute_result",
          "data": {
            "text/plain": [
              "89"
            ]
          },
          "metadata": {},
          "execution_count": 101
        }
      ]
    },
    {
      "cell_type": "code",
      "source": [
        "_2811_files = glob.glob(url + '/users_timeXYZ/users' + '/2811' + '/*.csv')\n",
        "len(_2811_files)"
      ],
      "metadata": {
        "colab": {
          "base_uri": "https://localhost:8080/"
        },
        "id": "g38jRsfE_lkj",
        "outputId": "238c28d4-e80a-42fc-a2fb-5b29b250b1b7"
      },
      "execution_count": 102,
      "outputs": [
        {
          "output_type": "execute_result",
          "data": {
            "text/plain": [
              "44"
            ]
          },
          "metadata": {},
          "execution_count": 102
        }
      ]
    },
    {
      "cell_type": "code",
      "source": [
        "_2812_files = glob.glob(url + '/users_timeXYZ/users' + '/2812' + '/*.csv')\n",
        "len(_2812_files)\n",
        "\n"
      ],
      "metadata": {
        "colab": {
          "base_uri": "https://localhost:8080/"
        },
        "id": "1P93pYgq_ntV",
        "outputId": "8de5635a-0e92-479b-f976-968cb8fc133f"
      },
      "execution_count": 103,
      "outputs": [
        {
          "output_type": "execute_result",
          "data": {
            "text/plain": [
              "243"
            ]
          },
          "metadata": {},
          "execution_count": 103
        }
      ]
    },
    {
      "cell_type": "code",
      "source": [
        "_2813_files = glob.glob(url + '/users_timeXYZ/users' + '/2813' + '/*.csv')\n",
        "len(_2813_files)\n",
        "\n"
      ],
      "metadata": {
        "colab": {
          "base_uri": "https://localhost:8080/"
        },
        "id": "gDUxjD6H_pm4",
        "outputId": "f11ce738-28b4-4e6a-dac4-466047d67283"
      },
      "execution_count": 104,
      "outputs": [
        {
          "output_type": "execute_result",
          "data": {
            "text/plain": [
              "136"
            ]
          },
          "metadata": {},
          "execution_count": 104
        }
      ]
    },
    {
      "cell_type": "code",
      "source": [
        "_2814_files = glob.glob(url + '/users_timeXYZ/users' + '/2814' + '/*.csv')\n",
        "len(_2814_files)\n",
        "\n"
      ],
      "metadata": {
        "colab": {
          "base_uri": "https://localhost:8080/"
        },
        "id": "xPLf_k7J_rSY",
        "outputId": "e0dacbe1-3fb3-4c6e-df0a-4444659cda30"
      },
      "execution_count": 105,
      "outputs": [
        {
          "output_type": "execute_result",
          "data": {
            "text/plain": [
              "69"
            ]
          },
          "metadata": {},
          "execution_count": 105
        }
      ]
    },
    {
      "cell_type": "code",
      "source": [
        "_2815_files = glob.glob(url + '/users_timeXYZ/users' + '/2815' + '/*.csv')\n",
        "len(_2815_files)\n",
        "\n"
      ],
      "metadata": {
        "colab": {
          "base_uri": "https://localhost:8080/"
        },
        "id": "zfrcnBi7_sq9",
        "outputId": "b9c8b54d-0a2c-44f4-8eef-8b035914b4d8"
      },
      "execution_count": 106,
      "outputs": [
        {
          "output_type": "execute_result",
          "data": {
            "text/plain": [
              "114"
            ]
          },
          "metadata": {},
          "execution_count": 106
        }
      ]
    },
    {
      "cell_type": "code",
      "source": [
        "_2816_files = glob.glob(url + '/users_timeXYZ/users' + '/2816' + '/*.csv')\n",
        "len(_2816_files)\n",
        "\n"
      ],
      "metadata": {
        "colab": {
          "base_uri": "https://localhost:8080/"
        },
        "id": "6D1E8Sxx_uAQ",
        "outputId": "e101f3d9-b8ed-4e0b-82d5-a1a67b5c0c16"
      },
      "execution_count": 107,
      "outputs": [
        {
          "output_type": "execute_result",
          "data": {
            "text/plain": [
              "121"
            ]
          },
          "metadata": {},
          "execution_count": 107
        }
      ]
    },
    {
      "cell_type": "code",
      "source": [
        "_2819_files = glob.glob(url + '/users_timeXYZ/users' + '/2819' + '/*.csv')\n",
        "len(_2819_files)\n",
        "\n"
      ],
      "metadata": {
        "colab": {
          "base_uri": "https://localhost:8080/"
        },
        "id": "UwxrGe-x_u89",
        "outputId": "df09455d-1c9c-4bbf-d5f2-af03a6215884"
      },
      "execution_count": 108,
      "outputs": [
        {
          "output_type": "execute_result",
          "data": {
            "text/plain": [
              "4"
            ]
          },
          "metadata": {},
          "execution_count": 108
        }
      ]
    },
    {
      "cell_type": "code",
      "source": [
        "_2830_files = glob.glob(url + '/users_timeXYZ/users' + '/2830' + '/*.csv')\n",
        "len(_2830_files)\n",
        "\n"
      ],
      "metadata": {
        "colab": {
          "base_uri": "https://localhost:8080/"
        },
        "id": "yAcQa3w4_vzU",
        "outputId": "8770ebcb-3adf-4d1c-a4c4-f86256d82077"
      },
      "execution_count": 109,
      "outputs": [
        {
          "output_type": "execute_result",
          "data": {
            "text/plain": [
              "253"
            ]
          },
          "metadata": {},
          "execution_count": 109
        }
      ]
    },
    {
      "cell_type": "code",
      "source": [
        "_38_files = glob.glob(url + '/users_timeXYZ/users' + '/38' + '/*.csv')\n",
        "len(_38_files)"
      ],
      "metadata": {
        "colab": {
          "base_uri": "https://localhost:8080/"
        },
        "id": "b5GxgKGO_wcL",
        "outputId": "295f9d98-c653-4d45-a6b0-49e98cc2e42b"
      },
      "execution_count": 110,
      "outputs": [
        {
          "output_type": "execute_result",
          "data": {
            "text/plain": [
              "5"
            ]
          },
          "metadata": {},
          "execution_count": 110
        }
      ]
    },
    {
      "cell_type": "markdown",
      "source": [
        "## Join accelerometer data per files"
      ],
      "metadata": {
        "id": "Sae5HzbcAPa5"
      }
    },
    {
      "cell_type": "code",
      "source": [
        "_2803_files"
      ],
      "metadata": {
        "id": "RzOSFVI_AYPP"
      },
      "execution_count": null,
      "outputs": []
    }
  ]
}